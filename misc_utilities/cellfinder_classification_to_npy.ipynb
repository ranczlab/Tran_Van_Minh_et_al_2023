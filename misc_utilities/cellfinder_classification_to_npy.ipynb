{
 "cells": [
  {
   "cell_type": "code",
   "execution_count": 1,
   "metadata": {},
   "outputs": [],
   "source": [
    "import numpy as np\n",
    "import pandas as pd"
   ]
  },
  {
   "cell_type": "code",
   "execution_count": 4,
   "metadata": {},
   "outputs": [],
   "source": [
    "mouse = 'ERAB23_1b'\n",
    "file = f'/camp/lab/rancze/working/tranvaa/brainsaw/classification/{mouse}/channel_1_inputs_v5_thr8/analysis/all_points.csv'\n",
    "df = pd.read_csv(file)"
   ]
  },
  {
   "cell_type": "code",
   "execution_count": 5,
   "metadata": {},
   "outputs": [
    {
     "data": {
      "text/html": [
       "<div>\n",
       "<style scoped>\n",
       "    .dataframe tbody tr th:only-of-type {\n",
       "        vertical-align: middle;\n",
       "    }\n",
       "\n",
       "    .dataframe tbody tr th {\n",
       "        vertical-align: top;\n",
       "    }\n",
       "\n",
       "    .dataframe thead th {\n",
       "        text-align: right;\n",
       "    }\n",
       "</style>\n",
       "<table border=\"1\" class=\"dataframe\">\n",
       "  <thead>\n",
       "    <tr style=\"text-align: right;\">\n",
       "      <th></th>\n",
       "      <th>coordinate_raw_axis_0</th>\n",
       "      <th>coordinate_raw_axis_1</th>\n",
       "      <th>coordinate_raw_axis_2</th>\n",
       "      <th>coordinate_atlas_axis_0</th>\n",
       "      <th>coordinate_atlas_axis_1</th>\n",
       "      <th>coordinate_atlas_axis_2</th>\n",
       "      <th>structure_name</th>\n",
       "      <th>hemisphere</th>\n",
       "    </tr>\n",
       "  </thead>\n",
       "  <tbody>\n",
       "    <tr>\n",
       "      <th>0</th>\n",
       "      <td>11</td>\n",
       "      <td>3566</td>\n",
       "      <td>4310</td>\n",
       "      <td>1069</td>\n",
       "      <td>422</td>\n",
       "      <td>667</td>\n",
       "      <td>Parabrachial nucleus</td>\n",
       "      <td>left</td>\n",
       "    </tr>\n",
       "    <tr>\n",
       "      <th>1</th>\n",
       "      <td>10</td>\n",
       "      <td>3707</td>\n",
       "      <td>4081</td>\n",
       "      <td>1071</td>\n",
       "      <td>437</td>\n",
       "      <td>694</td>\n",
       "      <td>Parabrachial nucleus</td>\n",
       "      <td>left</td>\n",
       "    </tr>\n",
       "    <tr>\n",
       "      <th>2</th>\n",
       "      <td>13</td>\n",
       "      <td>3566</td>\n",
       "      <td>4332</td>\n",
       "      <td>1069</td>\n",
       "      <td>422</td>\n",
       "      <td>666</td>\n",
       "      <td>Midbrain trigeminal nucleus</td>\n",
       "      <td>left</td>\n",
       "    </tr>\n",
       "    <tr>\n",
       "      <th>3</th>\n",
       "      <td>16</td>\n",
       "      <td>3677</td>\n",
       "      <td>4224</td>\n",
       "      <td>1066</td>\n",
       "      <td>434</td>\n",
       "      <td>678</td>\n",
       "      <td>Parabrachial nucleus</td>\n",
       "      <td>left</td>\n",
       "    </tr>\n",
       "    <tr>\n",
       "      <th>4</th>\n",
       "      <td>17</td>\n",
       "      <td>3461</td>\n",
       "      <td>4370</td>\n",
       "      <td>1067</td>\n",
       "      <td>409</td>\n",
       "      <td>660</td>\n",
       "      <td>Parabrachial nucleus</td>\n",
       "      <td>left</td>\n",
       "    </tr>\n",
       "  </tbody>\n",
       "</table>\n",
       "</div>"
      ],
      "text/plain": [
       "   coordinate_raw_axis_0  coordinate_raw_axis_1  coordinate_raw_axis_2  \\\n",
       "0                     11                   3566                   4310   \n",
       "1                     10                   3707                   4081   \n",
       "2                     13                   3566                   4332   \n",
       "3                     16                   3677                   4224   \n",
       "4                     17                   3461                   4370   \n",
       "\n",
       "   coordinate_atlas_axis_0  coordinate_atlas_axis_1  coordinate_atlas_axis_2  \\\n",
       "0                     1069                      422                      667   \n",
       "1                     1071                      437                      694   \n",
       "2                     1069                      422                      666   \n",
       "3                     1066                      434                      678   \n",
       "4                     1067                      409                      660   \n",
       "\n",
       "                structure_name hemisphere  \n",
       "0         Parabrachial nucleus       left  \n",
       "1         Parabrachial nucleus       left  \n",
       "2  Midbrain trigeminal nucleus       left  \n",
       "3         Parabrachial nucleus       left  \n",
       "4         Parabrachial nucleus       left  "
      ]
     },
     "execution_count": 5,
     "metadata": {},
     "output_type": "execute_result"
    }
   ],
   "source": [
    "df.head()"
   ]
  },
  {
   "cell_type": "code",
   "execution_count": 25,
   "metadata": {},
   "outputs": [
    {
     "data": {
      "text/html": [
       "<div>\n",
       "<style scoped>\n",
       "    .dataframe tbody tr th:only-of-type {\n",
       "        vertical-align: middle;\n",
       "    }\n",
       "\n",
       "    .dataframe tbody tr th {\n",
       "        vertical-align: top;\n",
       "    }\n",
       "\n",
       "    .dataframe thead th {\n",
       "        text-align: right;\n",
       "    }\n",
       "</style>\n",
       "<table border=\"1\" class=\"dataframe\">\n",
       "  <thead>\n",
       "    <tr style=\"text-align: right;\">\n",
       "      <th></th>\n",
       "      <th>coordinate_raw_axis_0</th>\n",
       "      <th>coordinate_raw_axis_1</th>\n",
       "      <th>coordinate_raw_axis_2</th>\n",
       "      <th>coordinate_atlas_axis_0</th>\n",
       "      <th>coordinate_atlas_axis_1</th>\n",
       "      <th>coordinate_atlas_axis_2</th>\n",
       "      <th>structure_name</th>\n",
       "      <th>hemisphere</th>\n",
       "    </tr>\n",
       "  </thead>\n",
       "  <tbody>\n",
       "  </tbody>\n",
       "</table>\n",
       "</div>"
      ],
      "text/plain": [
       "Empty DataFrame\n",
       "Columns: [coordinate_raw_axis_0, coordinate_raw_axis_1, coordinate_raw_axis_2, coordinate_atlas_axis_0, coordinate_atlas_axis_1, coordinate_atlas_axis_2, structure_name, hemisphere]\n",
       "Index: []"
      ]
     },
     "execution_count": 25,
     "metadata": {},
     "output_type": "execute_result"
    }
   ],
   "source": [
    " df[(df.iloc[:,0:5] < 0).all(1)]"
   ]
  },
  {
   "cell_type": "code",
   "execution_count": 16,
   "metadata": {},
   "outputs": [
    {
     "data": {
      "text/plain": [
       "coordinate_raw_axis_0                 1978\n",
       "coordinate_raw_axis_1                 5696\n",
       "coordinate_raw_axis_2                 9842\n",
       "coordinate_atlas_axis_0               1069\n",
       "coordinate_atlas_axis_1                684\n",
       "coordinate_atlas_axis_2                570\n",
       "structure_name             third ventricle\n",
       "hemisphere                           right\n",
       "dtype: object"
      ]
     },
     "execution_count": 16,
     "metadata": {},
     "output_type": "execute_result"
    }
   ],
   "source": [
    "df[df['hemisphere'] == 'right'].max()"
   ]
  },
  {
   "cell_type": "code",
   "execution_count": 17,
   "metadata": {},
   "outputs": [
    {
     "data": {
      "text/plain": [
       "coordinate_raw_axis_0                                      1891\n",
       "coordinate_raw_axis_1                                      6100\n",
       "coordinate_raw_axis_2                                      5274\n",
       "coordinate_atlas_axis_0                                    1077\n",
       "coordinate_atlas_axis_1                                     730\n",
       "coordinate_atlas_axis_2                                    1079\n",
       "structure_name             sensory root of the trigeminal nerve\n",
       "hemisphere                                                 left\n",
       "dtype: object"
      ]
     },
     "execution_count": 17,
     "metadata": {},
     "output_type": "execute_result"
    }
   ],
   "source": [
    "df[df['hemisphere'] == 'left'].max()"
   ]
  },
  {
   "cell_type": "code",
   "execution_count": 3,
   "metadata": {},
   "outputs": [],
   "source": [
    "fp = f'/camp/lab/rancze/working/tranvaa/brainsaw/classification/{mouse}/channel_1_inputs_v5_thr8/points/points.npy'"
   ]
  },
  {
   "cell_type": "code",
   "execution_count": 6,
   "metadata": {},
   "outputs": [],
   "source": [
    "pts = np.load(fp)"
   ]
  },
  {
   "cell_type": "code",
   "execution_count": 8,
   "metadata": {},
   "outputs": [
    {
     "data": {
      "text/plain": [
       "-310.0"
      ]
     },
     "execution_count": 8,
     "metadata": {},
     "output_type": "execute_result"
    }
   ],
   "source": [
    "pts.min()"
   ]
  },
  {
   "cell_type": "code",
   "execution_count": 12,
   "metadata": {},
   "outputs": [
    {
     "data": {
      "text/plain": [
       "array([10820.,  7670., 10790.])"
      ]
     },
     "execution_count": 12,
     "metadata": {},
     "output_type": "execute_result"
    }
   ],
   "source": [
    "pts.max(axis= 0)"
   ]
  },
  {
   "cell_type": "code",
   "execution_count": 18,
   "metadata": {},
   "outputs": [
    {
     "data": {
      "text/plain": [
       "array([1170., -310.,  400.])"
      ]
     },
     "execution_count": 18,
     "metadata": {},
     "output_type": "execute_result"
    }
   ],
   "source": [
    "pts.min(axis= 0)"
   ]
  }
 ],
 "metadata": {
  "kernelspec": {
   "display_name": "Python (nxenv)",
   "language": "python",
   "name": "nxenv"
  },
  "language_info": {
   "codemirror_mode": {
    "name": "ipython",
    "version": 3
   },
   "file_extension": ".py",
   "mimetype": "text/x-python",
   "name": "python",
   "nbconvert_exporter": "python",
   "pygments_lexer": "ipython3",
   "version": "3.6.10"
  }
 },
 "nbformat": 4,
 "nbformat_minor": 2
}
