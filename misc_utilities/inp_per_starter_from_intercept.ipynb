{
 "cells": [
  {
   "cell_type": "code",
   "execution_count": 1,
   "metadata": {},
   "outputs": [],
   "source": [
    "import numpy as np\n",
    "import os\n",
    "import pandas as pd\n",
    "import matplotlib.pyplot as plt\n",
    "# import plotly.express as px\n",
    "import seaborn as sns\n",
    "import pickle\n",
    "from pathlib import Path\n",
    "\n",
    "hfont = {'fontname':'Myriad Pro'}\n",
    "import matplotlib.ticker as mtick\n",
    "from matplotlib import gridspec\n",
    "import matplotlib.colors as colors\n",
    "import sys\n",
    "sys.path.append(os.path.join(Path(os.getcwd()).parents[0], \"functions\"))\n",
    "import warnings\n",
    "warnings.filterwarnings('ignore')\n",
    "import helper_functions as hfn\n",
    "import inputfraction_functions as fracfn"
   ]
  },
  {
   "cell_type": "code",
   "execution_count": 2,
   "metadata": {},
   "outputs": [],
   "source": [
    "path = Path(os.getcwd()).parents[0]\n",
    "\n",
    "fracpath = os.path.join(path, 'input_fraction')\n",
    "fracpath_csv = os.path.join(fracpath, 'csv')\n",
    "\n",
    "paramspath = os.path.join(path, 'compare_linfit_params')\n",
    "\n",
    "pathrawdata = os.path.join(path, 'current_data')\n",
    "pathlist = os.path.join(pathrawdata, 'lists')"
   ]
  },
  {
   "cell_type": "code",
   "execution_count": 3,
   "metadata": {},
   "outputs": [],
   "source": [
    "areas_sel = ['VISp','VISpm','VISl', 'VISam', 'VISal', 'RSPagl', 'RSPd', 'RSPv', 'AM', 'LD', 'LP', 'LGd', 'ORB', 'ACA', 'MOs', 'CLA', 'PTLp', 'TEa', 'AUD']\n",
    "areas_sel_noLGd = ['VISp','VISpm','VISl', 'VISam', 'VISal', 'RSPagl', 'RSPd', 'RSPv', 'AM', 'LD', 'LP', 'ORB', 'ACA', 'MOs', 'CLA', 'PTLp', 'TEa', 'AUD']"
   ]
  },
  {
   "cell_type": "code",
   "execution_count": 4,
   "metadata": {},
   "outputs": [],
   "source": [
    "df_int_all_boot = pd.read_csv(os.path.join(paramspath, 'dfboot_int_all_targets.csv'))\n",
    "df_slope_all_boot = pd.read_csv(os.path.join(paramspath, 'dfboot_slope_all_targets.csv'))\n",
    "df_int_all_lin_boot = pd.read_csv(os.path.join(paramspath, 'dfboot_int_all_targets_lin.csv'))\n",
    "df_slope_all_lin_boot = pd.read_csv(os.path.join(paramspath, 'dfboot_slope_all_targets_lin.csv'))"
   ]
  },
  {
   "cell_type": "code",
   "execution_count": 5,
   "metadata": {},
   "outputs": [],
   "source": [
    "df_int_V1_boot = pd.read_csv(os.path.join(paramspath, 'dfboot_int_targets_V1.csv'))\n",
    "df_slope_V1_boot = pd.read_csv(os.path.join(paramspath, 'dfboot_slope_targets_V1.csv'))\n",
    "df_int_V1_lin_boot = pd.read_csv(os.path.join(paramspath, 'dfboot_int_targets_V1_lin.csv'))\n",
    "df_slope_V1_lin_boot = pd.read_csv(os.path.join(paramspath, 'dfboot_slope_targets_V1_lin.csv'))"
   ]
  },
  {
   "cell_type": "code",
   "execution_count": 6,
   "metadata": {},
   "outputs": [],
   "source": [
    "df_int_PM_boot = pd.read_csv(os.path.join(paramspath, 'dfboot_int_targets_PM.csv'))\n",
    "df_slope_PM_boot = pd.read_csv(os.path.join(paramspath, 'dfboot_slope_targets_PM.csv'))\n",
    "df_int_PM_lin_boot = pd.read_csv(os.path.join(paramspath, 'dfboot_int_targets_PM_lin.csv'))\n",
    "df_slope_PM_lin_boot = pd.read_csv(os.path.join(paramspath, 'dfboot_slope_targets_PM_lin.csv'))"
   ]
  },
  {
   "cell_type": "code",
   "execution_count": 7,
   "metadata": {},
   "outputs": [],
   "source": [
    "df_int_all_boot = df_int_all_boot[areas_sel_noLGd]\n",
    "df_slope_all_boot = df_slope_all_boot[areas_sel_noLGd]"
   ]
  },
  {
   "cell_type": "code",
   "execution_count": 8,
   "metadata": {},
   "outputs": [],
   "source": [
    "df_int_all_boot = df_int_all_boot[areas_sel_noLGd]\n",
    "df_slope_all_boot = df_slope_all_boot[areas_sel_noLGd]"
   ]
  },
  {
   "cell_type": "code",
   "execution_count": 9,
   "metadata": {},
   "outputs": [],
   "source": [
    "df_int_all_boot = df_int_all_boot.apply(lambda x: 10**x)\n",
    "df_slope_all_boot = df_slope_all_boot.apply(lambda x: 10**x)"
   ]
  },
  {
   "cell_type": "code",
   "execution_count": 10,
   "metadata": {},
   "outputs": [],
   "source": [
    "df_int_V1_boot = df_int_V1_boot[areas_sel_noLGd]\n",
    "df_slope_V1_boot = df_slope_V1_boot[areas_sel_noLGd]\n",
    "df_int_PM_boot = df_int_PM_boot[areas_sel_noLGd]\n",
    "df_slope_PM_boot = df_slope_PM_boot[areas_sel_noLGd]\n"
   ]
  },
  {
   "cell_type": "code",
   "execution_count": 11,
   "metadata": {},
   "outputs": [],
   "source": [
    "# df_int_PM_lin_boot = df_int_PM_lin_boot.apply(lambda x:np.log10(x))\n",
    "# df_int_V1_lin_boot = df_int_V1_lin_boot.apply(lambda x:np.log10(x))"
   ]
  },
  {
   "cell_type": "code",
   "execution_count": 12,
   "metadata": {},
   "outputs": [],
   "source": [
    "# df_int_PM_log = pd.concat([df_int_PM_boot, df_int_PM_lin_boot], axis = 1)\n",
    "# df_int_V1_log = pd.concat([df_int_V1_boot, df_int_V1_lin_boot], axis = 1)"
   ]
  },
  {
   "cell_type": "code",
   "execution_count": 13,
   "metadata": {},
   "outputs": [],
   "source": [
    "\n",
    "df_int_V1_boot = df_int_V1_boot.apply(lambda x: 10**x)\n",
    "df_slope_V1_boot = df_slope_V1_boot.apply(lambda x: 10**x)\n",
    "\n",
    "df_int_PM_boot = df_int_PM_boot.apply(lambda x: 10**x)\n",
    "df_slope_PM_boot = df_slope_PM_boot.apply(lambda x: 10**x)"
   ]
  },
  {
   "cell_type": "code",
   "execution_count": 14,
   "metadata": {},
   "outputs": [],
   "source": [
    "df_int_all_boot = pd.concat([df_int_all_boot, df_int_all_lin_boot[['LGd']]], axis = 1)\n",
    "df_slope_all_boot = pd.concat([df_slope_all_boot, df_slope_all_lin_boot[['LGd']]], axis = 1)"
   ]
  },
  {
   "cell_type": "code",
   "execution_count": 15,
   "metadata": {},
   "outputs": [],
   "source": [
    "df_int_V1_boot = pd.concat([df_int_V1_boot, df_int_V1_lin_boot[['LGd']]], axis = 1)\n",
    "df_slope_V1_boot = pd.concat([df_slope_V1_boot, df_slope_V1_lin_boot[['LGd']]], axis = 1)\n",
    "\n",
    "df_int_PM_boot = pd.concat([df_int_PM_boot, df_int_PM_lin_boot[['LGd']]], axis = 1)\n",
    "df_slope_PM_boot = pd.concat([df_slope_PM_boot, df_slope_PM_lin_boot[['LGd']]], axis = 1)"
   ]
  },
  {
   "cell_type": "code",
   "execution_count": 16,
   "metadata": {},
   "outputs": [],
   "source": [
    "int_pars = []\n",
    "slope_pars = []\n",
    "int_pars_V1 = []\n",
    "int_pars_PM = []\n",
    "for area in areas_sel:\n",
    "    int_pars.append({'area':area, 'mean':df_int_all_boot[area].mean(), 'CI95_low': df_int_all_boot[area].quantile(0.025), 'CI95_high': df_int_all_boot[area].quantile(0.975), 'sd' : df_int_all_boot[area].std()})\n",
    "    int_pars_V1.append({'area':area, 'mean':df_int_V1_boot[area].mean(), 'CI95_low': df_int_V1_boot[area].quantile(0.025), 'CI95_high': df_int_V1_boot[area].quantile(0.975), 'sd' : df_int_V1_boot[area].std()})\n",
    "    int_pars_PM.append({'area':area, 'mean':df_int_PM_boot[area].mean(), 'CI95_low': df_int_PM_boot[area].quantile(0.025), 'CI95_high': df_int_PM_boot[area].quantile(0.975), 'sd' : df_int_PM_boot[area].std()})\n",
    "\n",
    "    \n",
    "    slope_pars.append({'area':area, 'mean':df_slope_all_boot[area].mean(), 'CI95_low': df_slope_all_boot[area].quantile(0.025), 'CI95_high': df_slope_all_boot[area].quantile(0.975)})\n"
   ]
  },
  {
   "cell_type": "code",
   "execution_count": 17,
   "metadata": {},
   "outputs": [],
   "source": [
    "int_pars_df = pd.DataFrame(int_pars)\n",
    "int_pars_V1_df = pd.DataFrame(int_pars_V1)\n",
    "int_pars_PM_df = pd.DataFrame(int_pars_PM)\n",
    "slope_pars_df = pd.DataFrame(slope_pars)"
   ]
  },
  {
   "cell_type": "code",
   "execution_count": 18,
   "metadata": {},
   "outputs": [],
   "source": [
    "int_pars_df['errm']=int_pars_df['mean']-int_pars_df['CI95_low']\n",
    "int_pars_V1_df['errm']=int_pars_V1_df['mean']-int_pars_V1_df['CI95_low']\n",
    "int_pars_PM_df['errm']=int_pars_PM_df['mean']-int_pars_PM_df['CI95_low']\n",
    "int_pars_df['errp']=int_pars_df['CI95_high']-int_pars_df['mean']\n",
    "int_pars_V1_df['errp']=int_pars_V1_df['CI95_high']-int_pars_V1_df['mean']\n",
    "int_pars_PM_df['errp']=int_pars_PM_df['CI95_high']-int_pars_PM_df['mean']"
   ]
  },
  {
   "cell_type": "code",
   "execution_count": 19,
   "metadata": {},
   "outputs": [],
   "source": [
    "slope_pars_df['errm']=slope_pars_df['mean']-slope_pars_df['CI95_low']\n",
    "slope_pars_df['errp']=slope_pars_df['CI95_high']-slope_pars_df['mean']"
   ]
  },
  {
   "cell_type": "code",
   "execution_count": 20,
   "metadata": {},
   "outputs": [
    {
     "data": {
      "text/plain": [
       "<ErrorbarContainer object of 3 artists>"
      ]
     },
     "execution_count": 20,
     "metadata": {},
     "output_type": "execute_result"
    },
    {
     "data": {
      "image/png": "[encoded data removed]",
      "text/plain": [
       "<Figure size 640x480 with 1 Axes>"
      ]
     },
     "metadata": {},
     "output_type": "display_data"
    }
   ],
   "source": [
    "sns.barplot(data = int_pars_df,  x = 'area', y ='mean', color = 'yellowgreen')\n",
    "\n",
    "plt.errorbar(np.arange(int_pars_df.shape[0]), y = int_pars_df['mean'].values, yerr = [int_pars_df['errm'].values,int_pars_df['errp'].values], c= 'k',fmt='none')\n"
   ]
  },
  {
   "cell_type": "code",
   "execution_count": 21,
   "metadata": {},
   "outputs": [
    {
     "data": {
      "text/plain": [
       "<ErrorbarContainer object of 3 artists>"
      ]
     },
     "execution_count": 21,
     "metadata": {},
     "output_type": "execute_result"
    },
    {
     "data": {
      "image/png": "[encoded data removed]",
      "text/plain": [
       "<Figure size 640x480 with 1 Axes>"
      ]
     },
     "metadata": {},
     "output_type": "display_data"
    }
   ],
   "source": [
    "sns.barplot(data = int_pars_df,  x = 'area', y ='mean', color = 'yellowgreen')\n",
    "\n",
    "plt.errorbar(np.arange(int_pars_df.shape[0]), y = int_pars_df['mean'].values, yerr = [int_pars_df['sd'],int_pars_df['sd']], c= 'k',fmt='none')\n"
   ]
  },
  {
   "cell_type": "code",
   "execution_count": 22,
   "metadata": {},
   "outputs": [
    {
     "data": {
      "text/html": [
       "<div>\n",
       "<style scoped>\n",
       "    .dataframe tbody tr th:only-of-type {\n",
       "        vertical-align: middle;\n",
       "    }\n",
       "\n",
       "    .dataframe tbody tr th {\n",
       "        vertical-align: top;\n",
       "    }\n",
       "\n",
       "    .dataframe thead th {\n",
       "        text-align: right;\n",
       "    }\n",
       "</style>\n",
       "<table border=\"1\" class=\"dataframe\">\n",
       "  <thead>\n",
       "    <tr style=\"text-align: right;\">\n",
       "      <th></th>\n",
       "      <th>area</th>\n",
       "      <th>mean</th>\n",
       "      <th>CI95_low</th>\n",
       "      <th>CI95_high</th>\n",
       "      <th>sd</th>\n",
       "      <th>errm</th>\n",
       "      <th>errp</th>\n",
       "    </tr>\n",
       "  </thead>\n",
       "  <tbody>\n",
       "    <tr>\n",
       "      <th>0</th>\n",
       "      <td>VISp</td>\n",
       "      <td>486.894368</td>\n",
       "      <td>222.167727</td>\n",
       "      <td>822.761901</td>\n",
       "      <td>154.734368</td>\n",
       "      <td>264.726642</td>\n",
       "      <td>335.867533</td>\n",
       "    </tr>\n",
       "    <tr>\n",
       "      <th>1</th>\n",
       "      <td>VISpm</td>\n",
       "      <td>82.781198</td>\n",
       "      <td>34.821567</td>\n",
       "      <td>171.415234</td>\n",
       "      <td>34.980607</td>\n",
       "      <td>47.959631</td>\n",
       "      <td>88.634036</td>\n",
       "    </tr>\n",
       "    <tr>\n",
       "      <th>2</th>\n",
       "      <td>VISl</td>\n",
       "      <td>27.097318</td>\n",
       "      <td>7.055648</td>\n",
       "      <td>68.797199</td>\n",
       "      <td>16.008912</td>\n",
       "      <td>20.041669</td>\n",
       "      <td>41.699882</td>\n",
       "    </tr>\n",
       "    <tr>\n",
       "      <th>3</th>\n",
       "      <td>VISam</td>\n",
       "      <td>29.659056</td>\n",
       "      <td>6.516651</td>\n",
       "      <td>86.479715</td>\n",
       "      <td>21.589120</td>\n",
       "      <td>23.142405</td>\n",
       "      <td>56.820658</td>\n",
       "    </tr>\n",
       "    <tr>\n",
       "      <th>4</th>\n",
       "      <td>VISal</td>\n",
       "      <td>32.319172</td>\n",
       "      <td>12.065883</td>\n",
       "      <td>70.946940</td>\n",
       "      <td>15.311928</td>\n",
       "      <td>20.253289</td>\n",
       "      <td>38.627767</td>\n",
       "    </tr>\n",
       "    <tr>\n",
       "      <th>5</th>\n",
       "      <td>RSPagl</td>\n",
       "      <td>58.265289</td>\n",
       "      <td>22.106806</td>\n",
       "      <td>127.603130</td>\n",
       "      <td>27.166471</td>\n",
       "      <td>36.158483</td>\n",
       "      <td>69.337841</td>\n",
       "    </tr>\n",
       "    <tr>\n",
       "      <th>6</th>\n",
       "      <td>RSPd</td>\n",
       "      <td>108.322683</td>\n",
       "      <td>44.173547</td>\n",
       "      <td>233.258664</td>\n",
       "      <td>50.060541</td>\n",
       "      <td>64.149136</td>\n",
       "      <td>124.935981</td>\n",
       "    </tr>\n",
       "    <tr>\n",
       "      <th>7</th>\n",
       "      <td>RSPv</td>\n",
       "      <td>187.658978</td>\n",
       "      <td>81.396256</td>\n",
       "      <td>370.673784</td>\n",
       "      <td>76.337292</td>\n",
       "      <td>106.262722</td>\n",
       "      <td>183.014806</td>\n",
       "    </tr>\n",
       "    <tr>\n",
       "      <th>8</th>\n",
       "      <td>AM</td>\n",
       "      <td>10.269441</td>\n",
       "      <td>1.626721</td>\n",
       "      <td>31.440308</td>\n",
       "      <td>8.191385</td>\n",
       "      <td>8.642720</td>\n",
       "      <td>21.170867</td>\n",
       "    </tr>\n",
       "    <tr>\n",
       "      <th>9</th>\n",
       "      <td>LD</td>\n",
       "      <td>120.664695</td>\n",
       "      <td>79.749977</td>\n",
       "      <td>191.699985</td>\n",
       "      <td>28.446789</td>\n",
       "      <td>40.914719</td>\n",
       "      <td>71.035289</td>\n",
       "    </tr>\n",
       "    <tr>\n",
       "      <th>10</th>\n",
       "      <td>LP</td>\n",
       "      <td>105.389252</td>\n",
       "      <td>31.503919</td>\n",
       "      <td>256.126021</td>\n",
       "      <td>59.847333</td>\n",
       "      <td>73.885332</td>\n",
       "      <td>150.736769</td>\n",
       "    </tr>\n",
       "    <tr>\n",
       "      <th>11</th>\n",
       "      <td>LGd</td>\n",
       "      <td>447.307099</td>\n",
       "      <td>236.524360</td>\n",
       "      <td>704.459607</td>\n",
       "      <td>120.121352</td>\n",
       "      <td>210.782739</td>\n",
       "      <td>257.152508</td>\n",
       "    </tr>\n",
       "    <tr>\n",
       "      <th>12</th>\n",
       "      <td>ORB</td>\n",
       "      <td>32.328238</td>\n",
       "      <td>10.575024</td>\n",
       "      <td>78.007501</td>\n",
       "      <td>17.955401</td>\n",
       "      <td>21.753214</td>\n",
       "      <td>45.679263</td>\n",
       "    </tr>\n",
       "    <tr>\n",
       "      <th>13</th>\n",
       "      <td>ACA</td>\n",
       "      <td>14.490212</td>\n",
       "      <td>5.910675</td>\n",
       "      <td>32.826623</td>\n",
       "      <td>7.042471</td>\n",
       "      <td>8.579537</td>\n",
       "      <td>18.336412</td>\n",
       "    </tr>\n",
       "    <tr>\n",
       "      <th>14</th>\n",
       "      <td>MOs</td>\n",
       "      <td>7.198990</td>\n",
       "      <td>2.266599</td>\n",
       "      <td>16.407039</td>\n",
       "      <td>3.646894</td>\n",
       "      <td>4.932391</td>\n",
       "      <td>9.208049</td>\n",
       "    </tr>\n",
       "    <tr>\n",
       "      <th>15</th>\n",
       "      <td>CLA</td>\n",
       "      <td>5.572199</td>\n",
       "      <td>2.217570</td>\n",
       "      <td>12.682903</td>\n",
       "      <td>2.793628</td>\n",
       "      <td>3.354630</td>\n",
       "      <td>7.110704</td>\n",
       "    </tr>\n",
       "    <tr>\n",
       "      <th>16</th>\n",
       "      <td>PTLp</td>\n",
       "      <td>15.978718</td>\n",
       "      <td>4.058363</td>\n",
       "      <td>39.602210</td>\n",
       "      <td>9.464939</td>\n",
       "      <td>11.920354</td>\n",
       "      <td>23.623493</td>\n",
       "    </tr>\n",
       "    <tr>\n",
       "      <th>17</th>\n",
       "      <td>TEa</td>\n",
       "      <td>7.275968</td>\n",
       "      <td>2.369975</td>\n",
       "      <td>17.702146</td>\n",
       "      <td>4.089066</td>\n",
       "      <td>4.905994</td>\n",
       "      <td>10.426178</td>\n",
       "    </tr>\n",
       "    <tr>\n",
       "      <th>18</th>\n",
       "      <td>AUD</td>\n",
       "      <td>18.173818</td>\n",
       "      <td>5.579277</td>\n",
       "      <td>46.055949</td>\n",
       "      <td>10.746149</td>\n",
       "      <td>12.594541</td>\n",
       "      <td>27.882131</td>\n",
       "    </tr>\n",
       "  </tbody>\n",
       "</table>\n",
       "</div>"
      ],
      "text/plain": [
       "      area        mean    CI95_low   CI95_high          sd        errm  \\\n",
       "0     VISp  486.894368  222.167727  822.761901  154.734368  264.726642   \n",
       "1    VISpm   82.781198   34.821567  171.415234   34.980607   47.959631   \n",
       "2     VISl   27.097318    7.055648   68.797199   16.008912   20.041669   \n",
       "3    VISam   29.659056    6.516651   86.479715   21.589120   23.142405   \n",
       "4    VISal   32.319172   12.065883   70.946940   15.311928   20.253289   \n",
       "5   RSPagl   58.265289   22.106806  127.603130   27.166471   36.158483   \n",
       "6     RSPd  108.322683   44.173547  233.258664   50.060541   64.149136   \n",
       "7     RSPv  187.658978   81.396256  370.673784   76.337292  106.262722   \n",
       "8       AM   10.269441    1.626721   31.440308    8.191385    8.642720   \n",
       "9       LD  120.664695   79.749977  191.699985   28.446789   40.914719   \n",
       "10      LP  105.389252   31.503919  256.126021   59.847333   73.885332   \n",
       "11     LGd  447.307099  236.524360  704.459607  120.121352  210.782739   \n",
       "12     ORB   32.328238   10.575024   78.007501   17.955401   21.753214   \n",
       "13     ACA   14.490212    5.910675   32.826623    7.042471    8.579537   \n",
       "14     MOs    7.198990    2.266599   16.407039    3.646894    4.932391   \n",
       "15     CLA    5.572199    2.217570   12.682903    2.793628    3.354630   \n",
       "16    PTLp   15.978718    4.058363   39.602210    9.464939   11.920354   \n",
       "17     TEa    7.275968    2.369975   17.702146    4.089066    4.905994   \n",
       "18     AUD   18.173818    5.579277   46.055949   10.746149   12.594541   \n",
       "\n",
       "          errp  \n",
       "0   335.867533  \n",
       "1    88.634036  \n",
       "2    41.699882  \n",
       "3    56.820658  \n",
       "4    38.627767  \n",
       "5    69.337841  \n",
       "6   124.935981  \n",
       "7   183.014806  \n",
       "8    21.170867  \n",
       "9    71.035289  \n",
       "10  150.736769  \n",
       "11  257.152508  \n",
       "12   45.679263  \n",
       "13   18.336412  \n",
       "14    9.208049  \n",
       "15    7.110704  \n",
       "16   23.623493  \n",
       "17   10.426178  \n",
       "18   27.882131  "
      ]
     },
     "execution_count": 22,
     "metadata": {},
     "output_type": "execute_result"
    }
   ],
   "source": [
    "int_pars_V1_df"
   ]
  },
  {
   "cell_type": "code",
   "execution_count": 23,
   "metadata": {},
   "outputs": [
    {
     "data": {
      "text/plain": [
       "<ErrorbarContainer object of 3 artists>"
      ]
     },
     "execution_count": 23,
     "metadata": {},
     "output_type": "execute_result"
    },
    {
     "data": {
      "image/png": "[encoded data removed]",
      "text/plain": [
       "<Figure size 640x480 with 1 Axes>"
      ]
     },
     "metadata": {},
     "output_type": "display_data"
    }
   ],
   "source": [
    "sns.barplot(data = int_pars_V1_df,  x = 'area', y ='mean', color = 'yellowgreen')\n",
    "\n",
    "plt.errorbar(np.arange(int_pars_V1_df.shape[0]), y = int_pars_V1_df['mean'].values, yerr = [int_pars_V1_df['errm'].values,int_pars_V1_df['errp'].values], c= 'k',fmt='none')\n"
   ]
  },
  {
   "cell_type": "code",
   "execution_count": 24,
   "metadata": {},
   "outputs": [
    {
     "data": {
      "text/plain": [
       "<ErrorbarContainer object of 3 artists>"
      ]
     },
     "execution_count": 24,
     "metadata": {},
     "output_type": "execute_result"
    },
    {
     "data": {
      "image/png": "[encoded data removed]",
      "text/plain": [
       "<Figure size 640x480 with 1 Axes>"
      ]
     },
     "metadata": {},
     "output_type": "display_data"
    }
   ],
   "source": [
    "sns.barplot(data = int_pars_PM_df,  x = 'area', y ='mean', color = 'yellowgreen')\n",
    "\n",
    "plt.errorbar(np.arange(int_pars_PM_df.shape[0]), y = int_pars_PM_df['mean'].values, yerr = [int_pars_PM_df['errm'].values,int_pars_PM_df['errp'].values], c= 'k',fmt='none')\n"
   ]
  },
  {
   "cell_type": "code",
   "execution_count": 25,
   "metadata": {},
   "outputs": [
    {
     "data": {
      "text/plain": [
       "<ErrorbarContainer object of 3 artists>"
      ]
     },
     "execution_count": 25,
     "metadata": {},
     "output_type": "execute_result"
    },
    {
     "data": {
      "image/png": "[encoded data removed]",
      "text/plain": [
       "<Figure size 640x480 with 1 Axes>"
      ]
     },
     "metadata": {},
     "output_type": "display_data"
    }
   ],
   "source": [
    "sns.barplot(data = int_pars_PM_df,  x = 'area', y ='mean', color = 'yellowgreen')\n",
    "\n",
    "plt.errorbar(np.arange(int_pars_PM_df.shape[0]), y = int_pars_PM_df['mean'].values, yerr = [int_pars_PM_df['sd'].values,int_pars_PM_df['sd'].values], c= 'k',fmt='none')\n"
   ]
  }
 ],
 "metadata": {
  "kernelspec": {
   "display_name": "Python 3 (ipykernel)",
   "language": "python",
   "name": "python3"
  },
  "language_info": {
   "codemirror_mode": {
    "name": "ipython",
    "version": 3
   },
   "file_extension": ".py",
   "mimetype": "text/x-python",
   "name": "python",
   "nbconvert_exporter": "python",
   "pygments_lexer": "ipython3",
   "version": "3.9.15"
  }
 },
 "nbformat": 4,
 "nbformat_minor": 4
}
