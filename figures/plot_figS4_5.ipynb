{
 "cells": [
  {
   "cell_type": "code",
   "execution_count": 1,
   "metadata": {},
   "outputs": [],
   "source": [
    "import numpy as np\n",
    "import os\n",
    "from pathlib import Path\n",
    "import pandas as pd\n",
    "import matplotlib.pyplot as plt\n",
    "# import plotly.express as px\n",
    "import seaborn as sns\n",
    "import pickle\n",
    "\n",
    "hfont = {'fontname':'Myriad Pro'}\n",
    "import matplotlib.ticker as mtick\n",
    "from matplotlib import gridspec\n",
    "import matplotlib.colors as colors\n",
    "import sys\n",
    "sys.path.append(os.path.join(Path(os.getcwd()).parents[0], \"functions\"))\n",
    "import helper_functions as hfn\n",
    "import inputfraction_functions as fracfn"
   ]
  },
  {
   "cell_type": "code",
   "execution_count": 2,
   "metadata": {},
   "outputs": [],
   "source": [
    "path = Path(os.getcwd()).parents[0]\n",
    "\n",
    "fracpath = os.path.join(path, 'input_fraction')\n",
    "fracpath_csv = os.path.join(fracpath, 'csv')\n",
    "\n",
    "paramspath = os.path.join(path, 'compare_linfit_params')\n",
    "\n",
    "# datapath= os.path.join(path, 'data')\n",
    "\n",
    "figpath = os.path.join(path, 'Figures')\n",
    "hfn.dir_check(figpath)\n",
    "    \n",
    "figs45path = os.path.join(figpath, 'FigS4_5')\n",
    "hfn.dir_check(figs45path)\n",
    "\n",
    "figs45panelpaths = os.path.join(figs45path, 'panels')\n",
    "hfn.dir_check(figs45panelpaths)"
   ]
  },
  {
   "cell_type": "markdown",
   "metadata": {},
   "source": [
    "# Panel A - plot V1 vs PM data based on input fraction"
   ]
  },
  {
   "cell_type": "code",
   "execution_count": 3,
   "metadata": {},
   "outputs": [],
   "source": [
    "areas_sel = ['VISp','VISpm','VISl', 'VISam', 'VISal', 'RSPagl', 'RSPd', 'RSPv', 'AM', 'LD', 'LP', 'LGd', 'ORB', 'ACA', 'MOs', 'CLA', 'PTLp', 'TEa', 'AUD',]"
   ]
  },
  {
   "cell_type": "code",
   "execution_count": 4,
   "metadata": {},
   "outputs": [],
   "source": [
    "df_frac = pd.read_csv(os.path.join(fracpath_csv, 'df_all_fraction.csv'))"
   ]
  },
  {
   "cell_type": "code",
   "execution_count": 5,
   "metadata": {},
   "outputs": [],
   "source": [
    "df_frac.loc[df_frac['starter'] > 200, 'starter_cat'] = 'high'\n",
    "df_frac.loc[df_frac['starter'] < 200, 'starter_cat'] = 'low'"
   ]
  },
  {
   "cell_type": "code",
   "execution_count": 6,
   "metadata": {},
   "outputs": [],
   "source": [
    "df_frac_s = pd.DataFrame()\n",
    "for area in areas_sel:\n",
    "    this_frac = df_frac[['starter', 'starter_cat', 'target area','area', area]].reset_index(drop = True)\n",
    "    this_frac['input_area'] = area\n",
    "    this_frac.columns = ['starter', 'starter_cat','targeted_area','target_area', 'input_fraction', 'area']\n",
    "    df_frac_s = pd.concat([df_frac_s, this_frac], axis = 0).reset_index(drop = True)"
   ]
  },
  {
   "cell_type": "code",
   "execution_count": 7,
   "metadata": {},
   "outputs": [],
   "source": [
    "df_frac_s['grouped_area'] = 'Dist_ctx'\n",
    "df_frac_s.loc[df_frac_s['area'].isin(['VISp', 'VISpm', 'VISl', 'VISam', 'VISal']), 'grouped_area'] = 'VIS'\n",
    "\n",
    "df_frac_s.loc[df_frac_s['area'].isin(['LGd', 'LP', 'LD', 'AM']), 'grouped_area'] = 'Thal'\n",
    "\n",
    "df_frac_s.loc[df_frac_s['area'].isin(['RSPd', 'RSPv', 'RSPagl']), 'grouped_area'] = 'RSP'"
   ]
  },
  {
   "cell_type": "code",
   "execution_count": 9,
   "metadata": {},
   "outputs": [
    {
     "data": {
      "text/html": [
       "<div>\n",
       "<style scoped>\n",
       "    .dataframe tbody tr th:only-of-type {\n",
       "        vertical-align: middle;\n",
       "    }\n",
       "\n",
       "    .dataframe tbody tr th {\n",
       "        vertical-align: top;\n",
       "    }\n",
       "\n",
       "    .dataframe thead th {\n",
       "        text-align: right;\n",
       "    }\n",
       "</style>\n",
       "<table border=\"1\" class=\"dataframe\">\n",
       "  <thead>\n",
       "    <tr style=\"text-align: right;\">\n",
       "      <th></th>\n",
       "      <th>starter</th>\n",
       "      <th>starter_cat</th>\n",
       "      <th>targeted_area</th>\n",
       "      <th>target_area</th>\n",
       "      <th>input_fraction</th>\n",
       "      <th>area</th>\n",
       "      <th>grouped_area</th>\n",
       "    </tr>\n",
       "  </thead>\n",
       "  <tbody>\n",
       "    <tr>\n",
       "      <th>2</th>\n",
       "      <td>8</td>\n",
       "      <td>low</td>\n",
       "      <td>PM</td>\n",
       "      <td>PM</td>\n",
       "      <td>0.146709</td>\n",
       "      <td>VISp</td>\n",
       "      <td>VIS</td>\n",
       "    </tr>\n",
       "    <tr>\n",
       "      <th>8</th>\n",
       "      <td>63</td>\n",
       "      <td>low</td>\n",
       "      <td>PM</td>\n",
       "      <td>PM</td>\n",
       "      <td>0.136444</td>\n",
       "      <td>VISp</td>\n",
       "      <td>VIS</td>\n",
       "    </tr>\n",
       "    <tr>\n",
       "      <th>10</th>\n",
       "      <td>117</td>\n",
       "      <td>low</td>\n",
       "      <td>PM</td>\n",
       "      <td>PM</td>\n",
       "      <td>0.143791</td>\n",
       "      <td>VISp</td>\n",
       "      <td>VIS</td>\n",
       "    </tr>\n",
       "    <tr>\n",
       "      <th>11</th>\n",
       "      <td>122</td>\n",
       "      <td>low</td>\n",
       "      <td>PM</td>\n",
       "      <td>PM</td>\n",
       "      <td>0.202210</td>\n",
       "      <td>VISp</td>\n",
       "      <td>VIS</td>\n",
       "    </tr>\n",
       "    <tr>\n",
       "      <th>15</th>\n",
       "      <td>207</td>\n",
       "      <td>high</td>\n",
       "      <td>PM</td>\n",
       "      <td>PM</td>\n",
       "      <td>0.085837</td>\n",
       "      <td>VISp</td>\n",
       "      <td>VIS</td>\n",
       "    </tr>\n",
       "    <tr>\n",
       "      <th>...</th>\n",
       "      <td>...</td>\n",
       "      <td>...</td>\n",
       "      <td>...</td>\n",
       "      <td>...</td>\n",
       "      <td>...</td>\n",
       "      <td>...</td>\n",
       "      <td>...</td>\n",
       "    </tr>\n",
       "    <tr>\n",
       "      <th>521</th>\n",
       "      <td>338</td>\n",
       "      <td>high</td>\n",
       "      <td>PM</td>\n",
       "      <td>PM</td>\n",
       "      <td>0.051251</td>\n",
       "      <td>AUD</td>\n",
       "      <td>Dist_ctx</td>\n",
       "    </tr>\n",
       "    <tr>\n",
       "      <th>523</th>\n",
       "      <td>482</td>\n",
       "      <td>high</td>\n",
       "      <td>PM</td>\n",
       "      <td>PM</td>\n",
       "      <td>0.031692</td>\n",
       "      <td>AUD</td>\n",
       "      <td>Dist_ctx</td>\n",
       "    </tr>\n",
       "    <tr>\n",
       "      <th>524</th>\n",
       "      <td>516</td>\n",
       "      <td>high</td>\n",
       "      <td>PM</td>\n",
       "      <td>PM</td>\n",
       "      <td>0.050280</td>\n",
       "      <td>AUD</td>\n",
       "      <td>Dist_ctx</td>\n",
       "    </tr>\n",
       "    <tr>\n",
       "      <th>526</th>\n",
       "      <td>776</td>\n",
       "      <td>high</td>\n",
       "      <td>PM</td>\n",
       "      <td>PM</td>\n",
       "      <td>0.050919</td>\n",
       "      <td>AUD</td>\n",
       "      <td>Dist_ctx</td>\n",
       "    </tr>\n",
       "    <tr>\n",
       "      <th>530</th>\n",
       "      <td>1488</td>\n",
       "      <td>high</td>\n",
       "      <td>PM</td>\n",
       "      <td>PM</td>\n",
       "      <td>0.061474</td>\n",
       "      <td>AUD</td>\n",
       "      <td>Dist_ctx</td>\n",
       "    </tr>\n",
       "  </tbody>\n",
       "</table>\n",
       "<p>209 rows × 7 columns</p>\n",
       "</div>"
      ],
      "text/plain": [
       "     starter starter_cat targeted_area target_area  input_fraction  area  \\\n",
       "2          8         low            PM          PM        0.146709  VISp   \n",
       "8         63         low            PM          PM        0.136444  VISp   \n",
       "10       117         low            PM          PM        0.143791  VISp   \n",
       "11       122         low            PM          PM        0.202210  VISp   \n",
       "15       207        high            PM          PM        0.085837  VISp   \n",
       "..       ...         ...           ...         ...             ...   ...   \n",
       "521      338        high            PM          PM        0.051251   AUD   \n",
       "523      482        high            PM          PM        0.031692   AUD   \n",
       "524      516        high            PM          PM        0.050280   AUD   \n",
       "526      776        high            PM          PM        0.050919   AUD   \n",
       "530     1488        high            PM          PM        0.061474   AUD   \n",
       "\n",
       "    grouped_area  \n",
       "2            VIS  \n",
       "8            VIS  \n",
       "10           VIS  \n",
       "11           VIS  \n",
       "15           VIS  \n",
       "..           ...  \n",
       "521     Dist_ctx  \n",
       "523     Dist_ctx  \n",
       "524     Dist_ctx  \n",
       "526     Dist_ctx  \n",
       "530     Dist_ctx  \n",
       "\n",
       "[209 rows x 7 columns]"
      ]
     },
     "execution_count": 9,
     "metadata": {},
     "output_type": "execute_result"
    }
   ],
   "source": [
    "df_frac_s[df_frac_s.target_area == 'PM']"
   ]
  },
  {
   "cell_type": "code",
   "execution_count": 10,
   "metadata": {},
   "outputs": [],
   "source": [
    "result = df_frac_s.groupby(['area', 'target_area'], as_index=False).agg(\n",
    "                      {'input_fraction':['mean','std', 'count']})"
   ]
  },
  {
   "cell_type": "code",
   "execution_count": 11,
   "metadata": {},
   "outputs": [],
   "source": [
    "palette ={\"V1\": \"darkblue\", \"PM\": \"royalblue\"}\n"
   ]
  },
  {
   "cell_type": "code",
   "execution_count": 12,
   "metadata": {},
   "outputs": [],
   "source": [
    "df_frac_s=df_frac_s[(df_frac_s['target_area']=='V1') | (df_frac_s['target_area']=='PM')]"
   ]
  },
  {
   "cell_type": "code",
   "execution_count": null,
   "metadata": {},
   "outputs": [],
   "source": []
  },
  {
   "cell_type": "code",
   "execution_count": 13,
   "metadata": {},
   "outputs": [
    {
     "data": {
      "image/png": "[encoded data removed]",
      "text/plain": [
       "<Figure size 300x500 with 1 Axes>"
      ]
     },
     "metadata": {},
     "output_type": "display_data"
    }
   ],
   "source": [
    "sns.set_style(\"ticks\")\n",
    "sns.catplot(data = df_frac_s[df_frac_s.grouped_area == 'Thal'],  x = 'area', y ='input_fraction', hue = 'target_area', kind=\"bar\", legend=False, palette = palette)\n",
    "\n",
    "fig = plt.gcf()\n",
    "ax = plt.gca()\n",
    "fig.set_size_inches(3, 5)\n",
    "\n",
    "plt.ylabel('input fraction', fontsize = 16)\n",
    "plt.xlabel('area', fontsize = 16)\n",
    "for label in (ax.get_xticklabels() + ax.get_yticklabels()):\n",
    "    label.set_fontsize(14)\n",
    "plt.ylim(0,0.3)\n",
    "\n",
    "fig.savefig(os.path.join(figs45panelpaths, 'figS4_5a1_v2.png'),  bbox_inches='tight')\n",
    "fig.savefig(os.path.join(figs45panelpaths, 'figS4_5a1_v2.eps'),  bbox_inches='tight', format = 'eps')"
   ]
  },
  {
   "cell_type": "code",
   "execution_count": 14,
   "metadata": {},
   "outputs": [
    {
     "data": {
      "image/png": "[encoded data removed]",
      "text/plain": [
       "<Figure size 500x500 with 1 Axes>"
      ]
     },
     "metadata": {},
     "output_type": "display_data"
    }
   ],
   "source": [
    "sns.catplot(data = df_frac_s[df_frac_s.grouped_area == 'Dist_ctx'],  x = 'area', y ='input_fraction', hue = 'target_area', kind=\"bar\", legend=False, palette = palette)\n",
    "\n",
    "fig = plt.gcf()\n",
    "ax = plt.gca()\n",
    "fig.set_size_inches(5,5)\n",
    "\n",
    "plt.xlabel('area', fontsize = 16)\n",
    "for label in (ax.get_xticklabels() + ax.get_yticklabels()):\n",
    "    label.set_fontsize(14)\n",
    "plt.ylim(0, 0.3)\n",
    "ax.get_yaxis().set_visible(False)\n",
    "\n",
    "fig.savefig(os.path.join(figs45panelpaths, 'figS4_5a2v2.png'),  bbox_inches='tight')\n",
    "fig.savefig(os.path.join(figs45panelpaths, 'figS4_5a2v2.eps'),  bbox_inches='tight', format = 'eps')"
   ]
  },
  {
   "cell_type": "code",
   "execution_count": 15,
   "metadata": {},
   "outputs": [
    {
     "data": {
      "image/png": "[encoded data removed]",
      "text/plain": [
       "<Figure size 400x500 with 1 Axes>"
      ]
     },
     "metadata": {},
     "output_type": "display_data"
    }
   ],
   "source": [
    "sns.catplot(data = df_frac_s[df_frac_s.grouped_area == 'VIS'],  x = 'area', y ='input_fraction', hue = 'target_area', kind=\"bar\", legend=False, palette = palette)\n",
    "\n",
    "fig = plt.gcf()\n",
    "ax = plt.gca()\n",
    "fig.set_size_inches(4, 5)\n",
    "plt.ylim(0, 0.3)\n",
    "\n",
    "ax.get_yaxis().set_visible(False)\n",
    "\n",
    "plt.xlabel('area', fontsize = 16)\n",
    "for label in (ax.get_xticklabels() + ax.get_yticklabels()):\n",
    "    label.set_fontsize(14)\n",
    "ax.get_yaxis().set_visible(False)\n",
    "\n",
    "fig.savefig(os.path.join(figs45panelpaths, 'figS4_5a3v2.png'),  bbox_inches='tight')\n",
    "fig.savefig(os.path.join(figs45panelpaths, 'figS4_5a3v2.eps'),  bbox_inches='tight', format = 'eps')"
   ]
  },
  {
   "cell_type": "code",
   "execution_count": 16,
   "metadata": {},
   "outputs": [
    {
     "name": "stderr",
     "output_type": "stream",
     "text": [
      "The PostScript backend does not support transparency; partially transparent artists will be rendered opaque.\n"
     ]
    },
    {
     "data": {
      "image/png": "[encoded data removed]",
      "text/plain": [
       "<Figure size 300x500 with 1 Axes>"
      ]
     },
     "metadata": {},
     "output_type": "display_data"
    }
   ],
   "source": [
    "sns.catplot(data = df_frac_s[df_frac_s.grouped_area == 'RSP'],  x = 'area', y ='input_fraction', hue = 'target_area', kind=\"bar\", legend=False, palette = palette)\n",
    "\n",
    "fig = plt.gcf()\n",
    "ax = plt.gca()\n",
    "fig.set_size_inches(3, 5)\n",
    "\n",
    "plt.legend(loc = 'upper right', fontsize = 14)\n",
    "plt.ylim(0, 0.3)\n",
    "\n",
    "ax.get_yaxis().set_visible(False)\n",
    "\n",
    "plt.xlabel('area', fontsize = 16)\n",
    "for label in (ax.get_xticklabels() + ax.get_yticklabels()):\n",
    "    label.set_fontsize(14)\n",
    "ax.get_yaxis().set_visible(False)\n",
    "\n",
    "fig.savefig(os.path.join(figs45panelpaths, 'figS4_5a4v2.png'),  bbox_inches='tight')\n",
    "fig.savefig(os.path.join(figs45panelpaths, 'figS4_5a4v2.eps'),  bbox_inches='tight', format = 'eps')"
   ]
  },
  {
   "cell_type": "markdown",
   "metadata": {},
   "source": [
    "# Panel A1 - plot V1 vs PM based on input fraction - high starters only"
   ]
  },
  {
   "cell_type": "code",
   "execution_count": 17,
   "metadata": {},
   "outputs": [],
   "source": [
    "df_frac_h = df_frac_s[df_frac_s.starter_cat == 'high']"
   ]
  },
  {
   "cell_type": "code",
   "execution_count": 18,
   "metadata": {},
   "outputs": [
    {
     "data": {
      "text/html": [
       "<div>\n",
       "<style scoped>\n",
       "    .dataframe tbody tr th:only-of-type {\n",
       "        vertical-align: middle;\n",
       "    }\n",
       "\n",
       "    .dataframe tbody tr th {\n",
       "        vertical-align: top;\n",
       "    }\n",
       "\n",
       "    .dataframe thead th {\n",
       "        text-align: right;\n",
       "    }\n",
       "</style>\n",
       "<table border=\"1\" class=\"dataframe\">\n",
       "  <thead>\n",
       "    <tr style=\"text-align: right;\">\n",
       "      <th></th>\n",
       "      <th>starter</th>\n",
       "      <th>starter_cat</th>\n",
       "      <th>targeted_area</th>\n",
       "      <th>target_area</th>\n",
       "      <th>input_fraction</th>\n",
       "      <th>area</th>\n",
       "      <th>grouped_area</th>\n",
       "    </tr>\n",
       "  </thead>\n",
       "  <tbody>\n",
       "    <tr>\n",
       "      <th>15</th>\n",
       "      <td>207</td>\n",
       "      <td>high</td>\n",
       "      <td>PM</td>\n",
       "      <td>PM</td>\n",
       "      <td>0.085837</td>\n",
       "      <td>VISp</td>\n",
       "      <td>VIS</td>\n",
       "    </tr>\n",
       "    <tr>\n",
       "      <th>16</th>\n",
       "      <td>320</td>\n",
       "      <td>high</td>\n",
       "      <td>PM</td>\n",
       "      <td>PM</td>\n",
       "      <td>0.180160</td>\n",
       "      <td>VISp</td>\n",
       "      <td>VIS</td>\n",
       "    </tr>\n",
       "    <tr>\n",
       "      <th>17</th>\n",
       "      <td>338</td>\n",
       "      <td>high</td>\n",
       "      <td>PM</td>\n",
       "      <td>PM</td>\n",
       "      <td>0.085937</td>\n",
       "      <td>VISp</td>\n",
       "      <td>VIS</td>\n",
       "    </tr>\n",
       "    <tr>\n",
       "      <th>19</th>\n",
       "      <td>482</td>\n",
       "      <td>high</td>\n",
       "      <td>PM</td>\n",
       "      <td>PM</td>\n",
       "      <td>0.129252</td>\n",
       "      <td>VISp</td>\n",
       "      <td>VIS</td>\n",
       "    </tr>\n",
       "    <tr>\n",
       "      <th>20</th>\n",
       "      <td>516</td>\n",
       "      <td>high</td>\n",
       "      <td>PM</td>\n",
       "      <td>PM</td>\n",
       "      <td>0.178116</td>\n",
       "      <td>VISp</td>\n",
       "      <td>VIS</td>\n",
       "    </tr>\n",
       "    <tr>\n",
       "      <th>...</th>\n",
       "      <td>...</td>\n",
       "      <td>...</td>\n",
       "      <td>...</td>\n",
       "      <td>...</td>\n",
       "      <td>...</td>\n",
       "      <td>...</td>\n",
       "      <td>...</td>\n",
       "    </tr>\n",
       "    <tr>\n",
       "      <th>527</th>\n",
       "      <td>908</td>\n",
       "      <td>high</td>\n",
       "      <td>V1</td>\n",
       "      <td>V1</td>\n",
       "      <td>0.060056</td>\n",
       "      <td>AUD</td>\n",
       "      <td>Dist_ctx</td>\n",
       "    </tr>\n",
       "    <tr>\n",
       "      <th>528</th>\n",
       "      <td>1140</td>\n",
       "      <td>high</td>\n",
       "      <td>V1</td>\n",
       "      <td>V1</td>\n",
       "      <td>0.064009</td>\n",
       "      <td>AUD</td>\n",
       "      <td>Dist_ctx</td>\n",
       "    </tr>\n",
       "    <tr>\n",
       "      <th>529</th>\n",
       "      <td>1474</td>\n",
       "      <td>high</td>\n",
       "      <td>V1</td>\n",
       "      <td>V1</td>\n",
       "      <td>0.067593</td>\n",
       "      <td>AUD</td>\n",
       "      <td>Dist_ctx</td>\n",
       "    </tr>\n",
       "    <tr>\n",
       "      <th>530</th>\n",
       "      <td>1488</td>\n",
       "      <td>high</td>\n",
       "      <td>PM</td>\n",
       "      <td>PM</td>\n",
       "      <td>0.061474</td>\n",
       "      <td>AUD</td>\n",
       "      <td>Dist_ctx</td>\n",
       "    </tr>\n",
       "    <tr>\n",
       "      <th>531</th>\n",
       "      <td>1900</td>\n",
       "      <td>high</td>\n",
       "      <td>V1</td>\n",
       "      <td>V1</td>\n",
       "      <td>0.061426</td>\n",
       "      <td>AUD</td>\n",
       "      <td>Dist_ctx</td>\n",
       "    </tr>\n",
       "  </tbody>\n",
       "</table>\n",
       "<p>209 rows × 7 columns</p>\n",
       "</div>"
      ],
      "text/plain": [
       "     starter starter_cat targeted_area target_area  input_fraction  area  \\\n",
       "15       207        high            PM          PM        0.085837  VISp   \n",
       "16       320        high            PM          PM        0.180160  VISp   \n",
       "17       338        high            PM          PM        0.085937  VISp   \n",
       "19       482        high            PM          PM        0.129252  VISp   \n",
       "20       516        high            PM          PM        0.178116  VISp   \n",
       "..       ...         ...           ...         ...             ...   ...   \n",
       "527      908        high            V1          V1        0.060056   AUD   \n",
       "528     1140        high            V1          V1        0.064009   AUD   \n",
       "529     1474        high            V1          V1        0.067593   AUD   \n",
       "530     1488        high            PM          PM        0.061474   AUD   \n",
       "531     1900        high            V1          V1        0.061426   AUD   \n",
       "\n",
       "    grouped_area  \n",
       "15           VIS  \n",
       "16           VIS  \n",
       "17           VIS  \n",
       "19           VIS  \n",
       "20           VIS  \n",
       "..           ...  \n",
       "527     Dist_ctx  \n",
       "528     Dist_ctx  \n",
       "529     Dist_ctx  \n",
       "530     Dist_ctx  \n",
       "531     Dist_ctx  \n",
       "\n",
       "[209 rows x 7 columns]"
      ]
     },
     "execution_count": 18,
     "metadata": {},
     "output_type": "execute_result"
    }
   ],
   "source": [
    "df_frac_h"
   ]
  },
  {
   "cell_type": "code",
   "execution_count": 19,
   "metadata": {},
   "outputs": [],
   "source": [
    "result_h= df_frac_h.groupby(['area', 'target_area'], as_index=False).agg(\n",
    "                      {'input_fraction':['mean','std', 'count']})"
   ]
  },
  {
   "cell_type": "code",
   "execution_count": 20,
   "metadata": {},
   "outputs": [],
   "source": [
    "df_frac_h=df_frac_h[(df_frac_h['target_area']=='V1') | (df_frac_h['target_area']=='PM')]"
   ]
  },
  {
   "cell_type": "code",
   "execution_count": 21,
   "metadata": {},
   "outputs": [
    {
     "data": {
      "image/png": "[encoded data removed]",
      "text/plain": [
       "<Figure size 300x500 with 1 Axes>"
      ]
     },
     "metadata": {},
     "output_type": "display_data"
    }
   ],
   "source": [
    "sns.set_style(\"ticks\")\n",
    "sns.catplot(data = df_frac_h[df_frac_h.grouped_area == 'Thal'],  x = 'area', y ='input_fraction', hue = 'target_area', hue_order = ['V1', 'PM'], kind=\"bar\", legend=False, palette = palette)\n",
    "\n",
    "fig = plt.gcf()\n",
    "ax = plt.gca()\n",
    "fig.set_size_inches(3, 5)\n",
    "\n",
    "plt.ylabel('input fraction (high $n_s$)', fontsize = 16)\n",
    "plt.xlabel('area', fontsize = 16)\n",
    "for label in (ax.get_xticklabels() + ax.get_yticklabels()):\n",
    "    label.set_fontsize(14)\n",
    "plt.ylim(0,0.3)\n",
    "\n",
    "fig.savefig(os.path.join(figs45panelpaths, 'figS4_5a1_v2_high.png'),  bbox_inches='tight')\n",
    "fig.savefig(os.path.join(figs45panelpaths, 'figS4_5a1_v2_high.eps'),  bbox_inches='tight', format = 'eps')"
   ]
  },
  {
   "cell_type": "code",
   "execution_count": 22,
   "metadata": {},
   "outputs": [
    {
     "data": {
      "image/png": "[encoded data removed]",
      "text/plain": [
       "<Figure size 500x500 with 1 Axes>"
      ]
     },
     "metadata": {},
     "output_type": "display_data"
    }
   ],
   "source": [
    "sns.catplot(data = df_frac_h[df_frac_h.grouped_area == 'Dist_ctx'],  x = 'area', y ='input_fraction', hue = 'target_area', hue_order = ['V1', 'PM'], kind=\"bar\", legend=False, palette = palette)\n",
    "\n",
    "fig = plt.gcf()\n",
    "ax = plt.gca()\n",
    "fig.set_size_inches(5,5)\n",
    "\n",
    "plt.xlabel('area', fontsize = 16)\n",
    "for label in (ax.get_xticklabels() + ax.get_yticklabels()):\n",
    "    label.set_fontsize(14)\n",
    "plt.ylim(0, 0.3)\n",
    "ax.get_yaxis().set_visible(False)\n",
    "\n",
    "fig.savefig(os.path.join(figs45panelpaths, 'figS4_5a2v2_high.png'),  bbox_inches='tight')\n",
    "fig.savefig(os.path.join(figs45panelpaths, 'figS4_5a2v2_high.eps'),  bbox_inches='tight', format = 'eps')"
   ]
  },
  {
   "cell_type": "code",
   "execution_count": 23,
   "metadata": {},
   "outputs": [
    {
     "data": {
      "image/png": "[encoded data removed]",
      "text/plain": [
       "<Figure size 400x500 with 1 Axes>"
      ]
     },
     "metadata": {},
     "output_type": "display_data"
    }
   ],
   "source": [
    "sns.catplot(data = df_frac_h[df_frac_h.grouped_area == 'VIS'],  x = 'area', y ='input_fraction', hue = 'target_area', hue_order = ['V1', 'PM'], kind=\"bar\", legend=False, palette = palette)\n",
    "\n",
    "fig = plt.gcf()\n",
    "ax = plt.gca()\n",
    "fig.set_size_inches(4, 5)\n",
    "plt.ylim(0, 0.3)\n",
    "\n",
    "ax.get_yaxis().set_visible(False)\n",
    "\n",
    "plt.xlabel('area', fontsize = 16)\n",
    "for label in (ax.get_xticklabels() + ax.get_yticklabels()):\n",
    "    label.set_fontsize(14)\n",
    "ax.get_yaxis().set_visible(False)\n",
    "\n",
    "fig.savefig(os.path.join(figs45panelpaths, 'figS4_5a3v2_high.png'),  bbox_inches='tight')\n",
    "fig.savefig(os.path.join(figs45panelpaths, 'figS4_5a3v2_high.eps'),  bbox_inches='tight', format = 'eps')"
   ]
  },
  {
   "cell_type": "code",
   "execution_count": 24,
   "metadata": {},
   "outputs": [
    {
     "name": "stderr",
     "output_type": "stream",
     "text": [
      "The PostScript backend does not support transparency; partially transparent artists will be rendered opaque.\n"
     ]
    },
    {
     "data": {
      "image/png": "[encoded data removed]",
      "text/plain": [
       "<Figure size 300x500 with 1 Axes>"
      ]
     },
     "metadata": {},
     "output_type": "display_data"
    }
   ],
   "source": [
    "sns.catplot(data = df_frac_h[df_frac_h.grouped_area == 'RSP'],  x = 'area', y ='input_fraction', hue = 'target_area', hue_order = ['V1', 'PM'], kind=\"bar\", legend=False, palette = palette)\n",
    "\n",
    "fig = plt.gcf()\n",
    "ax = plt.gca()\n",
    "fig.set_size_inches(3, 5)\n",
    "\n",
    "plt.legend(loc = 'upper right', fontsize = 14)\n",
    "plt.ylim(0, 0.3)\n",
    "\n",
    "ax.get_yaxis().set_visible(False)\n",
    "\n",
    "plt.xlabel('area', fontsize = 16)\n",
    "for label in (ax.get_xticklabels() + ax.get_yticklabels()):\n",
    "    label.set_fontsize(14)\n",
    "ax.get_yaxis().set_visible(False)\n",
    "\n",
    "fig.savefig(os.path.join(figs45panelpaths, 'figS4_5a4v2_high.png'),  bbox_inches='tight')\n",
    "fig.savefig(os.path.join(figs45panelpaths, 'figS4_5a4v2_high.eps'),  bbox_inches='tight', format = 'eps')"
   ]
  },
  {
   "cell_type": "code",
   "execution_count": 25,
   "metadata": {},
   "outputs": [
    {
     "data": {
      "text/html": [
       "<div>\n",
       "<style scoped>\n",
       "    .dataframe tbody tr th:only-of-type {\n",
       "        vertical-align: middle;\n",
       "    }\n",
       "\n",
       "    .dataframe tbody tr th {\n",
       "        vertical-align: top;\n",
       "    }\n",
       "\n",
       "    .dataframe thead th {\n",
       "        text-align: right;\n",
       "    }\n",
       "</style>\n",
       "<table border=\"1\" class=\"dataframe\">\n",
       "  <thead>\n",
       "    <tr style=\"text-align: right;\">\n",
       "      <th></th>\n",
       "      <th>starter</th>\n",
       "      <th>starter_cat</th>\n",
       "      <th>targeted_area</th>\n",
       "      <th>target_area</th>\n",
       "      <th>input_fraction</th>\n",
       "      <th>area</th>\n",
       "      <th>grouped_area</th>\n",
       "    </tr>\n",
       "  </thead>\n",
       "  <tbody>\n",
       "    <tr>\n",
       "      <th>15</th>\n",
       "      <td>207</td>\n",
       "      <td>high</td>\n",
       "      <td>PM</td>\n",
       "      <td>PM</td>\n",
       "      <td>0.085837</td>\n",
       "      <td>VISp</td>\n",
       "      <td>VIS</td>\n",
       "    </tr>\n",
       "    <tr>\n",
       "      <th>16</th>\n",
       "      <td>320</td>\n",
       "      <td>high</td>\n",
       "      <td>PM</td>\n",
       "      <td>PM</td>\n",
       "      <td>0.180160</td>\n",
       "      <td>VISp</td>\n",
       "      <td>VIS</td>\n",
       "    </tr>\n",
       "    <tr>\n",
       "      <th>17</th>\n",
       "      <td>338</td>\n",
       "      <td>high</td>\n",
       "      <td>PM</td>\n",
       "      <td>PM</td>\n",
       "      <td>0.085937</td>\n",
       "      <td>VISp</td>\n",
       "      <td>VIS</td>\n",
       "    </tr>\n",
       "    <tr>\n",
       "      <th>19</th>\n",
       "      <td>482</td>\n",
       "      <td>high</td>\n",
       "      <td>PM</td>\n",
       "      <td>PM</td>\n",
       "      <td>0.129252</td>\n",
       "      <td>VISp</td>\n",
       "      <td>VIS</td>\n",
       "    </tr>\n",
       "    <tr>\n",
       "      <th>20</th>\n",
       "      <td>516</td>\n",
       "      <td>high</td>\n",
       "      <td>PM</td>\n",
       "      <td>PM</td>\n",
       "      <td>0.178116</td>\n",
       "      <td>VISp</td>\n",
       "      <td>VIS</td>\n",
       "    </tr>\n",
       "    <tr>\n",
       "      <th>...</th>\n",
       "      <td>...</td>\n",
       "      <td>...</td>\n",
       "      <td>...</td>\n",
       "      <td>...</td>\n",
       "      <td>...</td>\n",
       "      <td>...</td>\n",
       "      <td>...</td>\n",
       "    </tr>\n",
       "    <tr>\n",
       "      <th>521</th>\n",
       "      <td>338</td>\n",
       "      <td>high</td>\n",
       "      <td>PM</td>\n",
       "      <td>PM</td>\n",
       "      <td>0.051251</td>\n",
       "      <td>AUD</td>\n",
       "      <td>Dist_ctx</td>\n",
       "    </tr>\n",
       "    <tr>\n",
       "      <th>523</th>\n",
       "      <td>482</td>\n",
       "      <td>high</td>\n",
       "      <td>PM</td>\n",
       "      <td>PM</td>\n",
       "      <td>0.031692</td>\n",
       "      <td>AUD</td>\n",
       "      <td>Dist_ctx</td>\n",
       "    </tr>\n",
       "    <tr>\n",
       "      <th>524</th>\n",
       "      <td>516</td>\n",
       "      <td>high</td>\n",
       "      <td>PM</td>\n",
       "      <td>PM</td>\n",
       "      <td>0.050280</td>\n",
       "      <td>AUD</td>\n",
       "      <td>Dist_ctx</td>\n",
       "    </tr>\n",
       "    <tr>\n",
       "      <th>526</th>\n",
       "      <td>776</td>\n",
       "      <td>high</td>\n",
       "      <td>PM</td>\n",
       "      <td>PM</td>\n",
       "      <td>0.050919</td>\n",
       "      <td>AUD</td>\n",
       "      <td>Dist_ctx</td>\n",
       "    </tr>\n",
       "    <tr>\n",
       "      <th>530</th>\n",
       "      <td>1488</td>\n",
       "      <td>high</td>\n",
       "      <td>PM</td>\n",
       "      <td>PM</td>\n",
       "      <td>0.061474</td>\n",
       "      <td>AUD</td>\n",
       "      <td>Dist_ctx</td>\n",
       "    </tr>\n",
       "  </tbody>\n",
       "</table>\n",
       "<p>133 rows × 7 columns</p>\n",
       "</div>"
      ],
      "text/plain": [
       "     starter starter_cat targeted_area target_area  input_fraction  area  \\\n",
       "15       207        high            PM          PM        0.085837  VISp   \n",
       "16       320        high            PM          PM        0.180160  VISp   \n",
       "17       338        high            PM          PM        0.085937  VISp   \n",
       "19       482        high            PM          PM        0.129252  VISp   \n",
       "20       516        high            PM          PM        0.178116  VISp   \n",
       "..       ...         ...           ...         ...             ...   ...   \n",
       "521      338        high            PM          PM        0.051251   AUD   \n",
       "523      482        high            PM          PM        0.031692   AUD   \n",
       "524      516        high            PM          PM        0.050280   AUD   \n",
       "526      776        high            PM          PM        0.050919   AUD   \n",
       "530     1488        high            PM          PM        0.061474   AUD   \n",
       "\n",
       "    grouped_area  \n",
       "15           VIS  \n",
       "16           VIS  \n",
       "17           VIS  \n",
       "19           VIS  \n",
       "20           VIS  \n",
       "..           ...  \n",
       "521     Dist_ctx  \n",
       "523     Dist_ctx  \n",
       "524     Dist_ctx  \n",
       "526     Dist_ctx  \n",
       "530     Dist_ctx  \n",
       "\n",
       "[133 rows x 7 columns]"
      ]
     },
     "execution_count": 25,
     "metadata": {},
     "output_type": "execute_result"
    }
   ],
   "source": [
    "df_frac_h[df_frac_h.target_area == 'PM']"
   ]
  },
  {
   "cell_type": "code",
   "execution_count": 26,
   "metadata": {},
   "outputs": [],
   "source": [
    "# make summary df for statistics"
   ]
  },
  {
   "cell_type": "code",
   "execution_count": 27,
   "metadata": {},
   "outputs": [],
   "source": [
    "df_frac_s_v1 = df_frac_s[df_frac_s.target_area == 'V1']\n",
    "df_frac_s_pm = df_frac_s[df_frac_s.target_area == 'PM']"
   ]
  },
  {
   "cell_type": "code",
   "execution_count": 28,
   "metadata": {},
   "outputs": [],
   "source": [
    "df_frac_h_v1 = df_frac_h[df_frac_h.target_area == 'V1']\n",
    "df_frac_h_pm = df_frac_h[df_frac_h.target_area == 'PM']"
   ]
  },
  {
   "cell_type": "code",
   "execution_count": 29,
   "metadata": {},
   "outputs": [
    {
     "data": {
      "text/plain": [
       "(12, 7)"
      ]
     },
     "execution_count": 29,
     "metadata": {},
     "output_type": "execute_result"
    }
   ],
   "source": [
    "df_frac_s_v1[df_frac_s_v1.area == 'VISp'].shape"
   ]
  },
  {
   "cell_type": "code",
   "execution_count": 30,
   "metadata": {},
   "outputs": [
    {
     "data": {
      "text/plain": [
       "(11, 7)"
      ]
     },
     "execution_count": 30,
     "metadata": {},
     "output_type": "execute_result"
    }
   ],
   "source": [
    "df_frac_s_pm[df_frac_s_pm.area == 'VISp'].shape"
   ]
  },
  {
   "cell_type": "code",
   "execution_count": 31,
   "metadata": {},
   "outputs": [],
   "source": [
    "res_v1 = df_frac_s_v1.groupby(['area'], as_index=False).agg({'input_fraction':['mean', 'std']})\n",
    "res_pm = df_frac_s_pm.groupby(['area'], as_index=False).agg({'input_fraction':['mean', 'std']})"
   ]
  },
  {
   "cell_type": "code",
   "execution_count": 32,
   "metadata": {},
   "outputs": [],
   "source": [
    "res_h_v1 = df_frac_h_v1.groupby(['area'], as_index=False).agg({'input_fraction':['mean', 'std']})\n",
    "res_h_pm = df_frac_h_pm.groupby(['area'], as_index=False).agg({'input_fraction':['mean', 'std']})"
   ]
  },
  {
   "cell_type": "code",
   "execution_count": 33,
   "metadata": {},
   "outputs": [
    {
     "data": {
      "text/plain": [
       "(4, 7)"
      ]
     },
     "execution_count": 33,
     "metadata": {},
     "output_type": "execute_result"
    }
   ],
   "source": [
    "df_frac_h_v1[df_frac_h_v1.area == 'VISp'].shape"
   ]
  },
  {
   "cell_type": "code",
   "execution_count": 34,
   "metadata": {},
   "outputs": [
    {
     "data": {
      "text/plain": [
       "(7, 7)"
      ]
     },
     "execution_count": 34,
     "metadata": {},
     "output_type": "execute_result"
    }
   ],
   "source": [
    "df_frac_h_pm[df_frac_h_pm.area == 'VISp'].shape"
   ]
  },
  {
   "cell_type": "code",
   "execution_count": 35,
   "metadata": {},
   "outputs": [
    {
     "data": {
      "text/html": [
       "<div>\n",
       "<style scoped>\n",
       "    .dataframe tbody tr th:only-of-type {\n",
       "        vertical-align: middle;\n",
       "    }\n",
       "\n",
       "    .dataframe tbody tr th {\n",
       "        vertical-align: top;\n",
       "    }\n",
       "\n",
       "    .dataframe thead tr th {\n",
       "        text-align: left;\n",
       "    }\n",
       "</style>\n",
       "<table border=\"1\" class=\"dataframe\">\n",
       "  <thead>\n",
       "    <tr>\n",
       "      <th></th>\n",
       "      <th>area</th>\n",
       "      <th colspan=\"2\" halign=\"left\">input_fraction</th>\n",
       "    </tr>\n",
       "    <tr>\n",
       "      <th></th>\n",
       "      <th></th>\n",
       "      <th>mean</th>\n",
       "      <th>std</th>\n",
       "    </tr>\n",
       "  </thead>\n",
       "  <tbody>\n",
       "    <tr>\n",
       "      <th>0</th>\n",
       "      <td>ACA</td>\n",
       "      <td>0.042908</td>\n",
       "      <td>0.012401</td>\n",
       "    </tr>\n",
       "    <tr>\n",
       "      <th>1</th>\n",
       "      <td>AM</td>\n",
       "      <td>0.013753</td>\n",
       "      <td>0.004382</td>\n",
       "    </tr>\n",
       "    <tr>\n",
       "      <th>2</th>\n",
       "      <td>AUD</td>\n",
       "      <td>0.050547</td>\n",
       "      <td>0.009719</td>\n",
       "    </tr>\n",
       "    <tr>\n",
       "      <th>3</th>\n",
       "      <td>CLA</td>\n",
       "      <td>0.012564</td>\n",
       "      <td>0.003864</td>\n",
       "    </tr>\n",
       "    <tr>\n",
       "      <th>4</th>\n",
       "      <td>LD</td>\n",
       "      <td>0.030056</td>\n",
       "      <td>0.012642</td>\n",
       "    </tr>\n",
       "    <tr>\n",
       "      <th>5</th>\n",
       "      <td>LGd</td>\n",
       "      <td>0.020789</td>\n",
       "      <td>0.014286</td>\n",
       "    </tr>\n",
       "    <tr>\n",
       "      <th>6</th>\n",
       "      <td>LP</td>\n",
       "      <td>0.062045</td>\n",
       "      <td>0.018537</td>\n",
       "    </tr>\n",
       "    <tr>\n",
       "      <th>7</th>\n",
       "      <td>MOs</td>\n",
       "      <td>0.017135</td>\n",
       "      <td>0.004497</td>\n",
       "    </tr>\n",
       "    <tr>\n",
       "      <th>8</th>\n",
       "      <td>ORB</td>\n",
       "      <td>0.038478</td>\n",
       "      <td>0.020409</td>\n",
       "    </tr>\n",
       "    <tr>\n",
       "      <th>9</th>\n",
       "      <td>PTLp</td>\n",
       "      <td>0.035000</td>\n",
       "      <td>0.011332</td>\n",
       "    </tr>\n",
       "    <tr>\n",
       "      <th>10</th>\n",
       "      <td>RSPagl</td>\n",
       "      <td>0.039689</td>\n",
       "      <td>0.009676</td>\n",
       "    </tr>\n",
       "    <tr>\n",
       "      <th>11</th>\n",
       "      <td>RSPd</td>\n",
       "      <td>0.058514</td>\n",
       "      <td>0.014919</td>\n",
       "    </tr>\n",
       "    <tr>\n",
       "      <th>12</th>\n",
       "      <td>RSPv</td>\n",
       "      <td>0.076782</td>\n",
       "      <td>0.012693</td>\n",
       "    </tr>\n",
       "    <tr>\n",
       "      <th>13</th>\n",
       "      <td>TEa</td>\n",
       "      <td>0.025569</td>\n",
       "      <td>0.004687</td>\n",
       "    </tr>\n",
       "    <tr>\n",
       "      <th>14</th>\n",
       "      <td>VISal</td>\n",
       "      <td>0.025187</td>\n",
       "      <td>0.009971</td>\n",
       "    </tr>\n",
       "    <tr>\n",
       "      <th>15</th>\n",
       "      <td>VISam</td>\n",
       "      <td>0.025665</td>\n",
       "      <td>0.004827</td>\n",
       "    </tr>\n",
       "    <tr>\n",
       "      <th>16</th>\n",
       "      <td>VISl</td>\n",
       "      <td>0.039672</td>\n",
       "      <td>0.009892</td>\n",
       "    </tr>\n",
       "    <tr>\n",
       "      <th>17</th>\n",
       "      <td>VISp</td>\n",
       "      <td>0.148648</td>\n",
       "      <td>0.051100</td>\n",
       "    </tr>\n",
       "    <tr>\n",
       "      <th>18</th>\n",
       "      <td>VISpm</td>\n",
       "      <td>0.039924</td>\n",
       "      <td>0.027330</td>\n",
       "    </tr>\n",
       "  </tbody>\n",
       "</table>\n",
       "</div>"
      ],
      "text/plain": [
       "      area input_fraction          \n",
       "                     mean       std\n",
       "0      ACA       0.042908  0.012401\n",
       "1       AM       0.013753  0.004382\n",
       "2      AUD       0.050547  0.009719\n",
       "3      CLA       0.012564  0.003864\n",
       "4       LD       0.030056  0.012642\n",
       "5      LGd       0.020789  0.014286\n",
       "6       LP       0.062045  0.018537\n",
       "7      MOs       0.017135  0.004497\n",
       "8      ORB       0.038478  0.020409\n",
       "9     PTLp       0.035000  0.011332\n",
       "10  RSPagl       0.039689  0.009676\n",
       "11    RSPd       0.058514  0.014919\n",
       "12    RSPv       0.076782  0.012693\n",
       "13     TEa       0.025569  0.004687\n",
       "14   VISal       0.025187  0.009971\n",
       "15   VISam       0.025665  0.004827\n",
       "16    VISl       0.039672  0.009892\n",
       "17    VISp       0.148648  0.051100\n",
       "18   VISpm       0.039924  0.027330"
      ]
     },
     "execution_count": 35,
     "metadata": {},
     "output_type": "execute_result"
    }
   ],
   "source": [
    "res_h_pm"
   ]
  },
  {
   "cell_type": "markdown",
   "metadata": {},
   "source": [
    "# Panel B - plot V1 vs PM data based on intercept"
   ]
  },
  {
   "cell_type": "code",
   "execution_count": 36,
   "metadata": {},
   "outputs": [],
   "source": [
    "areas_sel = ['VISp','VISpm','VISl', 'VISam', 'VISal', 'RSPagl', 'RSPd', 'RSPv', 'AM', 'LD', 'LP', 'LGd', 'ORB', 'ACA', 'MOs', 'CLA', 'PTLp', 'TEa', 'AUD']"
   ]
  },
  {
   "cell_type": "code",
   "execution_count": 37,
   "metadata": {},
   "outputs": [],
   "source": [
    "areas_sel_noLGd = ['VISp','VISpm','VISl', 'VISam', 'VISal', 'RSPagl', 'RSPd', 'RSPv', 'AM', 'LD', 'LP', 'ORB', 'ACA', 'MOs', 'CLA', 'PTLp', 'TEa', 'AUD']"
   ]
  },
  {
   "cell_type": "code",
   "execution_count": 38,
   "metadata": {},
   "outputs": [],
   "source": [
    "def add_func_areas(df):\n",
    "    df['func area'] = 0\n",
    "    df.loc[df['area'].isin(list_VIS), 'func area'] = 'VIS'\n",
    "    df.loc[df['area'].isin(list_RSP), 'func area'] = 'RSP'\n",
    "    df.loc[df['area'].isin(list_Thal), 'func area'] = 'Thal'\n",
    "    df.loc[df['area'].isin(list_Dist_ctx), 'func area'] = 'Dist_ctx'\n",
    "    df[\"func area\"].replace({0: \"whole brain\"}, inplace=True)\n",
    "    return df"
   ]
  },
  {
   "cell_type": "code",
   "execution_count": 39,
   "metadata": {},
   "outputs": [],
   "source": [
    "int_V1_log = pd.read_csv(os.path.join(paramspath,'df_CI95_int_targets_V1.csv'))\n",
    "int_V1_log = int_V1_log.drop(int_V1_log.columns[[0]], axis=1) \n",
    "\n",
    "int_V1_lin = pd.read_csv(os.path.join(paramspath,'df_CI95_int_targets_V1_lin.csv'))\n",
    "int_V1_lin = int_V1_lin.drop(int_V1_lin.columns[[0]], axis=1) "
   ]
  },
  {
   "cell_type": "code",
   "execution_count": 40,
   "metadata": {},
   "outputs": [],
   "source": [
    "int_PM_log = pd.read_csv(os.path.join(paramspath,'df_CI95_int_targets_PM.csv'))\n",
    "int_PM_log = int_PM_log.drop(int_PM_log.columns[[0]], axis=1) \n",
    "\n",
    "int_PM_lin = pd.read_csv(os.path.join(paramspath,'df_CI95_int_targets_PM_lin.csv'))\n",
    "int_PM_lin = int_PM_lin.drop(int_PM_lin.columns[[0]], axis=1) "
   ]
  },
  {
   "cell_type": "code",
   "execution_count": 41,
   "metadata": {},
   "outputs": [],
   "source": [
    "int_V1_log = int_V1_log[int_V1_log.area.isin(areas_sel_noLGd)].reset_index(drop = True)\n",
    "int_PM_log = int_PM_log[int_PM_log.area.isin(areas_sel_noLGd)].reset_index(drop = True)"
   ]
  },
  {
   "cell_type": "code",
   "execution_count": 42,
   "metadata": {},
   "outputs": [],
   "source": [
    "int_V1_log['grouped_area'] = 'Dist_ctx'\n",
    "int_V1_log.loc[int_V1_log['area'].isin(['VISp', 'VISpm', 'VISl', 'VISam', 'VISal']), 'grouped_area'] = 'VIS'\n",
    "\n",
    "int_V1_log.loc[int_V1_log['area'].isin(['LGd', 'LP', 'LD', 'AM']), 'grouped_area'] = 'Thal'\n",
    "\n",
    "int_V1_log.loc[int_V1_log['area'].isin(['RSPd', 'RSPv', 'RSPagl']), 'grouped_area'] = 'RSP'"
   ]
  },
  {
   "cell_type": "code",
   "execution_count": 43,
   "metadata": {},
   "outputs": [],
   "source": [
    "int_PM_log['grouped_area'] = 'Dist_ctx'\n",
    "int_PM_log.loc[int_PM_log['area'].isin(['VISp', 'VISpm', 'VISl', 'VISam', 'VISal']), 'grouped_area'] = 'VIS'\n",
    "\n",
    "int_PM_log.loc[int_PM_log['area'].isin(['LGd', 'LP', 'LD', 'AM']), 'grouped_area'] = 'Thal'\n",
    "\n",
    "int_PM_log.loc[int_PM_log['area'].isin(['RSPd', 'RSPv', 'RSPagl']), 'grouped_area'] = 'RSP'"
   ]
  },
  {
   "cell_type": "code",
   "execution_count": 44,
   "metadata": {},
   "outputs": [],
   "source": [
    "int_PM_lin['grouped_area'] = 'Thal'\n",
    "int_V1_lin['grouped_area'] = 'Thal'"
   ]
  },
  {
   "cell_type": "code",
   "execution_count": 45,
   "metadata": {},
   "outputs": [],
   "source": [
    "int_PM_lin[['mean int', 'median int', '95%quant-low', '95%quant-high']] = int_PM_lin[['mean int', 'median int', '95%quant-low', '95%quant-high']].apply(lambda x: np.log10(x))#np.log10(x))\n",
    "int_V1_lin[['mean int', 'median int', '95%quant-low', '95%quant-high']] = int_V1_lin[['mean int', 'median int', '95%quant-low', '95%quant-high']].apply(lambda x: np.log10(x))#np.log10(x))"
   ]
  },
  {
   "cell_type": "code",
   "execution_count": 46,
   "metadata": {},
   "outputs": [],
   "source": [
    "int_PM_log['target'] = 'PM'\n",
    "int_PM_lin['target'] = 'PM'\n",
    "\n",
    "int_V1_log['target'] = 'V1'\n",
    "int_V1_lin['target'] = 'V1'"
   ]
  },
  {
   "cell_type": "code",
   "execution_count": 47,
   "metadata": {},
   "outputs": [],
   "source": [
    "int_PM_log = pd.concat([int_PM_log, int_PM_lin], axis = 0).reset_index(drop = True)\n",
    "int_V1_log = pd.concat([int_V1_log, int_V1_lin], axis = 0).reset_index(drop = True)"
   ]
  },
  {
   "cell_type": "code",
   "execution_count": 48,
   "metadata": {},
   "outputs": [],
   "source": [
    "int_log = pd.concat([int_V1_log, int_PM_log], axis = 0).reset_index(drop = True)"
   ]
  },
  {
   "cell_type": "code",
   "execution_count": 49,
   "metadata": {},
   "outputs": [],
   "source": [
    "int_PM_log_Thal = int_PM_log[int_PM_log.grouped_area == 'Thal']\n",
    "int_V1_log_Thal = int_V1_log[int_V1_log.grouped_area == 'Thal']"
   ]
  },
  {
   "cell_type": "code",
   "execution_count": 50,
   "metadata": {},
   "outputs": [],
   "source": [
    "int_PM_errors_Thal = [int_PM_log_Thal['mean int'].values-int_PM_log_Thal['95%quant-low'].values, int_PM_log_Thal['95%quant-high'].values-int_PM_log_Thal['mean int'].values]\n",
    "int_V1_errors_Thal = [int_V1_log_Thal['95%quant-low'].values-int_V1_log_Thal['mean int'].values, int_V1_log_Thal['mean int'].values-int_V1_log_Thal['95%quant-high'].values]"
   ]
  },
  {
   "cell_type": "code",
   "execution_count": 51,
   "metadata": {},
   "outputs": [],
   "source": [
    "int_PM_log_VIS = int_PM_log[int_PM_log.grouped_area == 'VIS']\n",
    "int_V1_log_VIS = int_V1_log[int_V1_log.grouped_area == 'VIS']"
   ]
  },
  {
   "cell_type": "code",
   "execution_count": 52,
   "metadata": {},
   "outputs": [],
   "source": [
    "int_PM_errors_VIS = [int_PM_log_VIS['mean int'].values-int_PM_log_VIS['95%quant-low'].values, int_PM_log_VIS['95%quant-high'].values-int_PM_log_VIS['mean int'].values]\n",
    "int_V1_errors_VIS = [int_V1_log_VIS['95%quant-low'].values-int_V1_log_VIS['mean int'].values, int_V1_log_VIS['mean int'].values-int_V1_log_VIS['95%quant-high'].values]"
   ]
  },
  {
   "cell_type": "code",
   "execution_count": 53,
   "metadata": {},
   "outputs": [],
   "source": [
    "int_PM_log_Dist = int_PM_log[int_PM_log.grouped_area == 'Dist_ctx']\n",
    "int_V1_log_Dist = int_V1_log[int_V1_log.grouped_area == 'Dist_ctx']"
   ]
  },
  {
   "cell_type": "code",
   "execution_count": 54,
   "metadata": {},
   "outputs": [],
   "source": [
    "int_PM_errors_Dist = [int_PM_log_Dist['mean int'].values-int_PM_log_Dist['95%quant-low'].values, int_PM_log_Dist['95%quant-high'].values-int_PM_log_Dist['mean int'].values]\n",
    "int_V1_errors_Dist = [int_V1_log_Dist['95%quant-low'].values-int_V1_log_Dist['mean int'].values, int_V1_log_Dist['mean int'].values-int_V1_log_Dist['95%quant-high'].values]"
   ]
  },
  {
   "cell_type": "code",
   "execution_count": 55,
   "metadata": {},
   "outputs": [],
   "source": [
    "int_PM_log_RSP = int_PM_log[int_PM_log.grouped_area == 'RSP']\n",
    "int_V1_log_RSP = int_V1_log[int_V1_log.grouped_area == 'RSP']"
   ]
  },
  {
   "cell_type": "code",
   "execution_count": 56,
   "metadata": {},
   "outputs": [],
   "source": [
    "int_PM_errors_RSP = [int_PM_log_RSP['mean int'].values-int_PM_log_RSP['95%quant-low'].values, int_PM_log_RSP['95%quant-high'].values-int_PM_log_RSP['mean int'].values]\n",
    "int_V1_errors_RSP = [int_V1_log_RSP['95%quant-low'].values-int_V1_log_RSP['mean int'].values, int_V1_log_RSP['mean int'].values-int_V1_log_RSP['95%quant-high'].values]"
   ]
  },
  {
   "cell_type": "code",
   "execution_count": 57,
   "metadata": {},
   "outputs": [
    {
     "ename": "ValueError",
     "evalue": "'yerr' must not contain negative values",
     "output_type": "error",
     "traceback": [
      "\u001b[0;31m---------------------------------------------------------------------------\u001b[0m",
      "\u001b[0;31mValueError\u001b[0m                                Traceback (most recent call last)",
      "\u001b[0;32m/var/folders/n7/dvksxsf55hxbzrrfm5gv88cwmxqfb7/T/ipykernel_42811/588419631.py\u001b[0m in \u001b[0;36m<module>\u001b[0;34m\u001b[0m\n\u001b[1;32m      2\u001b[0m \u001b[0msns\u001b[0m\u001b[0;34m.\u001b[0m\u001b[0mcatplot\u001b[0m\u001b[0;34m(\u001b[0m\u001b[0mdata\u001b[0m \u001b[0;34m=\u001b[0m \u001b[0mint_log\u001b[0m\u001b[0;34m[\u001b[0m\u001b[0mint_log\u001b[0m\u001b[0;34m.\u001b[0m\u001b[0mgrouped_area\u001b[0m \u001b[0;34m==\u001b[0m \u001b[0;34m'Thal'\u001b[0m\u001b[0;34m]\u001b[0m\u001b[0;34m,\u001b[0m  \u001b[0mx\u001b[0m \u001b[0;34m=\u001b[0m \u001b[0;34m'area'\u001b[0m\u001b[0;34m,\u001b[0m \u001b[0my\u001b[0m \u001b[0;34m=\u001b[0m\u001b[0;34m'mean int'\u001b[0m\u001b[0;34m,\u001b[0m \u001b[0mhue\u001b[0m \u001b[0;34m=\u001b[0m \u001b[0;34m'target'\u001b[0m\u001b[0;34m,\u001b[0m \u001b[0mkind\u001b[0m\u001b[0;34m=\u001b[0m\u001b[0;34m\"bar\"\u001b[0m\u001b[0;34m,\u001b[0m \u001b[0mlegend\u001b[0m\u001b[0;34m=\u001b[0m\u001b[0;32mFalse\u001b[0m\u001b[0;34m,\u001b[0m \u001b[0mpalette\u001b[0m \u001b[0;34m=\u001b[0m \u001b[0mpalette\u001b[0m\u001b[0;34m)\u001b[0m\u001b[0;34m\u001b[0m\u001b[0;34m\u001b[0m\u001b[0m\n\u001b[1;32m      3\u001b[0m \u001b[0;34m\u001b[0m\u001b[0m\n\u001b[0;32m----> 4\u001b[0;31m \u001b[0mplt\u001b[0m\u001b[0;34m.\u001b[0m\u001b[0merrorbar\u001b[0m\u001b[0;34m(\u001b[0m\u001b[0;34m[\u001b[0m\u001b[0;34m-\u001b[0m\u001b[0;36m0.17\u001b[0m\u001b[0;34m,\u001b[0m\u001b[0;36m1\u001b[0m\u001b[0;34m-\u001b[0m\u001b[0;36m0.17\u001b[0m\u001b[0;34m,\u001b[0m\u001b[0;36m2\u001b[0m\u001b[0;34m-\u001b[0m\u001b[0;36m0.17\u001b[0m\u001b[0;34m,\u001b[0m\u001b[0;36m3\u001b[0m\u001b[0;34m-\u001b[0m\u001b[0;36m0.17\u001b[0m\u001b[0;34m]\u001b[0m\u001b[0;34m,\u001b[0m \u001b[0my\u001b[0m \u001b[0;34m=\u001b[0m \u001b[0mint_V1_log_Thal\u001b[0m\u001b[0;34m[\u001b[0m\u001b[0;34m'mean int'\u001b[0m\u001b[0;34m]\u001b[0m\u001b[0;34m.\u001b[0m\u001b[0mvalues\u001b[0m\u001b[0;34m,\u001b[0m \u001b[0myerr\u001b[0m \u001b[0;34m=\u001b[0m \u001b[0mint_V1_errors_Thal\u001b[0m\u001b[0;34m,\u001b[0m \u001b[0mc\u001b[0m\u001b[0;34m=\u001b[0m \u001b[0;34m'k'\u001b[0m\u001b[0;34m,\u001b[0m\u001b[0mfmt\u001b[0m\u001b[0;34m=\u001b[0m\u001b[0;34m'none'\u001b[0m\u001b[0;34m)\u001b[0m\u001b[0;34m\u001b[0m\u001b[0;34m\u001b[0m\u001b[0m\n\u001b[0m\u001b[1;32m      5\u001b[0m \u001b[0mplt\u001b[0m\u001b[0;34m.\u001b[0m\u001b[0merrorbar\u001b[0m\u001b[0;34m(\u001b[0m\u001b[0;34m[\u001b[0m\u001b[0;36m0\u001b[0m\u001b[0;34m+\u001b[0m\u001b[0;36m0.2\u001b[0m\u001b[0;34m,\u001b[0m\u001b[0;36m1\u001b[0m\u001b[0;34m+\u001b[0m\u001b[0;36m0.2\u001b[0m\u001b[0;34m,\u001b[0m\u001b[0;36m2\u001b[0m\u001b[0;34m+\u001b[0m\u001b[0;36m0.2\u001b[0m\u001b[0;34m,\u001b[0m\u001b[0;36m3\u001b[0m\u001b[0;34m+\u001b[0m\u001b[0;36m0.2\u001b[0m\u001b[0;34m]\u001b[0m\u001b[0;34m,\u001b[0m \u001b[0my\u001b[0m \u001b[0;34m=\u001b[0m \u001b[0mint_PM_log_Thal\u001b[0m\u001b[0;34m[\u001b[0m\u001b[0;34m'mean int'\u001b[0m\u001b[0;34m]\u001b[0m\u001b[0;34m.\u001b[0m\u001b[0mvalues\u001b[0m\u001b[0;34m,\u001b[0m \u001b[0myerr\u001b[0m \u001b[0;34m=\u001b[0m \u001b[0mint_PM_errors_Thal\u001b[0m\u001b[0;34m,\u001b[0m \u001b[0mc\u001b[0m\u001b[0;34m=\u001b[0m \u001b[0;34m'k'\u001b[0m\u001b[0;34m,\u001b[0m\u001b[0mfmt\u001b[0m\u001b[0;34m=\u001b[0m\u001b[0;34m'none'\u001b[0m\u001b[0;34m)\u001b[0m\u001b[0;34m\u001b[0m\u001b[0;34m\u001b[0m\u001b[0m\n\u001b[1;32m      6\u001b[0m \u001b[0;34m\u001b[0m\u001b[0m\n",
      "\u001b[0;32m~/opt/anaconda3/lib/python3.9/site-packages/matplotlib/pyplot.py\u001b[0m in \u001b[0;36merrorbar\u001b[0;34m(x, y, yerr, xerr, fmt, ecolor, elinewidth, capsize, barsabove, lolims, uplims, xlolims, xuplims, errorevery, capthick, data, **kwargs)\u001b[0m\n\u001b[1;32m   2490\u001b[0m         \u001b[0muplims\u001b[0m\u001b[0;34m=\u001b[0m\u001b[0;32mFalse\u001b[0m\u001b[0;34m,\u001b[0m \u001b[0mxlolims\u001b[0m\u001b[0;34m=\u001b[0m\u001b[0;32mFalse\u001b[0m\u001b[0;34m,\u001b[0m \u001b[0mxuplims\u001b[0m\u001b[0;34m=\u001b[0m\u001b[0;32mFalse\u001b[0m\u001b[0;34m,\u001b[0m \u001b[0merrorevery\u001b[0m\u001b[0;34m=\u001b[0m\u001b[0;36m1\u001b[0m\u001b[0;34m,\u001b[0m\u001b[0;34m\u001b[0m\u001b[0;34m\u001b[0m\u001b[0m\n\u001b[1;32m   2491\u001b[0m         capthick=None, *, data=None, **kwargs):\n\u001b[0;32m-> 2492\u001b[0;31m     return gca().errorbar(\n\u001b[0m\u001b[1;32m   2493\u001b[0m         \u001b[0mx\u001b[0m\u001b[0;34m,\u001b[0m \u001b[0my\u001b[0m\u001b[0;34m,\u001b[0m \u001b[0myerr\u001b[0m\u001b[0;34m=\u001b[0m\u001b[0myerr\u001b[0m\u001b[0;34m,\u001b[0m \u001b[0mxerr\u001b[0m\u001b[0;34m=\u001b[0m\u001b[0mxerr\u001b[0m\u001b[0;34m,\u001b[0m \u001b[0mfmt\u001b[0m\u001b[0;34m=\u001b[0m\u001b[0mfmt\u001b[0m\u001b[0;34m,\u001b[0m \u001b[0mecolor\u001b[0m\u001b[0;34m=\u001b[0m\u001b[0mecolor\u001b[0m\u001b[0;34m,\u001b[0m\u001b[0;34m\u001b[0m\u001b[0;34m\u001b[0m\u001b[0m\n\u001b[1;32m   2494\u001b[0m         \u001b[0melinewidth\u001b[0m\u001b[0;34m=\u001b[0m\u001b[0melinewidth\u001b[0m\u001b[0;34m,\u001b[0m \u001b[0mcapsize\u001b[0m\u001b[0;34m=\u001b[0m\u001b[0mcapsize\u001b[0m\u001b[0;34m,\u001b[0m \u001b[0mbarsabove\u001b[0m\u001b[0;34m=\u001b[0m\u001b[0mbarsabove\u001b[0m\u001b[0;34m,\u001b[0m\u001b[0;34m\u001b[0m\u001b[0;34m\u001b[0m\u001b[0m\n",
      "\u001b[0;32m~/opt/anaconda3/lib/python3.9/site-packages/matplotlib/__init__.py\u001b[0m in \u001b[0;36minner\u001b[0;34m(ax, data, *args, **kwargs)\u001b[0m\n\u001b[1;32m   1421\u001b[0m     \u001b[0;32mdef\u001b[0m \u001b[0minner\u001b[0m\u001b[0;34m(\u001b[0m\u001b[0max\u001b[0m\u001b[0;34m,\u001b[0m \u001b[0;34m*\u001b[0m\u001b[0margs\u001b[0m\u001b[0;34m,\u001b[0m \u001b[0mdata\u001b[0m\u001b[0;34m=\u001b[0m\u001b[0;32mNone\u001b[0m\u001b[0;34m,\u001b[0m \u001b[0;34m**\u001b[0m\u001b[0mkwargs\u001b[0m\u001b[0;34m)\u001b[0m\u001b[0;34m:\u001b[0m\u001b[0;34m\u001b[0m\u001b[0;34m\u001b[0m\u001b[0m\n\u001b[1;32m   1422\u001b[0m         \u001b[0;32mif\u001b[0m \u001b[0mdata\u001b[0m \u001b[0;32mis\u001b[0m \u001b[0;32mNone\u001b[0m\u001b[0;34m:\u001b[0m\u001b[0;34m\u001b[0m\u001b[0;34m\u001b[0m\u001b[0m\n\u001b[0;32m-> 1423\u001b[0;31m             \u001b[0;32mreturn\u001b[0m \u001b[0mfunc\u001b[0m\u001b[0;34m(\u001b[0m\u001b[0max\u001b[0m\u001b[0;34m,\u001b[0m \u001b[0;34m*\u001b[0m\u001b[0mmap\u001b[0m\u001b[0;34m(\u001b[0m\u001b[0msanitize_sequence\u001b[0m\u001b[0;34m,\u001b[0m \u001b[0margs\u001b[0m\u001b[0;34m)\u001b[0m\u001b[0;34m,\u001b[0m \u001b[0;34m**\u001b[0m\u001b[0mkwargs\u001b[0m\u001b[0;34m)\u001b[0m\u001b[0;34m\u001b[0m\u001b[0;34m\u001b[0m\u001b[0m\n\u001b[0m\u001b[1;32m   1424\u001b[0m \u001b[0;34m\u001b[0m\u001b[0m\n\u001b[1;32m   1425\u001b[0m         \u001b[0mbound\u001b[0m \u001b[0;34m=\u001b[0m \u001b[0mnew_sig\u001b[0m\u001b[0;34m.\u001b[0m\u001b[0mbind\u001b[0m\u001b[0;34m(\u001b[0m\u001b[0max\u001b[0m\u001b[0;34m,\u001b[0m \u001b[0;34m*\u001b[0m\u001b[0margs\u001b[0m\u001b[0;34m,\u001b[0m \u001b[0;34m**\u001b[0m\u001b[0mkwargs\u001b[0m\u001b[0;34m)\u001b[0m\u001b[0;34m\u001b[0m\u001b[0;34m\u001b[0m\u001b[0m\n",
      "\u001b[0;32m~/opt/anaconda3/lib/python3.9/site-packages/matplotlib/axes/_axes.py\u001b[0m in \u001b[0;36merrorbar\u001b[0;34m(self, x, y, yerr, xerr, fmt, ecolor, elinewidth, capsize, barsabove, lolims, uplims, xlolims, xuplims, errorevery, capthick, **kwargs)\u001b[0m\n\u001b[1;32m   3593\u001b[0m             \u001b[0;32mif\u001b[0m \u001b[0mnp\u001b[0m\u001b[0;34m.\u001b[0m\u001b[0many\u001b[0m\u001b[0;34m(\u001b[0m\u001b[0mnp\u001b[0m\u001b[0;34m.\u001b[0m\u001b[0mless\u001b[0m\u001b[0;34m(\u001b[0m\u001b[0merr\u001b[0m\u001b[0;34m,\u001b[0m \u001b[0;34m-\u001b[0m\u001b[0merr\u001b[0m\u001b[0;34m,\u001b[0m \u001b[0mout\u001b[0m\u001b[0;34m=\u001b[0m\u001b[0mres\u001b[0m\u001b[0;34m,\u001b[0m \u001b[0mwhere\u001b[0m\u001b[0;34m=\u001b[0m\u001b[0;34m(\u001b[0m\u001b[0merr\u001b[0m \u001b[0;34m==\u001b[0m \u001b[0merr\u001b[0m\u001b[0;34m)\u001b[0m\u001b[0;34m)\u001b[0m\u001b[0;34m)\u001b[0m\u001b[0;34m:\u001b[0m\u001b[0;34m\u001b[0m\u001b[0;34m\u001b[0m\u001b[0m\n\u001b[1;32m   3594\u001b[0m                 \u001b[0;31m# like err<0, but also works for timedelta and nan.\u001b[0m\u001b[0;34m\u001b[0m\u001b[0;34m\u001b[0m\u001b[0m\n\u001b[0;32m-> 3595\u001b[0;31m                 raise ValueError(\n\u001b[0m\u001b[1;32m   3596\u001b[0m                     f\"'{dep_axis}err' must not contain negative values\")\n\u001b[1;32m   3597\u001b[0m             \u001b[0;31m# This is like\u001b[0m\u001b[0;34m\u001b[0m\u001b[0;34m\u001b[0m\u001b[0m\n",
      "\u001b[0;31mValueError\u001b[0m: 'yerr' must not contain negative values"
     ]
    },
    {
     "data": {
      "image/png": "[encoded data removed]",
      "text/plain": [
       "<Figure size 500x500 with 1 Axes>"
      ]
     },
     "metadata": {},
     "output_type": "display_data"
    }
   ],
   "source": [
    "sns.set_style(\"ticks\")\n",
    "sns.catplot(data = int_log[int_log.grouped_area == 'Thal'],  x = 'area', y ='mean int', hue = 'target', kind=\"bar\", legend=False, palette = palette)\n",
    "\n",
    "plt.errorbar([-0.17,1-0.17,2-0.17,3-0.17], y = int_V1_log_Thal['mean int'].values, yerr = int_V1_errors_Thal, c= 'k',fmt='none')\n",
    "plt.errorbar([0+0.2,1+0.2,2+0.2,3+0.2], y = int_PM_log_Thal['mean int'].values, yerr = int_PM_errors_Thal, c= 'k',fmt='none')\n",
    "\n",
    "fig = plt.gcf()\n",
    "ax = plt.gca()\n",
    "fig.set_size_inches(3, 5)\n",
    "\n",
    "plt.ylabel('intercept', fontsize = 16)\n",
    "plt.xlabel('area', fontsize = 16)\n",
    "for label in (ax.get_xticklabels() + ax.get_yticklabels()):\n",
    "    label.set_fontsize(14)\n",
    "plt.ylim(0, 4)\n",
    "\n",
    "\n",
    "\n",
    "fig.savefig(os.path.join(figs45panelpaths, 'figS4_5b1v2.png'),  bbox_inches='tight')\n",
    "fig.savefig(os.path.join(figs45panelpaths, 'figS4_5b1v2.eps'),  bbox_inches='tight', format = 'eps')"
   ]
  },
  {
   "cell_type": "code",
   "execution_count": 58,
   "metadata": {},
   "outputs": [
    {
     "ename": "ValueError",
     "evalue": "'yerr' must not contain negative values",
     "output_type": "error",
     "traceback": [
      "\u001b[0;31m---------------------------------------------------------------------------\u001b[0m",
      "\u001b[0;31mValueError\u001b[0m                                Traceback (most recent call last)",
      "\u001b[0;32m/var/folders/n7/dvksxsf55hxbzrrfm5gv88cwmxqfb7/T/ipykernel_42811/3371837217.py\u001b[0m in \u001b[0;36m<module>\u001b[0;34m\u001b[0m\n\u001b[1;32m      1\u001b[0m \u001b[0msns\u001b[0m\u001b[0;34m.\u001b[0m\u001b[0mcatplot\u001b[0m\u001b[0;34m(\u001b[0m\u001b[0mdata\u001b[0m \u001b[0;34m=\u001b[0m \u001b[0mint_log\u001b[0m\u001b[0;34m[\u001b[0m\u001b[0mint_log\u001b[0m\u001b[0;34m.\u001b[0m\u001b[0mgrouped_area\u001b[0m \u001b[0;34m==\u001b[0m \u001b[0;34m'Dist_ctx'\u001b[0m\u001b[0;34m]\u001b[0m\u001b[0;34m,\u001b[0m  \u001b[0mx\u001b[0m \u001b[0;34m=\u001b[0m \u001b[0;34m'area'\u001b[0m\u001b[0;34m,\u001b[0m \u001b[0my\u001b[0m \u001b[0;34m=\u001b[0m\u001b[0;34m'mean int'\u001b[0m\u001b[0;34m,\u001b[0m \u001b[0mhue\u001b[0m \u001b[0;34m=\u001b[0m \u001b[0;34m'target'\u001b[0m\u001b[0;34m,\u001b[0m \u001b[0mkind\u001b[0m\u001b[0;34m=\u001b[0m\u001b[0;34m\"bar\"\u001b[0m\u001b[0;34m,\u001b[0m \u001b[0mlegend\u001b[0m\u001b[0;34m=\u001b[0m\u001b[0;32mFalse\u001b[0m\u001b[0;34m,\u001b[0m \u001b[0mpalette\u001b[0m \u001b[0;34m=\u001b[0m \u001b[0mpalette\u001b[0m\u001b[0;34m)\u001b[0m\u001b[0;34m\u001b[0m\u001b[0;34m\u001b[0m\u001b[0m\n\u001b[1;32m      2\u001b[0m \u001b[0;34m\u001b[0m\u001b[0m\n\u001b[0;32m----> 3\u001b[0;31m \u001b[0mplt\u001b[0m\u001b[0;34m.\u001b[0m\u001b[0merrorbar\u001b[0m\u001b[0;34m(\u001b[0m\u001b[0;34m[\u001b[0m\u001b[0;34m-\u001b[0m\u001b[0;36m0.17\u001b[0m\u001b[0;34m,\u001b[0m \u001b[0;36m1\u001b[0m\u001b[0;34m-\u001b[0m\u001b[0;36m0.17\u001b[0m\u001b[0;34m,\u001b[0m \u001b[0;36m2\u001b[0m\u001b[0;34m-\u001b[0m\u001b[0;36m0.17\u001b[0m\u001b[0;34m,\u001b[0m \u001b[0;36m3\u001b[0m\u001b[0;34m-\u001b[0m\u001b[0;36m0.17\u001b[0m\u001b[0;34m,\u001b[0m \u001b[0;36m4\u001b[0m\u001b[0;34m-\u001b[0m\u001b[0;36m0.17\u001b[0m\u001b[0;34m,\u001b[0m \u001b[0;36m5\u001b[0m\u001b[0;34m-\u001b[0m\u001b[0;36m0.17\u001b[0m\u001b[0;34m,\u001b[0m \u001b[0;36m6\u001b[0m\u001b[0;34m-\u001b[0m\u001b[0;36m0.17\u001b[0m\u001b[0;34m]\u001b[0m\u001b[0;34m,\u001b[0m \u001b[0my\u001b[0m \u001b[0;34m=\u001b[0m \u001b[0mint_V1_log_Dist\u001b[0m\u001b[0;34m[\u001b[0m\u001b[0;34m'mean int'\u001b[0m\u001b[0;34m]\u001b[0m\u001b[0;34m.\u001b[0m\u001b[0mvalues\u001b[0m\u001b[0;34m,\u001b[0m \u001b[0myerr\u001b[0m \u001b[0;34m=\u001b[0m \u001b[0mint_V1_errors_Dist\u001b[0m\u001b[0;34m,\u001b[0m \u001b[0mc\u001b[0m\u001b[0;34m=\u001b[0m \u001b[0;34m'k'\u001b[0m\u001b[0;34m,\u001b[0m\u001b[0mfmt\u001b[0m\u001b[0;34m=\u001b[0m\u001b[0;34m'none'\u001b[0m\u001b[0;34m)\u001b[0m\u001b[0;34m\u001b[0m\u001b[0;34m\u001b[0m\u001b[0m\n\u001b[0m\u001b[1;32m      4\u001b[0m \u001b[0mplt\u001b[0m\u001b[0;34m.\u001b[0m\u001b[0merrorbar\u001b[0m\u001b[0;34m(\u001b[0m\u001b[0;34m[\u001b[0m\u001b[0;36m0\u001b[0m\u001b[0;34m+\u001b[0m\u001b[0;36m0.2\u001b[0m\u001b[0;34m,\u001b[0m \u001b[0;36m1\u001b[0m\u001b[0;34m+\u001b[0m\u001b[0;36m0.2\u001b[0m\u001b[0;34m,\u001b[0m \u001b[0;36m2\u001b[0m\u001b[0;34m+\u001b[0m\u001b[0;36m0.2\u001b[0m\u001b[0;34m,\u001b[0m \u001b[0;36m3\u001b[0m\u001b[0;34m+\u001b[0m\u001b[0;36m0.2\u001b[0m\u001b[0;34m,\u001b[0m \u001b[0;36m4\u001b[0m\u001b[0;34m+\u001b[0m\u001b[0;36m0.2\u001b[0m\u001b[0;34m,\u001b[0m \u001b[0;36m5\u001b[0m\u001b[0;34m+\u001b[0m\u001b[0;36m0.2\u001b[0m\u001b[0;34m,\u001b[0m \u001b[0;36m6\u001b[0m\u001b[0;34m+\u001b[0m\u001b[0;36m0.2\u001b[0m\u001b[0;34m]\u001b[0m\u001b[0;34m,\u001b[0m \u001b[0my\u001b[0m \u001b[0;34m=\u001b[0m \u001b[0mint_PM_log_Dist\u001b[0m\u001b[0;34m[\u001b[0m\u001b[0;34m'mean int'\u001b[0m\u001b[0;34m]\u001b[0m\u001b[0;34m.\u001b[0m\u001b[0mvalues\u001b[0m\u001b[0;34m,\u001b[0m \u001b[0myerr\u001b[0m \u001b[0;34m=\u001b[0m \u001b[0mint_PM_errors_Dist\u001b[0m\u001b[0;34m,\u001b[0m \u001b[0mc\u001b[0m\u001b[0;34m=\u001b[0m \u001b[0;34m'k'\u001b[0m\u001b[0;34m,\u001b[0m\u001b[0mfmt\u001b[0m\u001b[0;34m=\u001b[0m\u001b[0;34m'none'\u001b[0m\u001b[0;34m)\u001b[0m\u001b[0;34m\u001b[0m\u001b[0;34m\u001b[0m\u001b[0m\n\u001b[1;32m      5\u001b[0m \u001b[0;34m\u001b[0m\u001b[0m\n",
      "\u001b[0;32m~/opt/anaconda3/lib/python3.9/site-packages/matplotlib/pyplot.py\u001b[0m in \u001b[0;36merrorbar\u001b[0;34m(x, y, yerr, xerr, fmt, ecolor, elinewidth, capsize, barsabove, lolims, uplims, xlolims, xuplims, errorevery, capthick, data, **kwargs)\u001b[0m\n\u001b[1;32m   2490\u001b[0m         \u001b[0muplims\u001b[0m\u001b[0;34m=\u001b[0m\u001b[0;32mFalse\u001b[0m\u001b[0;34m,\u001b[0m \u001b[0mxlolims\u001b[0m\u001b[0;34m=\u001b[0m\u001b[0;32mFalse\u001b[0m\u001b[0;34m,\u001b[0m \u001b[0mxuplims\u001b[0m\u001b[0;34m=\u001b[0m\u001b[0;32mFalse\u001b[0m\u001b[0;34m,\u001b[0m \u001b[0merrorevery\u001b[0m\u001b[0;34m=\u001b[0m\u001b[0;36m1\u001b[0m\u001b[0;34m,\u001b[0m\u001b[0;34m\u001b[0m\u001b[0;34m\u001b[0m\u001b[0m\n\u001b[1;32m   2491\u001b[0m         capthick=None, *, data=None, **kwargs):\n\u001b[0;32m-> 2492\u001b[0;31m     return gca().errorbar(\n\u001b[0m\u001b[1;32m   2493\u001b[0m         \u001b[0mx\u001b[0m\u001b[0;34m,\u001b[0m \u001b[0my\u001b[0m\u001b[0;34m,\u001b[0m \u001b[0myerr\u001b[0m\u001b[0;34m=\u001b[0m\u001b[0myerr\u001b[0m\u001b[0;34m,\u001b[0m \u001b[0mxerr\u001b[0m\u001b[0;34m=\u001b[0m\u001b[0mxerr\u001b[0m\u001b[0;34m,\u001b[0m \u001b[0mfmt\u001b[0m\u001b[0;34m=\u001b[0m\u001b[0mfmt\u001b[0m\u001b[0;34m,\u001b[0m \u001b[0mecolor\u001b[0m\u001b[0;34m=\u001b[0m\u001b[0mecolor\u001b[0m\u001b[0;34m,\u001b[0m\u001b[0;34m\u001b[0m\u001b[0;34m\u001b[0m\u001b[0m\n\u001b[1;32m   2494\u001b[0m         \u001b[0melinewidth\u001b[0m\u001b[0;34m=\u001b[0m\u001b[0melinewidth\u001b[0m\u001b[0;34m,\u001b[0m \u001b[0mcapsize\u001b[0m\u001b[0;34m=\u001b[0m\u001b[0mcapsize\u001b[0m\u001b[0;34m,\u001b[0m \u001b[0mbarsabove\u001b[0m\u001b[0;34m=\u001b[0m\u001b[0mbarsabove\u001b[0m\u001b[0;34m,\u001b[0m\u001b[0;34m\u001b[0m\u001b[0;34m\u001b[0m\u001b[0m\n",
      "\u001b[0;32m~/opt/anaconda3/lib/python3.9/site-packages/matplotlib/__init__.py\u001b[0m in \u001b[0;36minner\u001b[0;34m(ax, data, *args, **kwargs)\u001b[0m\n\u001b[1;32m   1421\u001b[0m     \u001b[0;32mdef\u001b[0m \u001b[0minner\u001b[0m\u001b[0;34m(\u001b[0m\u001b[0max\u001b[0m\u001b[0;34m,\u001b[0m \u001b[0;34m*\u001b[0m\u001b[0margs\u001b[0m\u001b[0;34m,\u001b[0m \u001b[0mdata\u001b[0m\u001b[0;34m=\u001b[0m\u001b[0;32mNone\u001b[0m\u001b[0;34m,\u001b[0m \u001b[0;34m**\u001b[0m\u001b[0mkwargs\u001b[0m\u001b[0;34m)\u001b[0m\u001b[0;34m:\u001b[0m\u001b[0;34m\u001b[0m\u001b[0;34m\u001b[0m\u001b[0m\n\u001b[1;32m   1422\u001b[0m         \u001b[0;32mif\u001b[0m \u001b[0mdata\u001b[0m \u001b[0;32mis\u001b[0m \u001b[0;32mNone\u001b[0m\u001b[0;34m:\u001b[0m\u001b[0;34m\u001b[0m\u001b[0;34m\u001b[0m\u001b[0m\n\u001b[0;32m-> 1423\u001b[0;31m             \u001b[0;32mreturn\u001b[0m \u001b[0mfunc\u001b[0m\u001b[0;34m(\u001b[0m\u001b[0max\u001b[0m\u001b[0;34m,\u001b[0m \u001b[0;34m*\u001b[0m\u001b[0mmap\u001b[0m\u001b[0;34m(\u001b[0m\u001b[0msanitize_sequence\u001b[0m\u001b[0;34m,\u001b[0m \u001b[0margs\u001b[0m\u001b[0;34m)\u001b[0m\u001b[0;34m,\u001b[0m \u001b[0;34m**\u001b[0m\u001b[0mkwargs\u001b[0m\u001b[0;34m)\u001b[0m\u001b[0;34m\u001b[0m\u001b[0;34m\u001b[0m\u001b[0m\n\u001b[0m\u001b[1;32m   1424\u001b[0m \u001b[0;34m\u001b[0m\u001b[0m\n\u001b[1;32m   1425\u001b[0m         \u001b[0mbound\u001b[0m \u001b[0;34m=\u001b[0m \u001b[0mnew_sig\u001b[0m\u001b[0;34m.\u001b[0m\u001b[0mbind\u001b[0m\u001b[0;34m(\u001b[0m\u001b[0max\u001b[0m\u001b[0;34m,\u001b[0m \u001b[0;34m*\u001b[0m\u001b[0margs\u001b[0m\u001b[0;34m,\u001b[0m \u001b[0;34m**\u001b[0m\u001b[0mkwargs\u001b[0m\u001b[0;34m)\u001b[0m\u001b[0;34m\u001b[0m\u001b[0;34m\u001b[0m\u001b[0m\n",
      "\u001b[0;32m~/opt/anaconda3/lib/python3.9/site-packages/matplotlib/axes/_axes.py\u001b[0m in \u001b[0;36merrorbar\u001b[0;34m(self, x, y, yerr, xerr, fmt, ecolor, elinewidth, capsize, barsabove, lolims, uplims, xlolims, xuplims, errorevery, capthick, **kwargs)\u001b[0m\n\u001b[1;32m   3593\u001b[0m             \u001b[0;32mif\u001b[0m \u001b[0mnp\u001b[0m\u001b[0;34m.\u001b[0m\u001b[0many\u001b[0m\u001b[0;34m(\u001b[0m\u001b[0mnp\u001b[0m\u001b[0;34m.\u001b[0m\u001b[0mless\u001b[0m\u001b[0;34m(\u001b[0m\u001b[0merr\u001b[0m\u001b[0;34m,\u001b[0m \u001b[0;34m-\u001b[0m\u001b[0merr\u001b[0m\u001b[0;34m,\u001b[0m \u001b[0mout\u001b[0m\u001b[0;34m=\u001b[0m\u001b[0mres\u001b[0m\u001b[0;34m,\u001b[0m \u001b[0mwhere\u001b[0m\u001b[0;34m=\u001b[0m\u001b[0;34m(\u001b[0m\u001b[0merr\u001b[0m \u001b[0;34m==\u001b[0m \u001b[0merr\u001b[0m\u001b[0;34m)\u001b[0m\u001b[0;34m)\u001b[0m\u001b[0;34m)\u001b[0m\u001b[0;34m:\u001b[0m\u001b[0;34m\u001b[0m\u001b[0;34m\u001b[0m\u001b[0m\n\u001b[1;32m   3594\u001b[0m                 \u001b[0;31m# like err<0, but also works for timedelta and nan.\u001b[0m\u001b[0;34m\u001b[0m\u001b[0;34m\u001b[0m\u001b[0m\n\u001b[0;32m-> 3595\u001b[0;31m                 raise ValueError(\n\u001b[0m\u001b[1;32m   3596\u001b[0m                     f\"'{dep_axis}err' must not contain negative values\")\n\u001b[1;32m   3597\u001b[0m             \u001b[0;31m# This is like\u001b[0m\u001b[0;34m\u001b[0m\u001b[0;34m\u001b[0m\u001b[0m\n",
      "\u001b[0;31mValueError\u001b[0m: 'yerr' must not contain negative values"
     ]
    },
    {
     "data": {
      "image/png": "[encoded data removed]",
      "text/plain": [
       "<Figure size 500x500 with 1 Axes>"
      ]
     },
     "metadata": {},
     "output_type": "display_data"
    }
   ],
   "source": [
    "sns.catplot(data = int_log[int_log.grouped_area == 'Dist_ctx'],  x = 'area', y ='mean int', hue = 'target', kind=\"bar\", legend=False, palette = palette)\n",
    "\n",
    "plt.errorbar([-0.17, 1-0.17, 2-0.17, 3-0.17, 4-0.17, 5-0.17, 6-0.17], y = int_V1_log_Dist['mean int'].values, yerr = int_V1_errors_Dist, c= 'k',fmt='none')\n",
    "plt.errorbar([0+0.2, 1+0.2, 2+0.2, 3+0.2, 4+0.2, 5+0.2, 6+0.2], y = int_PM_log_Dist['mean int'].values, yerr = int_PM_errors_Dist, c= 'k',fmt='none')  \n",
    "                         \n",
    "fig = plt.gcf()\n",
    "ax = plt.gca()\n",
    "fig.set_size_inches(5,5)\n",
    "\n",
    "plt.xlabel('area', fontsize = 16)\n",
    "for label in (ax.get_xticklabels() + ax.get_yticklabels()):\n",
    "    label.set_fontsize(14)\n",
    "plt.ylim(0, 5)\n",
    "ax.get_yaxis().set_visible(False)\n",
    "\n",
    "\n",
    "\n",
    "fig.savefig(os.path.join(figs45panelpaths, 'figS4_5b2v2.png'),  bbox_inches='tight')\n",
    "fig.savefig(os.path.join(figs45panelpaths, 'figS4_5b2v2.eps'),  bbox_inches='tight', format = 'eps')"
   ]
  },
  {
   "cell_type": "code",
   "execution_count": 58,
   "metadata": {},
   "outputs": [
    {
     "data": {
      "image/png": "[encoded data removed]",
      "text/plain": [
       "<Figure size 288x360 with 1 Axes>"
      ]
     },
     "metadata": {},
     "output_type": "display_data"
    }
   ],
   "source": [
    "sns.catplot(data = int_log[int_log.grouped_area == 'VIS'],  x = 'area', y ='mean int', hue = 'target', kind=\"bar\", legend=False, palette = palette)\n",
    "\n",
    "plt.errorbar([-0.17, 1-0.17, 2-0.17, 3-0.17, 4-0.17], y = int_V1_log_VIS['mean int'].values, yerr = int_V1_errors_VIS, c= 'k',fmt='none')\n",
    "plt.errorbar([0+0.2, 1+0.2, 2+0.2, 3+0.2, 4+0.2],y = int_PM_log_VIS['mean int'].values, yerr = int_PM_errors_VIS, c= 'k',fmt='none')     \n",
    "\n",
    "fig = plt.gcf()\n",
    "ax = plt.gca()\n",
    "fig.set_size_inches(4, 5)\n",
    "\n",
    "plt.ylim(0, 5)\n",
    "\n",
    "ax.get_yaxis().set_visible(False)\n",
    "\n",
    "plt.xlabel('area', fontsize = 16)\n",
    "for label in (ax.get_xticklabels() + ax.get_yticklabels()):\n",
    "    label.set_fontsize(14)\n",
    "\n",
    "ax.get_yaxis().set_visible(False)\n",
    "\n",
    "fig.savefig(os.path.join(figs45panelpaths, 'figS4_5b3v2.png'),  bbox_inches='tight')\n",
    "fig.savefig(os.path.join(figs45panelpaths, 'figS4_5b3v2.eps'),  bbox_inches='tight', format = 'eps')"
   ]
  },
  {
   "cell_type": "code",
   "execution_count": 59,
   "metadata": {},
   "outputs": [
    {
     "data": {
      "text/plain": [
       "<ErrorbarContainer object of 3 artists>"
      ]
     },
     "execution_count": 59,
     "metadata": {},
     "output_type": "execute_result"
    },
    {
     "data": {
      "image/png": "[encoded data removed]",
      "text/plain": [
       "<Figure size 360x360 with 1 Axes>"
      ]
     },
     "metadata": {},
     "output_type": "display_data"
    }
   ],
   "source": [
    "sns.catplot(data = int_log[int_log.grouped_area == 'Thal'],  x = 'area', y ='mean int', hue = 'target', kind=\"bar\", legend=False, palette = palette)\n",
    "\n",
    "plt.errorbar([-0.17,1-0.17,2-0.17,3-0.17], y = int_V1_log_Thal['mean int'].values, yerr = int_V1_errors_Thal, c= 'k',fmt='none')\n",
    "plt.errorbar([0+0.2,1+0.2,2+0.2,3+0.2], y = int_PM_log_Thal['mean int'].values, yerr = int_PM_errors_Thal, c= 'k',fmt='none')"
   ]
  },
  {
   "cell_type": "code",
   "execution_count": 60,
   "metadata": {},
   "outputs": [
    {
     "name": "stderr",
     "output_type": "stream",
     "text": [
      "The PostScript backend does not support transparency; partially transparent artists will be rendered opaque.\n",
      "The PostScript backend does not support transparency; partially transparent artists will be rendered opaque.\n"
     ]
    },
    {
     "data": {
      "image/png": "[encoded data removed]",
      "text/plain": [
       "<Figure size 216x360 with 1 Axes>"
      ]
     },
     "metadata": {},
     "output_type": "display_data"
    }
   ],
   "source": [
    "sns.catplot(data = int_log[int_log.grouped_area == 'RSP'],  x = 'area', y ='mean int', hue = 'target', kind=\"bar\", legend=False, palette = palette)\n",
    "\n",
    "plt.errorbar([-0.17, 1-0.17, 2-0.17], y = int_V1_log_RSP['mean int'].values, yerr = int_V1_errors_RSP, c= 'k',fmt='none')\n",
    "plt.errorbar([0+0.2, 1+0.2, 2+0.2], y = int_PM_log_RSP['mean int'].values, yerr = int_PM_errors_RSP, c= 'k',fmt='none')     \n",
    "\n",
    "fig = plt.gcf()\n",
    "ax = plt.gca()\n",
    "fig.set_size_inches(3, 5)\n",
    "\n",
    "plt.legend(loc = 'upper right', fontsize = 14)\n",
    "plt.ylim(0, 5)\n",
    "\n",
    "ax.get_yaxis().set_visible(False)\n",
    "\n",
    "plt.xlabel('area', fontsize = 16)\n",
    "for label in (ax.get_xticklabels() + ax.get_yticklabels()):\n",
    "    label.set_fontsize(14)\n",
    "ax.get_yaxis().set_visible(False)\n",
    "\n",
    "fig.savefig(os.path.join(figs45panelpaths, 'figS4_5b4v2.png'),  bbox_inches='tight')\n",
    "fig.savefig(os.path.join(figs45panelpaths, 'figS4_5b4v2.eps'),  bbox_inches='tight', format = 'eps')"
   ]
  },
  {
   "cell_type": "code",
   "execution_count": 61,
   "metadata": {},
   "outputs": [],
   "source": [
    "boot_diff_int = pd.read_csv(os.path.join(paramspath, 'boot_difference_intercept.csv' ))"
   ]
  },
  {
   "cell_type": "code",
   "execution_count": 62,
   "metadata": {},
   "outputs": [],
   "source": [
    "boot_diff_int_lin = pd.read_csv(os.path.join(paramspath, 'boot_difference_intercept_lin.csv' ))"
   ]
  },
  {
   "cell_type": "code",
   "execution_count": 63,
   "metadata": {},
   "outputs": [
    {
     "data": {
      "text/html": [
       "<div>\n",
       "<style scoped>\n",
       "    .dataframe tbody tr th:only-of-type {\n",
       "        vertical-align: middle;\n",
       "    }\n",
       "\n",
       "    .dataframe tbody tr th {\n",
       "        vertical-align: top;\n",
       "    }\n",
       "\n",
       "    .dataframe thead th {\n",
       "        text-align: right;\n",
       "    }\n",
       "</style>\n",
       "<table border=\"1\" class=\"dataframe\">\n",
       "  <thead>\n",
       "    <tr style=\"text-align: right;\">\n",
       "      <th></th>\n",
       "      <th>Unnamed: 0</th>\n",
       "      <th>low</th>\n",
       "      <th>high</th>\n",
       "    </tr>\n",
       "  </thead>\n",
       "  <tbody>\n",
       "    <tr>\n",
       "      <th>0</th>\n",
       "      <td>LGd</td>\n",
       "      <td>-273.517685</td>\n",
       "      <td>481.687968</td>\n",
       "    </tr>\n",
       "  </tbody>\n",
       "</table>\n",
       "</div>"
      ],
      "text/plain": [
       "  Unnamed: 0         low        high\n",
       "0        LGd -273.517685  481.687968"
      ]
     },
     "execution_count": 63,
     "metadata": {},
     "output_type": "execute_result"
    }
   ],
   "source": [
    "boot_diff_int_lin"
   ]
  },
  {
   "cell_type": "code",
   "execution_count": 64,
   "metadata": {},
   "outputs": [
    {
     "data": {
      "text/html": [
       "<div>\n",
       "<style scoped>\n",
       "    .dataframe tbody tr th:only-of-type {\n",
       "        vertical-align: middle;\n",
       "    }\n",
       "\n",
       "    .dataframe tbody tr th {\n",
       "        vertical-align: top;\n",
       "    }\n",
       "\n",
       "    .dataframe thead th {\n",
       "        text-align: right;\n",
       "    }\n",
       "</style>\n",
       "<table border=\"1\" class=\"dataframe\">\n",
       "  <thead>\n",
       "    <tr style=\"text-align: right;\">\n",
       "      <th></th>\n",
       "      <th>Unnamed: 0</th>\n",
       "      <th>low</th>\n",
       "      <th>high</th>\n",
       "    </tr>\n",
       "  </thead>\n",
       "  <tbody>\n",
       "    <tr>\n",
       "      <th>0</th>\n",
       "      <td>VISp</td>\n",
       "      <td>-0.340365</td>\n",
       "      <td>1.110157</td>\n",
       "    </tr>\n",
       "    <tr>\n",
       "      <th>1</th>\n",
       "      <td>VISpm</td>\n",
       "      <td>-1.231582</td>\n",
       "      <td>0.658988</td>\n",
       "    </tr>\n",
       "    <tr>\n",
       "      <th>2</th>\n",
       "      <td>VISl</td>\n",
       "      <td>-1.255216</td>\n",
       "      <td>-0.034783</td>\n",
       "    </tr>\n",
       "    <tr>\n",
       "      <th>3</th>\n",
       "      <td>VISam</td>\n",
       "      <td>-1.391504</td>\n",
       "      <td>0.174434</td>\n",
       "    </tr>\n",
       "    <tr>\n",
       "      <th>4</th>\n",
       "      <td>VISal</td>\n",
       "      <td>-0.616745</td>\n",
       "      <td>0.516757</td>\n",
       "    </tr>\n",
       "    <tr>\n",
       "      <th>5</th>\n",
       "      <td>RSPagl</td>\n",
       "      <td>-0.902525</td>\n",
       "      <td>0.633910</td>\n",
       "    </tr>\n",
       "    <tr>\n",
       "      <th>6</th>\n",
       "      <td>RSPd</td>\n",
       "      <td>-0.879355</td>\n",
       "      <td>0.572520</td>\n",
       "    </tr>\n",
       "    <tr>\n",
       "      <th>7</th>\n",
       "      <td>RSPv</td>\n",
       "      <td>-0.789979</td>\n",
       "      <td>0.530879</td>\n",
       "    </tr>\n",
       "    <tr>\n",
       "      <th>8</th>\n",
       "      <td>AM</td>\n",
       "      <td>-1.620222</td>\n",
       "      <td>-0.051774</td>\n",
       "    </tr>\n",
       "    <tr>\n",
       "      <th>9</th>\n",
       "      <td>LD</td>\n",
       "      <td>-0.425106</td>\n",
       "      <td>0.259329</td>\n",
       "    </tr>\n",
       "    <tr>\n",
       "      <th>10</th>\n",
       "      <td>LP</td>\n",
       "      <td>-1.186887</td>\n",
       "      <td>0.230641</td>\n",
       "    </tr>\n",
       "    <tr>\n",
       "      <th>11</th>\n",
       "      <td>LGd</td>\n",
       "      <td>-0.151017</td>\n",
       "      <td>1.518531</td>\n",
       "    </tr>\n",
       "    <tr>\n",
       "      <th>12</th>\n",
       "      <td>ORB</td>\n",
       "      <td>-1.269753</td>\n",
       "      <td>0.873555</td>\n",
       "    </tr>\n",
       "    <tr>\n",
       "      <th>13</th>\n",
       "      <td>ACA</td>\n",
       "      <td>-0.755092</td>\n",
       "      <td>0.708587</td>\n",
       "    </tr>\n",
       "    <tr>\n",
       "      <th>14</th>\n",
       "      <td>MOs</td>\n",
       "      <td>-0.391611</td>\n",
       "      <td>1.230107</td>\n",
       "    </tr>\n",
       "    <tr>\n",
       "      <th>15</th>\n",
       "      <td>CLA</td>\n",
       "      <td>-0.727189</td>\n",
       "      <td>0.762271</td>\n",
       "    </tr>\n",
       "    <tr>\n",
       "      <th>16</th>\n",
       "      <td>PTLp</td>\n",
       "      <td>-1.172325</td>\n",
       "      <td>0.607178</td>\n",
       "    </tr>\n",
       "    <tr>\n",
       "      <th>17</th>\n",
       "      <td>TEa</td>\n",
       "      <td>-0.613434</td>\n",
       "      <td>0.910298</td>\n",
       "    </tr>\n",
       "    <tr>\n",
       "      <th>18</th>\n",
       "      <td>all_VIS</td>\n",
       "      <td>-0.532204</td>\n",
       "      <td>0.696752</td>\n",
       "    </tr>\n",
       "    <tr>\n",
       "      <th>19</th>\n",
       "      <td>VIS</td>\n",
       "      <td>-0.522169</td>\n",
       "      <td>0.694227</td>\n",
       "    </tr>\n",
       "    <tr>\n",
       "      <th>20</th>\n",
       "      <td>AUD</td>\n",
       "      <td>-0.809612</td>\n",
       "      <td>0.573766</td>\n",
       "    </tr>\n",
       "    <tr>\n",
       "      <th>21</th>\n",
       "      <td>RSP</td>\n",
       "      <td>-0.818645</td>\n",
       "      <td>0.529343</td>\n",
       "    </tr>\n",
       "    <tr>\n",
       "      <th>22</th>\n",
       "      <td>Thal</td>\n",
       "      <td>-0.564773</td>\n",
       "      <td>0.321280</td>\n",
       "    </tr>\n",
       "    <tr>\n",
       "      <th>23</th>\n",
       "      <td>Thal_noLGd</td>\n",
       "      <td>-0.763382</td>\n",
       "      <td>0.207366</td>\n",
       "    </tr>\n",
       "    <tr>\n",
       "      <th>24</th>\n",
       "      <td>Dist_ctx</td>\n",
       "      <td>-0.817975</td>\n",
       "      <td>0.558815</td>\n",
       "    </tr>\n",
       "    <tr>\n",
       "      <th>25</th>\n",
       "      <td>input</td>\n",
       "      <td>-0.469930</td>\n",
       "      <td>0.579873</td>\n",
       "    </tr>\n",
       "  </tbody>\n",
       "</table>\n",
       "</div>"
      ],
      "text/plain": [
       "    Unnamed: 0       low      high\n",
       "0         VISp -0.340365  1.110157\n",
       "1        VISpm -1.231582  0.658988\n",
       "2         VISl -1.255216 -0.034783\n",
       "3        VISam -1.391504  0.174434\n",
       "4        VISal -0.616745  0.516757\n",
       "5       RSPagl -0.902525  0.633910\n",
       "6         RSPd -0.879355  0.572520\n",
       "7         RSPv -0.789979  0.530879\n",
       "8           AM -1.620222 -0.051774\n",
       "9           LD -0.425106  0.259329\n",
       "10          LP -1.186887  0.230641\n",
       "11         LGd -0.151017  1.518531\n",
       "12         ORB -1.269753  0.873555\n",
       "13         ACA -0.755092  0.708587\n",
       "14         MOs -0.391611  1.230107\n",
       "15         CLA -0.727189  0.762271\n",
       "16        PTLp -1.172325  0.607178\n",
       "17         TEa -0.613434  0.910298\n",
       "18     all_VIS -0.532204  0.696752\n",
       "19         VIS -0.522169  0.694227\n",
       "20         AUD -0.809612  0.573766\n",
       "21         RSP -0.818645  0.529343\n",
       "22        Thal -0.564773  0.321280\n",
       "23  Thal_noLGd -0.763382  0.207366\n",
       "24    Dist_ctx -0.817975  0.558815\n",
       "25       input -0.469930  0.579873"
      ]
     },
     "execution_count": 64,
     "metadata": {},
     "output_type": "execute_result"
    }
   ],
   "source": [
    "boot_diff_int"
   ]
  },
  {
   "cell_type": "markdown",
   "metadata": {},
   "source": [
    "# Panel C - V1 vs PM based on convergence index"
   ]
  },
  {
   "cell_type": "code",
   "execution_count": 65,
   "metadata": {},
   "outputs": [],
   "source": [
    "df_ci_s = pd.read_hdf(os.path.join(fracpath, 'df_ci_stacked.h5'))"
   ]
  },
  {
   "cell_type": "code",
   "execution_count": 66,
   "metadata": {},
   "outputs": [],
   "source": [
    "result_ci = df_ci_s.groupby(['area', 'target_area'], as_index=False).agg(\n",
    "                      {'ci':['mean','std', 'count']})"
   ]
  },
  {
   "cell_type": "code",
   "execution_count": 67,
   "metadata": {},
   "outputs": [],
   "source": [
    "df_ci_s=df_ci_s[(df_ci_s['target_area']=='V1') | (df_ci_s['target_area']=='PM')]"
   ]
  },
  {
   "cell_type": "code",
   "execution_count": 68,
   "metadata": {},
   "outputs": [
    {
     "data": {
      "image/png": "[encoded data removed]",
      "text/plain": [
       "<Figure size 216x360 with 1 Axes>"
      ]
     },
     "metadata": {},
     "output_type": "display_data"
    }
   ],
   "source": [
    "sns.set_style(\"ticks\")\n",
    "sns.catplot(data = df_ci_s[df_ci_s.grouped_area == 'Thal'],  x = 'area', y ='ci', hue = 'target_area', kind=\"bar\", legend=False, palette = palette)\n",
    "\n",
    "fig = plt.gcf()\n",
    "ax = plt.gca()\n",
    "fig.set_size_inches(3, 5)\n",
    "\n",
    "plt.ylabel('convergence index', fontsize = 16)\n",
    "plt.xlabel('area', fontsize = 16)\n",
    "for label in (ax.get_xticklabels() + ax.get_yticklabels()):\n",
    "    label.set_fontsize(14)\n",
    "plt.ylim(0,180)\n",
    "\n",
    "fig.savefig(os.path.join(figs45panelpaths, 'figS4_5c1_v2.png'),  bbox_inches='tight')\n",
    "fig.savefig(os.path.join(figs45panelpaths, 'figS4_5c1_v2.eps'),  bbox_inches='tight', format = 'eps')"
   ]
  },
  {
   "cell_type": "code",
   "execution_count": 69,
   "metadata": {},
   "outputs": [
    {
     "data": {
      "image/png": "[encoded data removed]",
      "text/plain": [
       "<Figure size 360x360 with 1 Axes>"
      ]
     },
     "metadata": {},
     "output_type": "display_data"
    }
   ],
   "source": [
    "sns.catplot(data = df_ci_s[df_ci_s.grouped_area == 'Dist_ctx'],  x = 'area', y ='ci', hue = 'target_area', kind=\"bar\", legend=False, palette = palette)\n",
    "\n",
    "fig = plt.gcf()\n",
    "ax = plt.gca()\n",
    "fig.set_size_inches(5,5)\n",
    "plt.ylabel('convergence index', fontsize = 16)\n",
    "plt.xlabel('area', fontsize = 16)\n",
    "for label in (ax.get_xticklabels() + ax.get_yticklabels()):\n",
    "    label.set_fontsize(14)\n",
    "plt.ylim(0, 180)\n",
    "ax.get_yaxis().set_visible(False)\n",
    "\n",
    "fig.savefig(os.path.join(figs45panelpaths, 'figS4_5c2v2.png'),  bbox_inches='tight')\n",
    "fig.savefig(os.path.join(figs45panelpaths, 'figS4_5c2v2.eps'),  bbox_inches='tight', format = 'eps')"
   ]
  },
  {
   "cell_type": "code",
   "execution_count": 70,
   "metadata": {},
   "outputs": [
    {
     "data": {
      "image/png": "[encoded data removed]",
      "text/plain": [
       "<Figure size 288x360 with 1 Axes>"
      ]
     },
     "metadata": {},
     "output_type": "display_data"
    }
   ],
   "source": [
    "sns.catplot(data = df_ci_s[df_ci_s.grouped_area == 'VIS'],  x = 'area', y ='ci', hue = 'target_area', kind=\"bar\", legend=False, palette = palette)\n",
    "\n",
    "fig = plt.gcf()\n",
    "ax = plt.gca()\n",
    "fig.set_size_inches(4, 5)\n",
    "plt.ylim(0, 180)\n",
    "\n",
    "\n",
    "plt.ylabel('convergence index', fontsize = 16)\n",
    "plt.xlabel('area', fontsize = 16)\n",
    "for label in (ax.get_xticklabels() + ax.get_yticklabels()):\n",
    "    label.set_fontsize(14)\n",
    "ax.get_yaxis().set_visible(False)\n",
    "\n",
    "fig.savefig(os.path.join(figs45panelpaths, 'figS4_5c3v2.png'),  bbox_inches='tight')\n",
    "fig.savefig(os.path.join(figs45panelpaths, 'figS4_5c3v2.eps'),  bbox_inches='tight', format = 'eps')"
   ]
  },
  {
   "cell_type": "code",
   "execution_count": 71,
   "metadata": {},
   "outputs": [
    {
     "name": "stderr",
     "output_type": "stream",
     "text": [
      "The PostScript backend does not support transparency; partially transparent artists will be rendered opaque.\n",
      "The PostScript backend does not support transparency; partially transparent artists will be rendered opaque.\n"
     ]
    },
    {
     "data": {
      "image/png": "[encoded data removed]",
      "text/plain": [
       "<Figure size 216x360 with 1 Axes>"
      ]
     },
     "metadata": {},
     "output_type": "display_data"
    }
   ],
   "source": [
    "sns.catplot(data = df_ci_s[df_ci_s.grouped_area == 'RSP'],  x = 'area', y ='ci', hue = 'target_area', kind=\"bar\", legend=False, palette = palette)\n",
    "\n",
    "fig = plt.gcf()\n",
    "ax = plt.gca()\n",
    "fig.set_size_inches(3, 5)\n",
    "\n",
    "plt.legend(loc = 'upper right', fontsize = 14)\n",
    "plt.ylim(0, 180)\n",
    "\n",
    "\n",
    "plt.ylabel('convergence index', fontsize = 16)\n",
    "plt.xlabel('area', fontsize = 16)\n",
    "for label in (ax.get_xticklabels() + ax.get_yticklabels()):\n",
    "    label.set_fontsize(14)\n",
    "ax.get_yaxis().set_visible(False)\n",
    "\n",
    "fig.savefig(os.path.join(figs45panelpaths, 'figS4_5c4v2.png'),  bbox_inches='tight')\n",
    "fig.savefig(os.path.join(figs45panelpaths, 'figS4_5c4v2.eps'),  bbox_inches='tight', format = 'eps')"
   ]
  }
 ],
 "metadata": {
  "kernelspec": {
   "display_name": "Python 3 (ipykernel)",
   "language": "python",
   "name": "python3"
  },
  "language_info": {
   "codemirror_mode": {
    "name": "ipython",
    "version": 3
   },
   "file_extension": ".py",
   "mimetype": "text/x-python",
   "name": "python",
   "nbconvert_exporter": "python",
   "pygments_lexer": "ipython3",
   "version": "3.9.7"
  }
 },
 "nbformat": 4,
 "nbformat_minor": 4
}
