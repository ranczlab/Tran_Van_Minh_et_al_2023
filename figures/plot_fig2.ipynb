{
 "cells": [
  {
   "cell_type": "code",
   "execution_count": 1,
   "metadata": {},
   "outputs": [],
   "source": [
    "import numpy as np\n",
    "import os\n",
    "from pathlib import Path\n",
    "import pandas as pd\n",
    "import matplotlib.pyplot as plt\n",
    "import seaborn as sns\n",
    "import pickle\n",
    "import matplotlib.lines as mlines\n",
    "import matplotlib.ticker as mtick\n",
    "from matplotlib import gridspec\n",
    "import sys\n",
    "sys.path.append(os.path.join(Path(os.getcwd()).parents[0], \"functions\"))\n",
    "import warnings\n",
    "warnings.filterwarnings('ignore')\n",
    "import helper_functions as hfn"
   ]
  },
  {
   "cell_type": "code",
   "execution_count": 2,
   "metadata": {},
   "outputs": [],
   "source": [
    "from lmfit import Model\n",
    "from lmfit.models import LinearModel"
   ]
  },
  {
   "cell_type": "code",
   "execution_count": 3,
   "metadata": {},
   "outputs": [],
   "source": [
    "mod_lm = LinearModel(prefix = 'lin')"
   ]
  },
  {
   "cell_type": "code",
   "execution_count": 4,
   "metadata": {},
   "outputs": [],
   "source": [
    "colors = [\"blue\", \"dark cyan\", \"aquamarine\", \"lime\"]#[\"windows blue\", \"amber\", \"greyish\", \"faded green\", \"dusty purple\"]\n",
    "sns.set_palette = sns.xkcd_palette(colors)\n",
    "sns.set_style(\"ticks\")\n",
    "hfont = {'fontname':'Myriad Pro'}"
   ]
  },
  {
   "cell_type": "markdown",
   "metadata": {},
   "source": [
    "# get path"
   ]
  },
  {
   "cell_type": "code",
   "execution_count": 5,
   "metadata": {},
   "outputs": [],
   "source": [
    "path = Path(os.getcwd()).parents[0]\n",
    "\n",
    "pathdata = os.path.join(path, 'compare_linfit_params')\n"
   ]
  },
  {
   "cell_type": "code",
   "execution_count": 6,
   "metadata": {},
   "outputs": [],
   "source": [
    "figpath = os.path.join(path, 'figures')\n",
    "hfn.dir_check(figpath)\n",
    "    \n",
    "fig2path = os.path.join(figpath, 'Fig2')\n",
    "hfn.dir_check(fig2path)\n",
    "    \n",
    "fig2panelspath = os.path.join(fig2path, 'panels')\n",
    "hfn.dir_check(fig2panelspath)"
   ]
  },
  {
   "cell_type": "code",
   "execution_count": 7,
   "metadata": {},
   "outputs": [],
   "source": [
    "modelpath = os.path.join(path, 'probabilistic_model')\n",
    "respath = os.path.join(modelpath, 'grid_simulations')"
   ]
  },
  {
   "cell_type": "markdown",
   "metadata": {},
   "source": [
    "# Load data"
   ]
  },
  {
   "cell_type": "code",
   "execution_count": 8,
   "metadata": {},
   "outputs": [],
   "source": [
    "list_pooled_wLGd =['VIS', 'RSP', 'Thal', 'Dist_ctx']\n",
    "list_pooled_noLGd = ['VIS', 'RSP', 'Thal_noLGd', 'Dist_ctx']\n",
    "\n",
    "list_Thal = ['AM', 'LD', 'LP', 'LGd']\n",
    "list_Thal_noLGd = ['AM', 'LD', 'LP']\n",
    "list_VIS = ['VISp', 'VISpm', 'VISl', 'VISam', 'VISal']\n",
    "list_Dist_ctx = ['ORB', 'ACA', 'MOs', 'CLA', 'PTLp', 'TEa', 'AUD']\n",
    "list_RSP = ['RSPagl', 'RSPd', 'RSPv']\n"
   ]
  },
  {
   "cell_type": "code",
   "execution_count": 9,
   "metadata": {},
   "outputs": [],
   "source": [
    "int_all_log = pd.read_csv(os.path.join(pathdata,'df_CI95_int_all_targets.csv'))\n",
    "slope_all_log = pd.read_csv(os.path.join(pathdata,'df_CI95_slope_all_targets.csv'))\n",
    "\n",
    "int_LGd_all_lin = pd.read_csv(os.path.join(pathdata,'df_CI95_int_all_targets_lin.csv'))\n",
    "slope_LGd_all_lin = pd.read_csv(os.path.join(pathdata,'df_CI95_slope_all_targets_lin.csv'))"
   ]
  },
  {
   "cell_type": "code",
   "execution_count": 10,
   "metadata": {},
   "outputs": [],
   "source": [
    "int_all_log = int_all_log.drop(int_all_log.columns[[0]], axis=1) \n",
    "slope_all_log = slope_all_log.drop(slope_all_log.columns[[0]], axis=1) "
   ]
  },
  {
   "cell_type": "code",
   "execution_count": 11,
   "metadata": {},
   "outputs": [],
   "source": [
    "int_LGd_all_lin = int_LGd_all_lin.drop(int_LGd_all_lin.columns[[0]], axis=1) \n",
    "slope_LGd_all_lin = slope_LGd_all_lin.drop(slope_LGd_all_lin.columns[[0]], axis=1) "
   ]
  },
  {
   "cell_type": "code",
   "execution_count": 12,
   "metadata": {},
   "outputs": [],
   "source": [
    "int_log_wLGd = int_all_log[int_all_log['area'].isin(list_pooled_wLGd)].reset_index(drop = True)\n",
    "int_log_noLGd = int_all_log[int_all_log['area'].isin(list_pooled_noLGd)].reset_index(drop = True)\n",
    "\n",
    "slope_log_noLGd = slope_all_log[slope_all_log['area'].isin(list_pooled_noLGd)].reset_index(drop = True)\n",
    "slope_log_wLGd = slope_all_log[slope_all_log['area'].isin(list_pooled_wLGd)].reset_index(drop = True)"
   ]
  },
  {
   "cell_type": "code",
   "execution_count": 13,
   "metadata": {},
   "outputs": [],
   "source": [
    "int_log_wLGd = int_log_wLGd.set_index('area')\n",
    "int_log_noLGd = int_log_noLGd.set_index('area')\n",
    "int_LGd_all_lin = int_LGd_all_lin.set_index('area')\n",
    "slope_log_wLGd = slope_log_wLGd.set_index('area')\n",
    "slope_log_noLGd = slope_log_noLGd.set_index('area')\n",
    "slope_LGd_all_lin = slope_LGd_all_lin.set_index('area')"
   ]
  },
  {
   "cell_type": "markdown",
   "metadata": {},
   "source": [
    "# add column with corresponding pooled area"
   ]
  },
  {
   "cell_type": "code",
   "execution_count": 14,
   "metadata": {},
   "outputs": [],
   "source": [
    "#list_selec = ['all_VIS', 'VIS', 'RSP', 'Thal', 'Thal_noLGd', 'Dist_ctx']\n",
    "list_selec = ['VIS', 'RSP', 'Thal', 'Thal_noLGd', 'Dist_ctx']"
   ]
  },
  {
   "cell_type": "code",
   "execution_count": 15,
   "metadata": {},
   "outputs": [],
   "source": [
    "int_all_log_selec = int_all_log[~int_all_log['area'].isin(list_selec)].reset_index(drop = True)"
   ]
  },
  {
   "cell_type": "code",
   "execution_count": 16,
   "metadata": {},
   "outputs": [],
   "source": [
    "int_all_log_selec['func area'] = 0\n",
    "\n",
    "int_all_log_selec.loc[int_all_log_selec['area'].isin(list_VIS), 'func area'] = 'VIS'\n",
    "int_all_log_selec.loc[int_all_log_selec['area'].isin(list_RSP), 'func area'] = 'RSP'\n",
    "int_all_log_selec.loc[int_all_log_selec['area'].isin(list_Thal), 'func area'] = 'Thal'\n",
    "int_all_log_selec.loc[int_all_log_selec['area'].isin(list_Dist_ctx), 'func area'] = 'Dist_ctx'"
   ]
  },
  {
   "cell_type": "code",
   "execution_count": 17,
   "metadata": {},
   "outputs": [],
   "source": [
    "slope_all_log_selec = slope_all_log[~slope_all_log['area'].isin(list_selec)].reset_index(drop = True)"
   ]
  },
  {
   "cell_type": "code",
   "execution_count": 18,
   "metadata": {},
   "outputs": [],
   "source": [
    "slope_all_log_selec['func area'] = 0\n",
    "\n",
    "slope_all_log_selec.loc[slope_all_log_selec['area'].isin(list_VIS), 'func area'] = 'VIS'\n",
    "slope_all_log_selec.loc[slope_all_log_selec['area'].isin(list_RSP), 'func area'] = 'RSP'\n",
    "slope_all_log_selec.loc[slope_all_log_selec['area'].isin(list_Thal), 'func area'] = 'Thal'\n",
    "slope_all_log_selec.loc[slope_all_log_selec['area'].isin(list_Dist_ctx), 'func area'] = 'Dist_ctx'"
   ]
  },
  {
   "cell_type": "code",
   "execution_count": 19,
   "metadata": {},
   "outputs": [],
   "source": [
    "slope_all_log_selec[\"func area\"].replace({0: \"whole brain\"}, inplace=True)"
   ]
  },
  {
   "cell_type": "code",
   "execution_count": 20,
   "metadata": {},
   "outputs": [],
   "source": [
    "int_all_log_selec[\"func area\"].replace({0: \"whole brain\"}, inplace=True)"
   ]
  },
  {
   "cell_type": "code",
   "execution_count": 21,
   "metadata": {},
   "outputs": [],
   "source": [
    "int_all_log_selec_noLGd = int_all_log_selec[int_all_log_selec['area']!= 'LGd']"
   ]
  },
  {
   "cell_type": "code",
   "execution_count": 22,
   "metadata": {},
   "outputs": [],
   "source": [
    "slope_all_log_selec_noLGd = slope_all_log_selec[slope_all_log_selec['area']!= 'LGd']"
   ]
  },
  {
   "cell_type": "markdown",
   "metadata": {},
   "source": [
    "# fit all sub-areas intercept vs slope"
   ]
  },
  {
   "cell_type": "code",
   "execution_count": 23,
   "metadata": {},
   "outputs": [],
   "source": [
    "x = int_all_log_selec['mean int'][~int_all_log_selec['area'].isin(['pre total' , 'input'])]"
   ]
  },
  {
   "cell_type": "code",
   "execution_count": 24,
   "metadata": {},
   "outputs": [],
   "source": [
    "y = slope_all_log_selec['mean slope'][~slope_all_log_selec['area'].isin(['pre total' , 'input'])]"
   ]
  },
  {
   "cell_type": "code",
   "execution_count": 25,
   "metadata": {},
   "outputs": [
    {
     "data": {
      "text/html": [
       "<div>\n",
       "<style scoped>\n",
       "    .dataframe tbody tr th:only-of-type {\n",
       "        vertical-align: middle;\n",
       "    }\n",
       "\n",
       "    .dataframe tbody tr th {\n",
       "        vertical-align: top;\n",
       "    }\n",
       "\n",
       "    .dataframe thead th {\n",
       "        text-align: right;\n",
       "    }\n",
       "</style>\n",
       "<table border=\"1\" class=\"dataframe\">\n",
       "  <thead>\n",
       "    <tr style=\"text-align: right;\">\n",
       "      <th></th>\n",
       "      <th>area</th>\n",
       "      <th>mean slope</th>\n",
       "      <th>median slope</th>\n",
       "      <th>95%quant-low</th>\n",
       "      <th>95%quant-high</th>\n",
       "      <th>func area</th>\n",
       "    </tr>\n",
       "  </thead>\n",
       "  <tbody>\n",
       "    <tr>\n",
       "      <th>0</th>\n",
       "      <td>PTLp</td>\n",
       "      <td>0.659624</td>\n",
       "      <td>0.657520</td>\n",
       "      <td>0.515451</td>\n",
       "      <td>0.814693</td>\n",
       "      <td>Dist_ctx</td>\n",
       "    </tr>\n",
       "    <tr>\n",
       "      <th>1</th>\n",
       "      <td>TEa</td>\n",
       "      <td>0.802694</td>\n",
       "      <td>0.803311</td>\n",
       "      <td>0.666378</td>\n",
       "      <td>0.937834</td>\n",
       "      <td>Dist_ctx</td>\n",
       "    </tr>\n",
       "    <tr>\n",
       "      <th>2</th>\n",
       "      <td>AUD</td>\n",
       "      <td>0.728431</td>\n",
       "      <td>0.727865</td>\n",
       "      <td>0.600696</td>\n",
       "      <td>0.865042</td>\n",
       "      <td>Dist_ctx</td>\n",
       "    </tr>\n",
       "    <tr>\n",
       "      <th>3</th>\n",
       "      <td>VISp</td>\n",
       "      <td>0.450080</td>\n",
       "      <td>0.448601</td>\n",
       "      <td>0.343478</td>\n",
       "      <td>0.560838</td>\n",
       "      <td>VIS</td>\n",
       "    </tr>\n",
       "    <tr>\n",
       "      <th>4</th>\n",
       "      <td>VISpm</td>\n",
       "      <td>0.424051</td>\n",
       "      <td>0.421804</td>\n",
       "      <td>0.273559</td>\n",
       "      <td>0.576639</td>\n",
       "      <td>VIS</td>\n",
       "    </tr>\n",
       "    <tr>\n",
       "      <th>5</th>\n",
       "      <td>VISl</td>\n",
       "      <td>0.584671</td>\n",
       "      <td>0.583778</td>\n",
       "      <td>0.451334</td>\n",
       "      <td>0.726478</td>\n",
       "      <td>VIS</td>\n",
       "    </tr>\n",
       "    <tr>\n",
       "      <th>6</th>\n",
       "      <td>VISam</td>\n",
       "      <td>0.534007</td>\n",
       "      <td>0.531425</td>\n",
       "      <td>0.371964</td>\n",
       "      <td>0.706411</td>\n",
       "      <td>VIS</td>\n",
       "    </tr>\n",
       "    <tr>\n",
       "      <th>7</th>\n",
       "      <td>VISal</td>\n",
       "      <td>0.511374</td>\n",
       "      <td>0.510767</td>\n",
       "      <td>0.399596</td>\n",
       "      <td>0.625642</td>\n",
       "      <td>VIS</td>\n",
       "    </tr>\n",
       "    <tr>\n",
       "      <th>8</th>\n",
       "      <td>RSPagl</td>\n",
       "      <td>0.529219</td>\n",
       "      <td>0.529216</td>\n",
       "      <td>0.391395</td>\n",
       "      <td>0.665047</td>\n",
       "      <td>RSP</td>\n",
       "    </tr>\n",
       "    <tr>\n",
       "      <th>9</th>\n",
       "      <td>RSPd</td>\n",
       "      <td>0.516903</td>\n",
       "      <td>0.516214</td>\n",
       "      <td>0.392040</td>\n",
       "      <td>0.642903</td>\n",
       "      <td>RSP</td>\n",
       "    </tr>\n",
       "    <tr>\n",
       "      <th>10</th>\n",
       "      <td>RSPv</td>\n",
       "      <td>0.457189</td>\n",
       "      <td>0.456242</td>\n",
       "      <td>0.341059</td>\n",
       "      <td>0.574036</td>\n",
       "      <td>RSP</td>\n",
       "    </tr>\n",
       "    <tr>\n",
       "      <th>11</th>\n",
       "      <td>AM</td>\n",
       "      <td>0.554616</td>\n",
       "      <td>0.552890</td>\n",
       "      <td>0.368066</td>\n",
       "      <td>0.756907</td>\n",
       "      <td>Thal</td>\n",
       "    </tr>\n",
       "    <tr>\n",
       "      <th>12</th>\n",
       "      <td>LD</td>\n",
       "      <td>0.366105</td>\n",
       "      <td>0.366653</td>\n",
       "      <td>0.298552</td>\n",
       "      <td>0.434200</td>\n",
       "      <td>Thal</td>\n",
       "    </tr>\n",
       "    <tr>\n",
       "      <th>13</th>\n",
       "      <td>LP</td>\n",
       "      <td>0.611503</td>\n",
       "      <td>0.609730</td>\n",
       "      <td>0.440772</td>\n",
       "      <td>0.786469</td>\n",
       "      <td>Thal</td>\n",
       "    </tr>\n",
       "    <tr>\n",
       "      <th>14</th>\n",
       "      <td>LGd</td>\n",
       "      <td>0.303188</td>\n",
       "      <td>0.302440</td>\n",
       "      <td>0.166632</td>\n",
       "      <td>0.448232</td>\n",
       "      <td>Thal</td>\n",
       "    </tr>\n",
       "    <tr>\n",
       "      <th>15</th>\n",
       "      <td>ORB</td>\n",
       "      <td>0.591716</td>\n",
       "      <td>0.590117</td>\n",
       "      <td>0.433538</td>\n",
       "      <td>0.751805</td>\n",
       "      <td>Dist_ctx</td>\n",
       "    </tr>\n",
       "    <tr>\n",
       "      <th>16</th>\n",
       "      <td>ACA</td>\n",
       "      <td>0.698646</td>\n",
       "      <td>0.698827</td>\n",
       "      <td>0.565418</td>\n",
       "      <td>0.830452</td>\n",
       "      <td>Dist_ctx</td>\n",
       "    </tr>\n",
       "    <tr>\n",
       "      <th>17</th>\n",
       "      <td>MOs</td>\n",
       "      <td>0.710557</td>\n",
       "      <td>0.708631</td>\n",
       "      <td>0.567031</td>\n",
       "      <td>0.863359</td>\n",
       "      <td>Dist_ctx</td>\n",
       "    </tr>\n",
       "    <tr>\n",
       "      <th>18</th>\n",
       "      <td>CLA</td>\n",
       "      <td>0.766521</td>\n",
       "      <td>0.767069</td>\n",
       "      <td>0.626738</td>\n",
       "      <td>0.899535</td>\n",
       "      <td>Dist_ctx</td>\n",
       "    </tr>\n",
       "  </tbody>\n",
       "</table>\n",
       "</div>"
      ],
      "text/plain": [
       "      area  mean slope  median slope  95%quant-low  95%quant-high func area\n",
       "0     PTLp    0.659624      0.657520      0.515451       0.814693  Dist_ctx\n",
       "1      TEa    0.802694      0.803311      0.666378       0.937834  Dist_ctx\n",
       "2      AUD    0.728431      0.727865      0.600696       0.865042  Dist_ctx\n",
       "3     VISp    0.450080      0.448601      0.343478       0.560838       VIS\n",
       "4    VISpm    0.424051      0.421804      0.273559       0.576639       VIS\n",
       "5     VISl    0.584671      0.583778      0.451334       0.726478       VIS\n",
       "6    VISam    0.534007      0.531425      0.371964       0.706411       VIS\n",
       "7    VISal    0.511374      0.510767      0.399596       0.625642       VIS\n",
       "8   RSPagl    0.529219      0.529216      0.391395       0.665047       RSP\n",
       "9     RSPd    0.516903      0.516214      0.392040       0.642903       RSP\n",
       "10    RSPv    0.457189      0.456242      0.341059       0.574036       RSP\n",
       "11      AM    0.554616      0.552890      0.368066       0.756907      Thal\n",
       "12      LD    0.366105      0.366653      0.298552       0.434200      Thal\n",
       "13      LP    0.611503      0.609730      0.440772       0.786469      Thal\n",
       "14     LGd    0.303188      0.302440      0.166632       0.448232      Thal\n",
       "15     ORB    0.591716      0.590117      0.433538       0.751805  Dist_ctx\n",
       "16     ACA    0.698646      0.698827      0.565418       0.830452  Dist_ctx\n",
       "17     MOs    0.710557      0.708631      0.567031       0.863359  Dist_ctx\n",
       "18     CLA    0.766521      0.767069      0.626738       0.899535  Dist_ctx"
      ]
     },
     "execution_count": 25,
     "metadata": {},
     "output_type": "execute_result"
    }
   ],
   "source": [
    "slope_all_log_selec[~slope_all_log_selec['area'].isin(['pre total' , 'input'])]"
   ]
  },
  {
   "cell_type": "code",
   "execution_count": 26,
   "metadata": {},
   "outputs": [],
   "source": [
    "pars_lm = mod_lm.guess(y, x = x)\n",
    "result_lm = mod_lm.fit(y, pars_lm, x = x)"
   ]
  },
  {
   "cell_type": "code",
   "execution_count": 27,
   "metadata": {},
   "outputs": [],
   "source": [
    "(intercept, slope) = result_lm.params['linintercept'].value, result_lm.params['linslope'].value"
   ]
  },
  {
   "cell_type": "code",
   "execution_count": 28,
   "metadata": {},
   "outputs": [
    {
     "name": "stdout",
     "output_type": "stream",
     "text": [
      "[[Model]]\n",
      "    Model(linear, prefix='lin')\n",
      "[[Fit Statistics]]\n",
      "    # fitting method   = leastsq\n",
      "    # function evals   = 4\n",
      "    # data points      = 19\n",
      "    # variables        = 2\n",
      "    chi-square         = 0.10421177\n",
      "    reduced chi-square = 0.00613010\n",
      "    Akaike info crit   = -94.9096142\n",
      "    Bayesian info crit = -93.0207363\n",
      "    R-squared          = 0.68909862\n",
      "[[Variables]]\n",
      "    linslope:     -0.21888242 +/- 0.03565801 (16.29%) (init = -0.2188824)\n",
      "    linintercept:  0.91265764 +/- 0.05887683 (6.45%) (init = 0.9126576)\n",
      "[[Correlations]] (unreported correlations are < 0.100)\n",
      "    C(linslope, linintercept) = -0.952\n"
     ]
    }
   ],
   "source": [
    "print(result_lm.fit_report())"
   ]
  },
  {
   "cell_type": "code",
   "execution_count": 29,
   "metadata": {},
   "outputs": [],
   "source": [
    "sd_int = result_lm.params['linintercept'].stderr"
   ]
  },
  {
   "cell_type": "code",
   "execution_count": 30,
   "metadata": {},
   "outputs": [],
   "source": [
    "sd_slope = result_lm.params['linslope'].stderr"
   ]
  },
  {
   "cell_type": "markdown",
   "metadata": {},
   "source": [
    "# Load data from model"
   ]
  },
  {
   "cell_type": "code",
   "execution_count": 31,
   "metadata": {},
   "outputs": [
    {
     "ename": "FileNotFoundError",
     "evalue": "File /Users/rancze/Documents/GitHub/Tran_Van_Minh_et_al_2023/probabilistic_model/grid_simulations/allparams.h5 does not exist",
     "output_type": "error",
     "traceback": [
      "\u001b[0;31m---------------------------------------------------------------------------\u001b[0m",
      "\u001b[0;31mFileNotFoundError\u001b[0m                         Traceback (most recent call last)",
      "\u001b[0;32m/var/folders/n7/dvksxsf55hxbzrrfm5gv88cwmxqfb7/T/ipykernel_70572/1926003268.py\u001b[0m in \u001b[0;36m<module>\u001b[0;34m\u001b[0m\n\u001b[0;32m----> 1\u001b[0;31m \u001b[0mall_params\u001b[0m \u001b[0;34m=\u001b[0m \u001b[0mpd\u001b[0m\u001b[0;34m.\u001b[0m\u001b[0mread_hdf\u001b[0m\u001b[0;34m(\u001b[0m\u001b[0mos\u001b[0m\u001b[0;34m.\u001b[0m\u001b[0mpath\u001b[0m\u001b[0;34m.\u001b[0m\u001b[0mjoin\u001b[0m\u001b[0;34m(\u001b[0m\u001b[0mrespath\u001b[0m\u001b[0;34m,\u001b[0m \u001b[0;34m'allparams.h5'\u001b[0m\u001b[0;34m)\u001b[0m\u001b[0;34m)\u001b[0m\u001b[0;34m\u001b[0m\u001b[0;34m\u001b[0m\u001b[0m\n\u001b[0m\u001b[1;32m      2\u001b[0m \u001b[0;34m\u001b[0m\u001b[0m\n\u001b[1;32m      3\u001b[0m \u001b[0mthisres_params\u001b[0m \u001b[0;34m=\u001b[0m \u001b[0mpd\u001b[0m\u001b[0;34m.\u001b[0m\u001b[0mread_hdf\u001b[0m\u001b[0;34m(\u001b[0m\u001b[0mos\u001b[0m\u001b[0;34m.\u001b[0m\u001b[0mpath\u001b[0m\u001b[0;34m.\u001b[0m\u001b[0mjoin\u001b[0m\u001b[0;34m(\u001b[0m\u001b[0mrespath\u001b[0m\u001b[0;34m,\u001b[0m \u001b[0;34m'thisres_params.h5'\u001b[0m\u001b[0;34m)\u001b[0m\u001b[0;34m)\u001b[0m\u001b[0;34m\u001b[0m\u001b[0;34m\u001b[0m\u001b[0m\n",
      "\u001b[0;32m~/opt/anaconda3/lib/python3.9/site-packages/pandas/io/pytables.py\u001b[0m in \u001b[0;36mread_hdf\u001b[0;34m(path_or_buf, key, mode, errors, where, start, stop, columns, iterator, chunksize, **kwargs)\u001b[0m\n\u001b[1;32m    425\u001b[0m \u001b[0;34m\u001b[0m\u001b[0m\n\u001b[1;32m    426\u001b[0m         \u001b[0;32mif\u001b[0m \u001b[0;32mnot\u001b[0m \u001b[0mexists\u001b[0m\u001b[0;34m:\u001b[0m\u001b[0;34m\u001b[0m\u001b[0;34m\u001b[0m\u001b[0m\n\u001b[0;32m--> 427\u001b[0;31m             \u001b[0;32mraise\u001b[0m \u001b[0mFileNotFoundError\u001b[0m\u001b[0;34m(\u001b[0m\u001b[0;34mf\"File {path_or_buf} does not exist\"\u001b[0m\u001b[0;34m)\u001b[0m\u001b[0;34m\u001b[0m\u001b[0;34m\u001b[0m\u001b[0m\n\u001b[0m\u001b[1;32m    428\u001b[0m \u001b[0;34m\u001b[0m\u001b[0m\n\u001b[1;32m    429\u001b[0m         \u001b[0mstore\u001b[0m \u001b[0;34m=\u001b[0m \u001b[0mHDFStore\u001b[0m\u001b[0;34m(\u001b[0m\u001b[0mpath_or_buf\u001b[0m\u001b[0;34m,\u001b[0m \u001b[0mmode\u001b[0m\u001b[0;34m=\u001b[0m\u001b[0mmode\u001b[0m\u001b[0;34m,\u001b[0m \u001b[0merrors\u001b[0m\u001b[0;34m=\u001b[0m\u001b[0merrors\u001b[0m\u001b[0;34m,\u001b[0m \u001b[0;34m**\u001b[0m\u001b[0mkwargs\u001b[0m\u001b[0;34m)\u001b[0m\u001b[0;34m\u001b[0m\u001b[0;34m\u001b[0m\u001b[0m\n",
      "\u001b[0;31mFileNotFoundError\u001b[0m: File /Users/rancze/Documents/GitHub/Tran_Van_Minh_et_al_2023/probabilistic_model/grid_simulations/allparams.h5 does not exist"
     ]
    }
   ],
   "source": [
    "all_params = pd.read_hdf(os.path.join(respath, 'allparams.h5'))\n",
    "\n",
    "thisres_params = pd.read_hdf(os.path.join(respath, 'thisres_params.h5'))"
   ]
  },
  {
   "cell_type": "markdown",
   "metadata": {},
   "source": [
    "# panel A"
   ]
  },
  {
   "cell_type": "code",
   "execution_count": null,
   "metadata": {},
   "outputs": [],
   "source": [
    "colors = [\"cobalt blue\", \"dark cyan\", \"aquamarine\", \"dark lime\", \"dark grey\"]\n",
    "sns.set_palette = sns.xkcd_palette(colors)"
   ]
  },
  {
   "cell_type": "code",
   "execution_count": null,
   "metadata": {
    "scrolled": true
   },
   "outputs": [],
   "source": [
    "f2b_v1 = plt.figure(figsize= (5,5))\n",
    "\n",
    "ax = f2b_v1.add_subplot(111)\n",
    "ax.tick_params(labelsize=12)\n",
    "\n",
    "for i, area in enumerate(list(int_log_wLGd.index)+['whole brain']):\n",
    "\n",
    "    plt.scatter(int_all_log_selec['mean int'][int_all_log_selec['func area'] == area], slope_all_log_selec['mean slope'][slope_all_log_selec['func area'] == area], color = sns.xkcd_palette(colors)[i], label = area)\n",
    "    thisxerr = [int_all_log_selec['mean int'][int_all_log_selec['func area'] == area].values - int_all_log_selec['95%quant-low'][int_all_log_selec['func area'] == area].values, int_all_log_selec['95%quant-high'][int_all_log_selec['func area'] == area].values - int_all_log_selec['mean int'][int_all_log_selec['func area'] == area].values]\n",
    "    thisyerr = [slope_all_log_selec['mean slope'][slope_all_log_selec['func area'] == area].values - slope_all_log_selec['95%quant-low'][slope_all_log_selec['func area'] == area].values, slope_all_log_selec['95%quant-high'][slope_all_log_selec['func area'] == area].values - slope_all_log_selec['mean slope'][slope_all_log_selec['func area'] == area].values]\n",
    "    plt.errorbar(int_all_log_selec['mean int'][int_all_log_selec['func area'] == area], slope_all_log_selec['mean slope'][slope_all_log_selec['func area'] == area], xerr = thisxerr, yerr = thisyerr, color = sns.xkcd_palette(colors)[i], fmt='none')\n",
    "\n",
    "plt.legend()\n",
    "\n",
    "# plot fit\n",
    "\n",
    "thisx = np.linspace(ax.get_xlim()[0], ax.get_xlim()[1], num = 100)\n",
    "plt.plot(thisx, intercept+thisx*slope, 'k')\n",
    "\n",
    "ax.text(0.1, 0.1, 'slope: ' + str(\"%.4f\" % slope) + '±' + str(\"%.4f\" % sd_slope), transform= ax.transAxes, \n",
    "            size=12)\n",
    "ax.text(0.1, 0.05, 'intercept: ' + str(\"%.4f\" % intercept) + '±' + str(\"%.4f\" % sd_int), transform= ax.transAxes, \n",
    "            size=12)\n",
    "\n",
    "plt.xlabel('intercept',fontsize = 16)\n",
    "plt.ylabel('slope',fontsize = 16)\n",
    "\n",
    "ax.spines['right'].set_visible(False)\n",
    "ax.spines['top'].set_visible(False)\n",
    "for label in (ax.get_xticklabels() + ax.get_yticklabels()):\n",
    "    label.set_fontsize(14)\n",
    "    \n",
    "plt.savefig(os.path.join(fig2panelspath, 'fig2b_v1.png'),  bbox_inches='tight')\n",
    "plt.savefig(os.path.join(fig2panelspath, 'fig2b_v1.eps'),  bbox_inches='tight', format = 'eps')"
   ]
  },
  {
   "cell_type": "markdown",
   "metadata": {},
   "source": [
    "# Panel B: model"
   ]
  },
  {
   "cell_type": "code",
   "execution_count": null,
   "metadata": {},
   "outputs": [],
   "source": [
    "colorsni = [\"indigo\", \"purple\", \"red\", \"orange\"]\n",
    "\n",
    "markersp = ['o', 's', 'v', '^', '<', '>']"
   ]
  },
  {
   "cell_type": "code",
   "execution_count": null,
   "metadata": {},
   "outputs": [],
   "source": [
    "thisres_params.p.unique()"
   ]
  },
  {
   "cell_type": "code",
   "execution_count": null,
   "metadata": {},
   "outputs": [],
   "source": [
    "thisres_params = thisres_params[thisres_params.Ni != 1000]"
   ]
  },
  {
   "cell_type": "code",
   "execution_count": null,
   "metadata": {},
   "outputs": [],
   "source": [
    "f2c = plt.figure(figsize= (5,5))\n",
    "\n",
    "ax = f2c.add_subplot(111)\n",
    "ax.tick_params(labelsize=12)\n",
    "eb = {}\n",
    "m={}\n",
    "for i,ni in enumerate(thisres_params.Ni.unique()):\n",
    "    if ni != 1000:\n",
    "        thisres =  thisres_params[thisres_params.Ni == ni]\n",
    "    #     plt.plot(thisres['intercept']['mean'], thisres['slope']['mean'])\n",
    "        eb[i] = plt.errorbar(thisres['intercept']['mean'], thisres['slope']['mean'], xerr = thisres['intercept']['std'], yerr = thisres['slope']['std'], label = \"Ni = \" + str(ni), color = sns.xkcd_palette(colorsni)[i])\n",
    "\n",
    "for j, p in enumerate(thisres_params.p.unique()):\n",
    "    for i,ni in enumerate(thisres_params.Ni.unique()):\n",
    "        thisres =  thisres_params[(thisres_params.Ni == ni) & (thisres_params.p == p)]\n",
    "        m[i] = plt.plot(thisres['intercept']['mean'], thisres['slope']['mean'], c = sns.xkcd_palette(colorsni)[i], marker = markersp[j], ms = 10, label = 'p = ' + str(p))\n",
    "\n",
    "circ = mlines.Line2D([], [], color='k', marker='o', linestyle='None',\n",
    "                          markersize=10, label=' p = 5.e-05')     \n",
    "sq = mlines.Line2D([], [], color='k', marker='s', linestyle='None',\n",
    "                          markersize=10, label=' p = 1.e-04')\n",
    "tr_d = mlines.Line2D([], [], color='k', marker='v', linestyle='None',\n",
    "                          markersize=10, label=' p = 5.e-04') \n",
    "tr_u = mlines.Line2D([], [], color='k', marker='^', linestyle='None',\n",
    "                          markersize=10, label=' p = 1.e-03') \n",
    "tr_l = mlines.Line2D([], [], color='k', marker='<', linestyle='None',\n",
    "                          markersize=10, label=' p = 5.e-03') \n",
    "tr_r = mlines.Line2D([], [], color='k', marker='>', linestyle='None',\n",
    "                          markersize=10, label=' p = 1.e-02') \n",
    "l1 = plt.legend(handles = [eb[i] for i in range(4)])\n",
    "l2 = plt.legend(handles = [circ, sq, tr_d, tr_u, tr_l, tr_r], loc = 3)\n",
    "plt.gca().add_artist(l1)\n",
    "\n",
    "\n",
    "plt.xlabel('intercept',fontsize = 16)\n",
    "plt.ylabel('slope',fontsize = 16)\n",
    "\n",
    "ax.spines['right'].set_visible(False)\n",
    "ax.spines['top'].set_visible(False)\n",
    "for label in (ax.get_xticklabels() + ax.get_yticklabels()):\n",
    "    label.set_fontsize(14)\n",
    "plt.savefig(os.path.join(fig2panelspath, 'fig2c.png'),  bbox_inches='tight')\n",
    "plt.savefig(os.path.join(fig2panelspath, 'fig2c.eps'),  bbox_inches='tight', format = 'eps')"
   ]
  },
  {
   "cell_type": "markdown",
   "metadata": {},
   "source": [
    "# Plot full figure - probably trying 3 panels instead of 2"
   ]
  },
  {
   "cell_type": "code",
   "execution_count": null,
   "metadata": {},
   "outputs": [],
   "source": [
    "f2v1 = plt.figure(figsize = (8,16))\n",
    "gs = f2v1.add_gridspec(2,8)\n",
    "\n",
    "\n",
    "ax_2bv1 = f2v1.add_subplot(gs[0:1, :])\n",
    "ax_2bv1.tick_params(labelsize=12)\n",
    "\n",
    "for i, area in enumerate(list(int_log_wLGd.index)+['whole brain']):\n",
    "\n",
    "    ax_2bv1.scatter(int_all_log_selec['mean int'][int_all_log_selec['func area'] == area], slope_all_log_selec['mean slope'][slope_all_log_selec['func area'] == area], color = sns.xkcd_palette(colors)[i], label = area)\n",
    "    thisxerr = [int_all_log_selec['mean int'][int_all_log_selec['func area'] == area].values - int_all_log_selec['95%quant-low'][int_all_log_selec['func area'] == area].values, int_all_log_selec['95%quant-high'][int_all_log_selec['func area'] == area].values - int_all_log_selec['mean int'][int_all_log_selec['func area'] == area].values]\n",
    "    thisyerr = [slope_all_log_selec['mean slope'][slope_all_log_selec['func area'] == area].values - slope_all_log_selec['95%quant-low'][slope_all_log_selec['func area'] == area].values, slope_all_log_selec['95%quant-high'][slope_all_log_selec['func area'] == area].values - slope_all_log_selec['mean slope'][slope_all_log_selec['func area'] == area].values]\n",
    "    ax_2bv1.errorbar(int_all_log_selec['mean int'][int_all_log_selec['func area'] == area], slope_all_log_selec['mean slope'][slope_all_log_selec['func area'] == area], xerr = thisxerr, yerr = thisyerr, color = sns.xkcd_palette(colors)[i], fmt='none')\n",
    "\n",
    "ax_2bv1.legend()\n",
    "\n",
    "# plot fit\n",
    "\n",
    "thisx = np.linspace(ax.get_xlim()[0], ax.get_xlim()[1], num = 100)\n",
    "ax_2bv1.plot(thisx, intercept+thisx*slope, 'k')\n",
    "\n",
    "\n",
    "ax_2bv1.set_xlabel('intercept',fontsize = 16)\n",
    "ax_2bv1.set_ylabel('slope',fontsize = 16)\n",
    "ax_2bv1.set_xlim(-1.5, 5.5)\n",
    "ax_2bv1.set_ylim(0, 1.1)\n",
    "\n",
    "ax_2bv1.spines['right'].set_visible(False)\n",
    "ax_2bv1.spines['top'].set_visible(False)\n",
    "\n",
    "eb = {}\n",
    "ax_2cv1 = f2v1.add_subplot(gs[1:2, :])\n",
    "ax_2cv1.tick_params(labelsize=12)\n",
    "for i, ni in enumerate(thisres_params.Ni.unique()):\n",
    "    if ni != 1000:\n",
    "        thisres =  thisres_params[thisres_params.Ni == ni]\n",
    "    #     plt.plot(thisres['intercept']['mean'], thisres['slope']['mean'])\n",
    "        eb[i] = ax_2cv1.errorbar(thisres['intercept']['mean'], thisres['slope']['mean'], xerr = thisres['intercept']['std'], yerr = thisres['slope']['std'], label = \"Ni = \" + str(ni),color = sns.xkcd_palette(colorsni)[i])\n",
    "for j, p in enumerate(thisres_params.p.unique()):\n",
    "    for i,ni in enumerate(thisres_params.Ni.unique()):\n",
    "        thisres =  thisres_params[(thisres_params.Ni == ni) & (thisres_params.p == p)]\n",
    "        ax_2cv1.plot(thisres['intercept']['mean'], thisres['slope']['mean'], c = sns.xkcd_palette(colorsni)[i], marker = markersp[j], ms = 10)\n",
    "\n",
    "circ = mlines.Line2D([], [], color='k', marker='o', linestyle='None',\n",
    "                          markersize=10, label=' p = 5.e-05')     \n",
    "sq = mlines.Line2D([], [], color='k', marker='s', linestyle='None',\n",
    "                          markersize=10, label=' p = 1.e-04')\n",
    "tr_d = mlines.Line2D([], [], color='k', marker='v', linestyle='None',\n",
    "                          markersize=10, label=' p = 5.e-04') \n",
    "tr_u = mlines.Line2D([], [], color='k', marker='^', linestyle='None',\n",
    "                          markersize=10, label=' p = 1.e-03') \n",
    "tr_l = mlines.Line2D([], [], color='k', marker='<', linestyle='None',\n",
    "                          markersize=10, label=' p = 5.e-03') \n",
    "tr_r = mlines.Line2D([], [], color='k', marker='>', linestyle='None',\n",
    "                          markersize=10, label=' p = 1.e-02') \n",
    "l1 = plt.legend(handles = [eb[i] for i in range(4)])\n",
    "l2 = plt.legend(handles = [circ, sq, tr_d, tr_u, tr_l, tr_r], loc = 3)\n",
    "plt.gca().add_artist(l1)\n",
    "\n",
    "# plot fit\n",
    "\n",
    "\n",
    "ax_2cv1.set_xlabel('intercept',fontsize = 16)\n",
    "ax_2cv1.set_ylabel('slope',fontsize = 16)\n",
    "\n",
    "ax_2cv1.spines['right'].set_visible(False)\n",
    "ax_2cv1.spines['top'].set_visible(False)\n",
    "\n",
    "ax_2cv1.set_xlim(-1.5, 5.5)\n",
    "ax_2cv1.set_ylim(0, 1.1)\n",
    "for label in (ax_2bv1.get_xticklabels() + ax_2bv1.get_yticklabels()+ax_2cv1.get_xticklabels() + ax_2cv1.get_yticklabels()):\n",
    "    label.set_fontsize(14)\n",
    "plt.savefig(os.path.join(fig2panelspath, 'fig2v1.png'),  bbox_inches='tight')\n",
    "plt.savefig(os.path.join(fig2panelspath, 'fig2v1.eps'),  bbox_inches='tight', format = 'eps')"
   ]
  },
  {
   "cell_type": "code",
   "execution_count": null,
   "metadata": {},
   "outputs": [],
   "source": []
  }
 ],
 "metadata": {
  "kernelspec": {
   "display_name": "Python 3 (ipykernel)",
   "language": "python",
   "name": "python3"
  },
  "language_info": {
   "codemirror_mode": {
    "name": "ipython",
    "version": 3
   },
   "file_extension": ".py",
   "mimetype": "text/x-python",
   "name": "python",
   "nbconvert_exporter": "python",
   "pygments_lexer": "ipython3",
   "version": "3.9.15"
  }
 },
 "nbformat": 4,
 "nbformat_minor": 4
}
