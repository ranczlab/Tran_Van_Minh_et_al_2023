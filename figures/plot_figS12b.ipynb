{
 "cells": [
  {
   "cell_type": "code",
   "execution_count": 1,
   "metadata": {},
   "outputs": [],
   "source": [
    "import numpy as np\n",
    "import os\n",
    "from pathlib import Path\n",
    "import pandas as pd\n",
    "import matplotlib.pyplot as plt\n",
    "import seaborn as sns\n",
    "import pickle\n",
    "sns.set_style(\"ticks\")\n",
    "hfont = {'fontname':'Myriad Pro'}\n",
    "import matplotlib.ticker as mtick\n",
    "from matplotlib import gridspec\n",
    "import matplotlib.colors as colors\n",
    "import sys\n",
    "sys.path.append(os.path.join(Path(os.getcwd()).parents[0], \"functions\"))\n",
    "import warnings\n",
    "warnings.filterwarnings('ignore')\n",
    "import helper_functions as hfn\n",
    "import inputfraction_functions as fracfn"
   ]
  },
  {
   "cell_type": "code",
   "execution_count": 2,
   "metadata": {},
   "outputs": [],
   "source": [
    "path = Path(os.getcwd()).parents[0]\n",
    "alldatapath = os.path.join(path,'data')\n",
    "datapath = os.path.join(alldatapath, 'clean')\n",
    "\n",
    "fracpath = os.path.join(path, 'input_fraction')\n",
    "fracpath_csv = os.path.join(fracpath, 'csv')\n",
    "\n",
    "figpath = os.path.join(path, 'Figures')\n",
    "hfn.dir_check(figpath)\n",
    "    \n",
    "figs43path = os.path.join(figpath, 'FigS12+S13')\n",
    "hfn.dir_check(figs43path)\n",
    "\n",
    "figs43panelpaths = os.path.join(figs43path, 'panels')\n",
    "hfn.dir_check(figs43panelpaths)"
   ]
  },
  {
   "cell_type": "code",
   "execution_count": 3,
   "metadata": {},
   "outputs": [],
   "source": [
    "df_frac = pd.read_csv(os.path.join(fracpath_csv, 'df_all_fraction.csv'))"
   ]
  },
  {
   "cell_type": "code",
   "execution_count": 4,
   "metadata": {},
   "outputs": [],
   "source": [
    "areas_sel = ['VISp','VISpm','VISl', 'VISam', 'VISal', 'RSPagl', 'RSPd', 'RSPv', 'AM', 'LD', 'LP', 'LGd', 'ORB', 'ACA', 'MOs', 'CLA', 'PTLp', 'TEa', 'AUD',]"
   ]
  },
  {
   "cell_type": "code",
   "execution_count": 5,
   "metadata": {},
   "outputs": [],
   "source": [
    "parsalldf_all, parsabovedf_all, parsbelowdf_all, chowdf_all = fracfn.find_breakpoint(df_frac, areas_sel, [150, 200, 500, 700])"
   ]
  },
  {
   "cell_type": "code",
   "execution_count": 6,
   "metadata": {},
   "outputs": [],
   "source": [
    "chowdf_filt = chowdf_all[chowdf_all['area'].isin(areas_sel)]"
   ]
  },
  {
   "cell_type": "code",
   "execution_count": 7,
   "metadata": {},
   "outputs": [
    {
     "data": {
      "image/png": "[encoded data removed]",
      "text/plain": [
       "<Figure size 350x325 with 1 Axes>"
      ]
     },
     "metadata": {},
     "output_type": "display_data"
    }
   ],
   "source": [
    "f = plt.figure(figsize=(3.5,3.25))\n",
    "\n",
    "gs = f.add_gridspec(1,1)\n",
    "ax = f.add_subplot(gs[:,:])\n",
    "for g in chowdf_filt['area'].unique():\n",
    "    ax.scatter(chowdf_filt['threshold'][chowdf_filt['area']==g].astype(str), np.log10(chowdf_filt['chow_pval'][chowdf_filt['area']==g]),  c = 'xkcd:dark', label = g)\n",
    "\n",
    "plt.xlabel('breakpoint (# starters)', fontsize = 16)\n",
    "plt.ylabel('Log(p)', fontsize = 16)\n",
    "plt.axhline(np.log10(0.05), ls = '--', c= 'k')\n",
    "plt.text(3.2, np.log10(0.06),'p = 0.05')\n",
    "plt.xlim(-0.5, 3.8)\n",
    "plt.ylim(-3.2,0.1)\n",
    "\n",
    "plt.gca().get_yaxis().set_ticks([])\n",
    "plt.gca().spines['right'].set_visible(False)\n",
    "plt.gca().spines['top'].set_visible(False)\n",
    "plt.subplots_adjust( top=0.85, bottom=0.15)\n",
    "f.savefig(os.path.join(figs43panelpaths, 'figS12_b.png'),  bbox_inches=None)\n",
    "f.savefig(os.path.join(figs43panelpaths, 'figS12_b.eps'),  bbox_inches=None, format = 'eps')"
   ]
  }
 ],
 "metadata": {
  "kernelspec": {
   "display_name": "Python 3 (ipykernel)",
   "language": "python",
   "name": "python3"
  },
  "language_info": {
   "codemirror_mode": {
    "name": "ipython",
    "version": 3
   },
   "file_extension": ".py",
   "mimetype": "text/x-python",
   "name": "python",
   "nbconvert_exporter": "python",
   "pygments_lexer": "ipython3",
   "version": "3.9.15"
  }
 },
 "nbformat": 4,
 "nbformat_minor": 4
}
