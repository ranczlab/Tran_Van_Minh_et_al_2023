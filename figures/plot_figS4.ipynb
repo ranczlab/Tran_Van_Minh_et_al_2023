{
 "cells": [
  {
   "cell_type": "code",
   "execution_count": 1,
   "metadata": {},
   "outputs": [],
   "source": [
    "import numpy as np\n",
    "import pandas as pd\n",
    "import matplotlib.pyplot as plt\n",
    "import matplotlib.ticker as mtick\n",
    "from matplotlib import gridspec\n",
    "import seaborn as sns\n",
    "import os\n",
    "from pathlib import Path\n",
    "import itertools\n",
    "import sys\n",
    "import pickle\n",
    "sys.path.append(os.path.join(Path(os.getcwd()).parents[0], \"functions\"))\n",
    "import warnings\n",
    "warnings.filterwarnings('ignore')\n",
    "import plotting_functions as plfn\n",
    "import helper_functions as hfn\n",
    "import AIC_functions as aicfn"
   ]
  },
  {
   "cell_type": "code",
   "execution_count": 2,
   "metadata": {},
   "outputs": [],
   "source": [
    "from lmfit import Model\n",
    "from lmfit.models import PowerLawModel\n",
    "from lmfit.models import LinearModel\n",
    "from lmfit.models import QuadraticModel"
   ]
  },
  {
   "cell_type": "code",
   "execution_count": 3,
   "metadata": {},
   "outputs": [],
   "source": [
    "model_lm = LinearModel()\n",
    "model_pl = PowerLawModel()\n",
    "model_quad = QuadraticModel()"
   ]
  },
  {
   "cell_type": "code",
   "execution_count": 4,
   "metadata": {},
   "outputs": [],
   "source": [
    "# colors = [\"windows blue\", \"amber\", \"greyish\", \"faded green\", \"dusty purple\"]\n",
    "# sns.set_palette = sns.xkcd_palette(colors)\n",
    "sns.set_style(\"ticks\")\n",
    "hfont = {'fontname':'Myriad Pro'}"
   ]
  },
  {
   "cell_type": "code",
   "execution_count": 5,
   "metadata": {},
   "outputs": [],
   "source": [
    "path = Path(os.getcwd()).parents[0]\n",
    "\n",
    "prob_path = os.path.join(path, 'probabilistic_model')\n",
    "\n",
    "distrpath = os.path.join(prob_path, 'params_distr')\n",
    "\n",
    "datapath = os.path.join(distrpath, 'analysis')\n",
    "rawdatapath = os.path.join(distrpath, 'data')\n",
    "\n",
    "datapath_df = os.path.join(datapath, 'DF')\n",
    "\n",
    "figpath = os.path.join(path, 'figures')\n",
    "hfn.dir_check(figpath)\n",
    "\n",
    "figs12path = os.path.join(figpath, 'FigS4')\n",
    "hfn.dir_check(figs12path)\n",
    "\n",
    "figs12panelpaths = os.path.join(figs12path, 'panels')\n",
    "hfn.dir_check(figs12panelpaths)\n"
   ]
  },
  {
   "cell_type": "markdown",
   "metadata": {},
   "source": [
    "# homogeneous parameters"
   ]
  },
  {
   "cell_type": "code",
   "execution_count": 6,
   "metadata": {},
   "outputs": [
    {
     "ename": "FileNotFoundError",
     "evalue": "[Errno 2] No such file or directory: '/Users/rancze/Documents/GitHub/Tran_Van_Minh_et_al_2023/probabilistic_model/params_distr/listp.pickle'",
     "output_type": "error",
     "traceback": [
      "\u001b[0;31m---------------------------------------------------------------------------\u001b[0m",
      "\u001b[0;31mFileNotFoundError\u001b[0m                         Traceback (most recent call last)",
      "\u001b[0;32m/var/folders/n7/dvksxsf55hxbzrrfm5gv88cwmxqfb7/T/ipykernel_71060/2566759895.py\u001b[0m in \u001b[0;36m<module>\u001b[0;34m\u001b[0m\n\u001b[0;32m----> 1\u001b[0;31m \u001b[0;32mwith\u001b[0m \u001b[0mopen\u001b[0m \u001b[0;34m(\u001b[0m\u001b[0mos\u001b[0m\u001b[0;34m.\u001b[0m\u001b[0mpath\u001b[0m\u001b[0;34m.\u001b[0m\u001b[0mjoin\u001b[0m\u001b[0;34m(\u001b[0m\u001b[0mdistrpath\u001b[0m\u001b[0;34m,\u001b[0m \u001b[0;34m'listp.pickle'\u001b[0m\u001b[0;34m)\u001b[0m\u001b[0;34m,\u001b[0m \u001b[0;34m'rb'\u001b[0m\u001b[0;34m)\u001b[0m \u001b[0;32mas\u001b[0m \u001b[0mfp\u001b[0m\u001b[0;34m:\u001b[0m\u001b[0;34m\u001b[0m\u001b[0;34m\u001b[0m\u001b[0m\n\u001b[0m\u001b[1;32m      2\u001b[0m     \u001b[0mlistp\u001b[0m \u001b[0;34m=\u001b[0m \u001b[0mpickle\u001b[0m\u001b[0;34m.\u001b[0m\u001b[0mload\u001b[0m\u001b[0;34m(\u001b[0m\u001b[0mfp\u001b[0m\u001b[0;34m)\u001b[0m\u001b[0;34m\u001b[0m\u001b[0;34m\u001b[0m\u001b[0m\n\u001b[1;32m      3\u001b[0m \u001b[0;32mwith\u001b[0m \u001b[0mopen\u001b[0m \u001b[0;34m(\u001b[0m\u001b[0mos\u001b[0m\u001b[0;34m.\u001b[0m\u001b[0mpath\u001b[0m\u001b[0;34m.\u001b[0m\u001b[0mjoin\u001b[0m\u001b[0;34m(\u001b[0m\u001b[0mdistrpath\u001b[0m\u001b[0;34m,\u001b[0m \u001b[0;34m'listni.pickle'\u001b[0m\u001b[0;34m)\u001b[0m\u001b[0;34m,\u001b[0m \u001b[0;34m'rb'\u001b[0m\u001b[0;34m)\u001b[0m \u001b[0;32mas\u001b[0m \u001b[0mfp\u001b[0m\u001b[0;34m:\u001b[0m\u001b[0;34m\u001b[0m\u001b[0;34m\u001b[0m\u001b[0m\n\u001b[1;32m      4\u001b[0m     \u001b[0mlistni\u001b[0m \u001b[0;34m=\u001b[0m \u001b[0mpickle\u001b[0m\u001b[0;34m.\u001b[0m\u001b[0mload\u001b[0m\u001b[0;34m(\u001b[0m\u001b[0mfp\u001b[0m\u001b[0;34m)\u001b[0m\u001b[0;34m\u001b[0m\u001b[0;34m\u001b[0m\u001b[0m\n",
      "\u001b[0;31mFileNotFoundError\u001b[0m: [Errno 2] No such file or directory: '/Users/rancze/Documents/GitHub/Tran_Van_Minh_et_al_2023/probabilistic_model/params_distr/listp.pickle'"
     ]
    }
   ],
   "source": [
    "with open (os.path.join(distrpath, 'listp.pickle'), 'rb') as fp:\n",
    "    listp = pickle.load(fp)\n",
    "with open (os.path.join(distrpath, 'listni.pickle'), 'rb') as fp:\n",
    "    listni = pickle.load(fp)"
   ]
  },
  {
   "cell_type": "code",
   "execution_count": null,
   "metadata": {},
   "outputs": [],
   "source": [
    "fig=plt.figure(figsize = (2.7,3.5), constrained_layout = True)\n",
    "plt.hist(listp, bins = 10, color ='white', edgecolor='k')\n",
    "plt.xlabel('p', fontsize = 16)\n",
    "plt.ylabel('counts', fontsize = 16)\n",
    "ax = fig.gca()\n",
    "plt.locator_params(axis='x', nbins=2)\n",
    "ax.ticklabel_format(style='sci', scilimits=(0,0), axis='x')\n",
    "ax.spines['right'].set_visible(False)\n",
    "ax.spines['top'].set_visible(False) \n",
    "for label in (ax.get_xticklabels() + ax.get_yticklabels()):\n",
    "    label.set_fontsize(14)\n",
    "plt.savefig(os.path.join(figs12panelpaths, 'p_dist.png'), bbox_inches = 'tight')\n",
    "plt.savefig(os.path.join(figs12panelpaths, 'p_dist.eps'), bbox_inches = 'tight', format = 'eps')"
   ]
  },
  {
   "cell_type": "code",
   "execution_count": null,
   "metadata": {},
   "outputs": [],
   "source": [
    "fig=plt.figure(figsize = (2.7,3.5), constrained_layout = True)\n",
    "plt.hist(listni, bins = 10, color ='white', edgecolor='k')\n",
    "plt.xlabel('Ni', fontsize = 16)\n",
    "plt.ylabel('counts', fontsize = 16)\n",
    "ax = fig.gca()\n",
    "ax.spines['right'].set_visible(False)\n",
    "ax.spines['top'].set_visible(False) \n",
    "plt.locator_params(axis='x', nbins=2)\n",
    "ax.ticklabel_format(style='sci', scilimits=(0,0), axis='x')\n",
    "for label in (ax.get_xticklabels() + ax.get_yticklabels()):\n",
    "    label.set_fontsize(14)\n",
    "plt.savefig(os.path.join(figs12panelpaths, 'ni_dist.png'), bbox_inches = 'tight')\n",
    "plt.savefig(os.path.join(figs12panelpaths, 'ni_dist.eps'), bbox_inches = 'tight', format = 'eps')"
   ]
  },
  {
   "cell_type": "code",
   "execution_count": null,
   "metadata": {},
   "outputs": [],
   "source": []
  },
  {
   "cell_type": "markdown",
   "metadata": {},
   "source": [
    "# p and ni from distribution"
   ]
  },
  {
   "cell_type": "code",
   "execution_count": null,
   "metadata": {},
   "outputs": [],
   "source": [
    "thisfile = os.path.join(rawdatapath, 'df_res_0.h5')\n",
    "thisdf = pd.read_hdf(os.path.join(path, thisfile))\n",
    "thisdf = thisdf.sort_values(by=['starters'])\n",
    "thisdf2 = thisdf[(thisdf != 0).all(1)]\n",
    "thisdf_log = np.log10(thisdf2)"
   ]
  },
  {
   "cell_type": "code",
   "execution_count": null,
   "metadata": {},
   "outputs": [],
   "source": [
    "df_fit_pl,result_pl, pars_pl, AICc_pl, rsquare_pl = aicfn.fit_and_saveprms_noplot(thisdf['starters'].values, thisdf['inputs'].values, 'inputs', model_pl, 'linear scale, power-law fit', 'sample_linscale_plfit' , datapath, 0, 3200, 1, 0)\n",
    "df_fit_lm,result_lm, pars_lm, AICc_lm, rsquare_lm = aicfn.fit_and_saveprms_noplot(thisdf['starters'].values, thisdf['inputs'].values, 'inputs', model_lm, 'linear scale, linear fit', 'sample_linscale_lmfit' , datapath, 0, 3200, 1, 0)\n",
    "df_fit_quad,result_quad, pars_quad, AICc_quad, rsquare_quad = aicfn.fit_and_saveprms_noplot(thisdf['starters'].values, thisdf['inputs'].values, 'inputs', model_quad, 'linear scale, quadratic fit', 'sample_linscale_quadfit' , datapath, 0, 3200, 1, 0)\n"
   ]
  },
  {
   "cell_type": "code",
   "execution_count": null,
   "metadata": {},
   "outputs": [],
   "source": [
    "thisdf_AIC_lin = pd.DataFrame([df_fit_lm.AICc.values[0], df_fit_pl.AICc.values[0], df_fit_quad.AICc.values[0]]).T\n",
    "thisdf_AIC_lin.columns = ['linear', 'power-law', 'quadratic']\n",
    "thisdf_AIC_lin['iteration'] = 0"
   ]
  },
  {
   "cell_type": "code",
   "execution_count": null,
   "metadata": {},
   "outputs": [],
   "source": [
    "df_fit_lm_log,result_lm_log, pars_lm_log, AICc_lm_log, rsquare_lm_log = aicfn.fit_and_saveprms_noplot(thisdf_log['starters'].values, thisdf_log['inputs'].values, 'inputs', model_lm, 'log scale, linear fit', 'sample_logscale_lmfit', datapath, 0, 4, 1, 1)\n",
    "df_fit_quad_log,result_quad_log, pars_quad_log, AICc_quad_log, rsquare_quad_log = aicfn.fit_and_saveprms_noplot(thisdf_log['starters'].values, thisdf_log['inputs'].values, 'inputs', model_quad, 'log scale, quadratic fit', 'sample_logscale_quadfit' , datapath, 0, 4, 1, 1)\n",
    "thisdf_AIC_log = pd.DataFrame([df_fit_lm_log.AICc.values[0],  df_fit_quad_log.AICc.values[0]]).T\n",
    "thisdf_AIC_log.columns = ['linear', 'quadratic']"
   ]
  },
  {
   "cell_type": "code",
   "execution_count": null,
   "metadata": {},
   "outputs": [],
   "source": [
    "thisdf.columns =['starter', 'input', 'p']\n",
    "thisdf2.columns =['starter', 'input', 'p']\n",
    "df_results_all_pl = aicfn.analyze_residuals(thisdf, datapath, datapath, ['input'], 1, 0)\n",
    "df_results_all_lm = aicfn.analyze_residuals(thisdf2, datapath, datapath, ['input'], 0, 0)"
   ]
  },
  {
   "cell_type": "code",
   "execution_count": null,
   "metadata": {},
   "outputs": [],
   "source": [
    "df_AIC_res = pd.concat([df_results_all_lm['area'], df_results_all_lm['AICc'], df_results_all_pl['AICc']], keys = ['area', 'log-normal res', 'normal res'], axis = 1)\n",
    "df_AIC_res.drop(['area'], axis=1)"
   ]
  },
  {
   "cell_type": "code",
   "execution_count": null,
   "metadata": {},
   "outputs": [],
   "source": [
    "colors = [\"amber\"]\n",
    "sns.set_palette = sns.xkcd_palette(colors)"
   ]
  },
  {
   "cell_type": "code",
   "execution_count": null,
   "metadata": {},
   "outputs": [],
   "source": [
    "f1=plt.figure(figsize = (10,3), constrained_layout = True)\n",
    "\n",
    "gs = f1.add_gridspec(1,4)\n",
    "\n",
    "    # panel A\n",
    "ax1 = f1.add_subplot(gs[:, :2])\n",
    "\n",
    "ax1.scatter(result_pl.best_fit, result_pl.residual/np.std(result_pl.residual), facecolors = 'none', s= 80, edgecolors='k')\n",
    "ax1.set_ylabel('standardized res.',fontsize = 16)\n",
    "ax1.set_xlabel('fitted values',fontsize = 16)\n",
    "\n",
    "x1, x2 = ax1.get_xlim()\n",
    "max_ax1 = max(np.abs(ax1.get_ylim()))\n",
    "ax1.set_ylim((-max_ax1, max_ax1))\n",
    "ax1.axhline(y=0, xmin=0, xmax=x2,c='k', ls='--')\n",
    "ax1.set_ylabel('inputs', fontsize = 16)\n",
    "ax1.set_xlabel('starters', fontsize = 16)\n",
    "plt.locator_params(axis='x', nbins=5)\n",
    "ax2 = f1.add_subplot(gs[:, 2:])\n",
    "ax2.scatter(result_lm_log.best_fit, result_lm_log.residual/np.std(result_lm_log.residual),facecolors = 'none', alpha = 0.6, s= 80, edgecolors='k')\n",
    "ax2.set_ylabel('standardized res.',fontsize = 16)\n",
    "ax2.set_xlabel('fitted values',fontsize = 16)\n",
    "\n",
    "x1, x2 = ax2.get_xlim()\n",
    "max_ax2 = max(np.abs(ax2.get_ylim()))\n",
    "ax2.set_ylim((-max_ax1, max_ax1))\n",
    "ax2.axhline(y=0, xmin=0, xmax=x2,c='k', ls='--')\n",
    "ax2.set_ylabel('Log(inputs)', fontsize = 16)\n",
    "ax2.set_xlabel('Log(starters)', fontsize = 16)\n",
    "\n",
    "ax1.spines['right'].set_visible(False)\n",
    "ax1.spines['top'].set_visible(False) \n",
    "\n",
    "ax2.spines['right'].set_visible(False)\n",
    "ax2.spines['top'].set_visible(False) \n",
    "for label in (ax1.get_xticklabels() + ax1.get_yticklabels() + ax2.get_xticklabels() + ax2.get_yticklabels()):\n",
    "    label.set_fontsize(14)\n",
    "    \n",
    "plt.savefig(os.path.join(figs12panelpaths, 'res_distp_ni.png'), bbox_inches = 'tight')\n",
    "plt.savefig(os.path.join(figs12panelpaths, 'res_distp_ni.eps'), bbox_inches = 'tight', format = 'eps')"
   ]
  },
  {
   "cell_type": "code",
   "execution_count": null,
   "metadata": {},
   "outputs": [],
   "source": [
    "f1=plt.figure(figsize = (10,4), constrained_layout = True)\n",
    "\n",
    "gs = f1.add_gridspec(1,4)\n",
    "\n",
    "    # panel A\n",
    "ax1 = f1.add_subplot(gs[:, :2])\n",
    "\n",
    "ax1.plot(thisdf.starter, thisdf.input, 'o', color = 'k', alpha = 0.6)\n",
    "ax1.plot(thisdf.starter, result_pl.best_fit, c = sns.xkcd_palette(colors)[0])\n",
    "ax1.set_ylabel('inputs', fontsize = 16)\n",
    "ax1.set_xlabel('starters', fontsize = 16)\n",
    "\n",
    "ax2 = f1.add_subplot(gs[:, 2:])\n",
    "ax2.plot(thisdf_log.starters, thisdf_log.inputs, 'o', color = 'k', alpha = 0.6)\n",
    "ax2.plot(thisdf_log.starters, result_lm_log.best_fit, c = sns.xkcd_palette(colors)[0])\n",
    "ax2.set_ylabel('Log(inputs)', fontsize = 16)\n",
    "ax2.set_xlabel('Log(starters)', fontsize = 16)\n",
    "\n",
    "ax1.spines['right'].set_visible(False)\n",
    "ax1.spines['top'].set_visible(False) \n",
    "\n",
    "ax2.spines['right'].set_visible(False)\n",
    "ax2.spines['top'].set_visible(False) \n",
    "for label in (ax1.get_xticklabels() + ax1.get_yticklabels() + ax2.get_xticklabels() + ax2.get_yticklabels()):\n",
    "    label.set_fontsize(14)\n",
    "    \n",
    "\n",
    "plt.savefig(os.path.join(figs12panelpaths, 'example_fit_distp_ni.png'), bbox_inches = 'tight')\n",
    "plt.savefig(os.path.join(figs12panelpaths, 'example_fit_distp_ni.eps'), bbox_inches = 'tight', format = 'eps')    \n"
   ]
  },
  {
   "cell_type": "code",
   "execution_count": null,
   "metadata": {},
   "outputs": [],
   "source": [
    "AIC_res = pd.read_hdf(os.path.join(datapath, 'delta_AIC_random.h5' ))"
   ]
  },
  {
   "cell_type": "code",
   "execution_count": null,
   "metadata": {},
   "outputs": [],
   "source": [
    "AIC_res_lin = pd.read_hdf(os.path.join(datapath, 'delta_AIC_lin_random.h5' ))\n",
    "AIC_res_log = pd.read_hdf(os.path.join(datapath, 'delta_AIC_log_random.h5' ))"
   ]
  },
  {
   "cell_type": "code",
   "execution_count": null,
   "metadata": {},
   "outputs": [],
   "source": [
    "AIC_res['deltaAIC'] = AIC_res['log-normal res'] - AIC_res['normal res']"
   ]
  },
  {
   "cell_type": "code",
   "execution_count": null,
   "metadata": {},
   "outputs": [],
   "source": [
    "plt.figure(figsize = (5.5,7.2), constrained_layout = True)\n",
    "plt.hist(AIC_res['deltaAIC'], bins = 10, color ='white', edgecolor='k')\n",
    "plt.axvline(-2, c='k', ls= '--')\n",
    "plt.xlabel('ΔAICc, lognormal-normal', fontsize = 16)\n",
    "plt.ylabel('counts', fontsize = 16)\n",
    "ax = plt.gca()\n",
    "ax.set_xlim(-320, 10)\n",
    "ax.spines['right'].set_visible(False)\n",
    "ax.spines['top'].set_visible(False) \n",
    "for label in (ax.get_xticklabels() + ax.get_yticklabels()):\n",
    "    label.set_fontsize(14)\n",
    "plt.savefig(os.path.join(figs12panelpaths, 'AICc_residuals.png'), bbox_inches = 'tight')\n",
    "plt.savefig(os.path.join(figs12panelpaths, 'AICc_residuals.eps'), bbox_inches = 'tight', format = 'eps')"
   ]
  },
  {
   "cell_type": "code",
   "execution_count": null,
   "metadata": {},
   "outputs": [],
   "source": []
  }
 ],
 "metadata": {
  "kernelspec": {
   "display_name": "Python 3 (ipykernel)",
   "language": "python",
   "name": "python3"
  },
  "language_info": {
   "codemirror_mode": {
    "name": "ipython",
    "version": 3
   },
   "file_extension": ".py",
   "mimetype": "text/x-python",
   "name": "python",
   "nbconvert_exporter": "python",
   "pygments_lexer": "ipython3",
   "version": "3.9.15"
  }
 },
 "nbformat": 4,
 "nbformat_minor": 4
}
