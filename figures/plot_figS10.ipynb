{
 "cells": [
  {
   "cell_type": "code",
   "execution_count": 1,
   "metadata": {},
   "outputs": [],
   "source": [
    "import numpy as np\n",
    "import os\n",
    "from pathlib import Path\n",
    "import pandas as pd\n",
    "import matplotlib.pyplot as plt\n",
    "import seaborn as sns\n",
    "hfont = {'fontname':'Myriad Pro'}\n",
    "import matplotlib.ticker as mtick\n",
    "from matplotlib import gridspec\n",
    "import sys\n",
    "sys.path.append(os.path.join(Path(os.getcwd()).parents[0], \"functions\"))\n",
    "import warnings\n",
    "warnings.filterwarnings('ignore')\n",
    "import helper_functions as hfn"
   ]
  },
  {
   "cell_type": "code",
   "execution_count": 2,
   "metadata": {},
   "outputs": [],
   "source": [
    "sns.set_style(\"ticks\")"
   ]
  },
  {
   "cell_type": "code",
   "execution_count": 3,
   "metadata": {},
   "outputs": [],
   "source": [
    "path = Path(os.getcwd()).parents[0]\n",
    "\n",
    "modelpath = os.path.join(path, 'configuration_model')\n",
    "\n",
    "\n",
    "datapath = os.path.join(modelpath, 'analysis')\n",
    "\n",
    "figpath = os.path.join(path, 'figures')\n",
    "hfn.dir_check(figpath)\n",
    "    \n",
    "figs3path = os.path.join(figpath, 'FigS10')\n",
    "hfn.dir_check(figs3path)\n",
    "\n",
    "figs3panelpaths = os.path.join(figs3path, 'panels')\n",
    "hfn.dir_check(figs3panelpaths)"
   ]
  },
  {
   "cell_type": "markdown",
   "metadata": {},
   "source": [
    "# load summary dataframe"
   ]
  },
  {
   "cell_type": "code",
   "execution_count": 4,
   "metadata": {},
   "outputs": [
    {
     "ename": "FileNotFoundError",
     "evalue": "File /Users/rancze/Documents/GitHub/Tran_Van_Minh_et_al_2023/configuration_model/analysis/allpars_df.h5 does not exist",
     "output_type": "error",
     "traceback": [
      "\u001b[0;31m---------------------------------------------------------------------------\u001b[0m",
      "\u001b[0;31mFileNotFoundError\u001b[0m                         Traceback (most recent call last)",
      "\u001b[0;32m/var/folders/n7/dvksxsf55hxbzrrfm5gv88cwmxqfb7/T/ipykernel_70778/834505004.py\u001b[0m in \u001b[0;36m<module>\u001b[0;34m\u001b[0m\n\u001b[0;32m----> 1\u001b[0;31m \u001b[0mpars_df\u001b[0m \u001b[0;34m=\u001b[0m \u001b[0mpd\u001b[0m\u001b[0;34m.\u001b[0m\u001b[0mread_hdf\u001b[0m\u001b[0;34m(\u001b[0m\u001b[0mos\u001b[0m\u001b[0;34m.\u001b[0m\u001b[0mpath\u001b[0m\u001b[0;34m.\u001b[0m\u001b[0mjoin\u001b[0m\u001b[0;34m(\u001b[0m\u001b[0mdatapath\u001b[0m\u001b[0;34m,\u001b[0m \u001b[0;34m'allpars_df.h5'\u001b[0m\u001b[0;34m)\u001b[0m\u001b[0;34m)\u001b[0m\u001b[0;34m\u001b[0m\u001b[0;34m\u001b[0m\u001b[0m\n\u001b[0m",
      "\u001b[0;32m~/opt/anaconda3/lib/python3.9/site-packages/pandas/io/pytables.py\u001b[0m in \u001b[0;36mread_hdf\u001b[0;34m(path_or_buf, key, mode, errors, where, start, stop, columns, iterator, chunksize, **kwargs)\u001b[0m\n\u001b[1;32m    425\u001b[0m \u001b[0;34m\u001b[0m\u001b[0m\n\u001b[1;32m    426\u001b[0m         \u001b[0;32mif\u001b[0m \u001b[0;32mnot\u001b[0m \u001b[0mexists\u001b[0m\u001b[0;34m:\u001b[0m\u001b[0;34m\u001b[0m\u001b[0;34m\u001b[0m\u001b[0m\n\u001b[0;32m--> 427\u001b[0;31m             \u001b[0;32mraise\u001b[0m \u001b[0mFileNotFoundError\u001b[0m\u001b[0;34m(\u001b[0m\u001b[0;34mf\"File {path_or_buf} does not exist\"\u001b[0m\u001b[0;34m)\u001b[0m\u001b[0;34m\u001b[0m\u001b[0;34m\u001b[0m\u001b[0m\n\u001b[0m\u001b[1;32m    428\u001b[0m \u001b[0;34m\u001b[0m\u001b[0m\n\u001b[1;32m    429\u001b[0m         \u001b[0mstore\u001b[0m \u001b[0;34m=\u001b[0m \u001b[0mHDFStore\u001b[0m\u001b[0;34m(\u001b[0m\u001b[0mpath_or_buf\u001b[0m\u001b[0;34m,\u001b[0m \u001b[0mmode\u001b[0m\u001b[0;34m=\u001b[0m\u001b[0mmode\u001b[0m\u001b[0;34m,\u001b[0m \u001b[0merrors\u001b[0m\u001b[0;34m=\u001b[0m\u001b[0merrors\u001b[0m\u001b[0;34m,\u001b[0m \u001b[0;34m**\u001b[0m\u001b[0mkwargs\u001b[0m\u001b[0;34m)\u001b[0m\u001b[0;34m\u001b[0m\u001b[0;34m\u001b[0m\u001b[0m\n",
      "\u001b[0;31mFileNotFoundError\u001b[0m: File /Users/rancze/Documents/GitHub/Tran_Van_Minh_et_al_2023/configuration_model/analysis/allpars_df.h5 does not exist"
     ]
    }
   ],
   "source": [
    "pars_df = pd.read_hdf(os.path.join(datapath, 'allpars_df.h5'))"
   ]
  },
  {
   "cell_type": "code",
   "execution_count": null,
   "metadata": {},
   "outputs": [],
   "source": [
    "pars_df = pars_df.sort_values(by = ['input_degree', 'starter_degree'])"
   ]
  },
  {
   "cell_type": "code",
   "execution_count": null,
   "metadata": {},
   "outputs": [],
   "source": [
    "pars_df.head()"
   ]
  },
  {
   "cell_type": "code",
   "execution_count": null,
   "metadata": {},
   "outputs": [],
   "source": [
    "pars_df.starter_degree.unique()"
   ]
  },
  {
   "cell_type": "code",
   "execution_count": null,
   "metadata": {},
   "outputs": [],
   "source": [
    "pars_df.input_degree.unique()"
   ]
  },
  {
   "cell_type": "code",
   "execution_count": null,
   "metadata": {},
   "outputs": [],
   "source": [
    "seq_col_bp= sns.color_palette(\"Oranges\", 4)\n",
    "seq_col_yg = sns.color_palette(\"Greens\", 5)"
   ]
  },
  {
   "cell_type": "code",
   "execution_count": null,
   "metadata": {},
   "outputs": [],
   "source": [
    "pars_df_agg = pars_df.groupby(['starter_degree', 'input_degree']).agg({'slope' : ['mean', 'std'], 'intercept' : ['mean', 'std']})"
   ]
  },
  {
   "cell_type": "code",
   "execution_count": null,
   "metadata": {},
   "outputs": [],
   "source": [
    "g1 = sns.lmplot(data=pars_df, x=\"slope\", y=\"intercept\", hue = 'input_degree', palette = seq_col_bp, col = 'starter_degree')# ax = ax1)\n",
    "plt.xlim(-0.3,1.2) \n",
    "plt.ylim(1,3.5)\n",
    "g1.fig.set_size_inches(11.25,5)\n",
    "\n",
    "g1.axes[0,0].set_xlabel('slope', fontsize = 16)\n",
    "g1.axes[0,1].set_xlabel('slope', fontsize = 16)\n",
    "g1.axes[0,2].set_xlabel('slope', fontsize = 16)\n",
    "g1.axes.flatten()[0].set_ylabel('intercept', fontsize = 16)\n",
    "g1.set_titles(col_template='starter degree =  '+ \"{col_name}\", size  = 16)\n",
    "plt.setp(g1._legend.get_title(), fontsize=12)\n",
    "plt.setp(g1._legend.get_texts(), fontsize=12)\n",
    "leg = g1._legend\n",
    "leg.set_bbox_to_anchor([1,0.7]) \n",
    "xlabels =[\"%.1f\"%i for i in g1.axes[0,0].get_xticks()]\n",
    "g1.set_yticklabels(g1.axes[0,0].get_yticks(), size = 12)\n",
    "g1.set_xticklabels(xlabels, size = 12)\n",
    "g1.fig.tight_layout()\n",
    "# plt.legend(loc='upper left')#),bbox_to_anchor=(1,0.5))\n",
    "g1.axes[0,0].set_rasterized(True)\n",
    "g1.axes[0,1].set_rasterized(True)\n",
    "g1.axes[0,2].set_rasterized(True)\n",
    "plt.savefig(os.path.join(figs3panelpaths, 'figS10b.png'), bbox_inches = 'tight')\n",
    "plt.savefig(os.path.join(figs3panelpaths, 'figS10b.eps'), bbox_inches = 'tight', format = 'eps', dpi = 200)"
   ]
  },
  {
   "cell_type": "code",
   "execution_count": null,
   "metadata": {},
   "outputs": [],
   "source": [
    "g2 = sns.lmplot(data=pars_df, x=\"slope\", y=\"intercept\", hue = 'starter_degree', palette = seq_col_yg[1:4], col = 'input_degree')# ax = ax1)\n",
    "plt.xlim(-0.3,1.2) \n",
    "plt.ylim(1,3.5)\n",
    "g2.fig.set_size_inches(15,5)\n",
    "\n",
    "g2.axes[0,0].set_xlabel('slope', fontsize = 16)\n",
    "g2.axes[0,1].set_xlabel('slope', fontsize = 16)\n",
    "g2.axes[0,2].set_xlabel('slope', fontsize = 16)\n",
    "g2.axes[0,3].set_xlabel('slope', fontsize = 16)\n",
    "g2.axes.flatten()[0].set_ylabel('intercept', fontsize = 16)\n",
    "g2.set_titles(col_template='input degree =  '+ \"{col_name}\", size  = 16)\n",
    "plt.setp(g2._legend.get_title(), fontsize=12)\n",
    "plt.setp(g2._legend.get_texts(), fontsize=12)\n",
    "xlabels2 =[\"%.1f\"%i for i in g2.axes[0,0].get_xticks()]\n",
    "g2.set_yticklabels(g2.axes[0,0].get_yticks(), size = 12)\n",
    "g2.set_xticklabels(xlabels2, size = 12)\n",
    "g2.fig.tight_layout()\n",
    "leg = g2._legend\n",
    "leg.set_bbox_to_anchor([1,0.7]) \n",
    "\n",
    "g2.axes[0,0].set_rasterized(True)\n",
    "g2.axes[0,1].set_rasterized(True)\n",
    "g2.axes[0,2].set_rasterized(True)\n",
    "g2.axes[0,3].set_rasterized(True)\n",
    "\n",
    "plt.savefig(os.path.join(figs3panelpaths, 'figS10a.png'), bbox_inches = 'tight')\n",
    "plt.savefig(os.path.join(figs3panelpaths, 'figS10a.eps'), bbox_inches = 'tight', format = 'eps', dpi = 200)"
   ]
  }
 ],
 "metadata": {
  "kernelspec": {
   "display_name": "Python 3 (ipykernel)",
   "language": "python",
   "name": "python3"
  },
  "language_info": {
   "codemirror_mode": {
    "name": "ipython",
    "version": 3
   },
   "file_extension": ".py",
   "mimetype": "text/x-python",
   "name": "python",
   "nbconvert_exporter": "python",
   "pygments_lexer": "ipython3",
   "version": "3.9.15"
  }
 },
 "nbformat": 4,
 "nbformat_minor": 4
}
