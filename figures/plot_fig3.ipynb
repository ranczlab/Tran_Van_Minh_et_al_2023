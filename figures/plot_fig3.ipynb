{
 "cells": [
  {
   "cell_type": "code",
   "execution_count": 1,
   "metadata": {},
   "outputs": [],
   "source": [
    "import numpy as np\n",
    "import os\n",
    "from pathlib import Path\n",
    "import pandas as pd\n",
    "import matplotlib.pyplot as plt\n",
    "import seaborn as sns\n",
    "hfont = {'fontname':'Myriad Pro'}\n",
    "import matplotlib.ticker as mtick\n",
    "from matplotlib import gridspec\n",
    "import sys\n",
    "sys.path.append(os.path.join(Path(os.getcwd()).parents[0], \"functions\"))\n",
    "import warnings\n",
    "warnings.filterwarnings('ignore')\n",
    "import helper_functions as hfn"
   ]
  },
  {
   "cell_type": "code",
   "execution_count": 2,
   "metadata": {},
   "outputs": [],
   "source": [
    "sns.set_style(\"ticks\")"
   ]
  },
  {
   "cell_type": "code",
   "execution_count": 3,
   "metadata": {},
   "outputs": [],
   "source": [
    "path = Path(os.getcwd()).parents[0]\n",
    "\n",
    "modelpath = os.path.join(path, 'configuration_model')\n",
    "\n",
    "\n",
    "datapath = os.path.join(modelpath, 'analysis')\n",
    "\n",
    "figpath = os.path.join(path, 'figures')\n",
    "hfn.dir_check(figpath)\n",
    "    \n",
    "fig3path = os.path.join(figpath, 'Fig3')\n",
    "hfn.dir_check(fig3path)\n",
    "\n",
    "fig3panelpaths = os.path.join(fig3path, 'panels')\n",
    "hfn.dir_check(fig3panelpaths)"
   ]
  },
  {
   "cell_type": "markdown",
   "metadata": {},
   "source": [
    "# load summary dataframe"
   ]
  },
  {
   "cell_type": "code",
   "execution_count": 4,
   "metadata": {},
   "outputs": [
    {
     "ename": "FileNotFoundError",
     "evalue": "File /Users/rancze/Documents/GitHub/Tran_Van_Minh_et_al_2023/configuration_model/analysis/allpars_df.h5 does not exist",
     "output_type": "error",
     "traceback": [
      "\u001b[0;31m---------------------------------------------------------------------------\u001b[0m",
      "\u001b[0;31mFileNotFoundError\u001b[0m                         Traceback (most recent call last)",
      "\u001b[0;32m/var/folders/n7/dvksxsf55hxbzrrfm5gv88cwmxqfb7/T/ipykernel_70563/834505004.py\u001b[0m in \u001b[0;36m<module>\u001b[0;34m\u001b[0m\n\u001b[0;32m----> 1\u001b[0;31m \u001b[0mpars_df\u001b[0m \u001b[0;34m=\u001b[0m \u001b[0mpd\u001b[0m\u001b[0;34m.\u001b[0m\u001b[0mread_hdf\u001b[0m\u001b[0;34m(\u001b[0m\u001b[0mos\u001b[0m\u001b[0;34m.\u001b[0m\u001b[0mpath\u001b[0m\u001b[0;34m.\u001b[0m\u001b[0mjoin\u001b[0m\u001b[0;34m(\u001b[0m\u001b[0mdatapath\u001b[0m\u001b[0;34m,\u001b[0m \u001b[0;34m'allpars_df.h5'\u001b[0m\u001b[0;34m)\u001b[0m\u001b[0;34m)\u001b[0m\u001b[0;34m\u001b[0m\u001b[0;34m\u001b[0m\u001b[0m\n\u001b[0m",
      "\u001b[0;32m~/opt/anaconda3/lib/python3.9/site-packages/pandas/io/pytables.py\u001b[0m in \u001b[0;36mread_hdf\u001b[0;34m(path_or_buf, key, mode, errors, where, start, stop, columns, iterator, chunksize, **kwargs)\u001b[0m\n\u001b[1;32m    425\u001b[0m \u001b[0;34m\u001b[0m\u001b[0m\n\u001b[1;32m    426\u001b[0m         \u001b[0;32mif\u001b[0m \u001b[0;32mnot\u001b[0m \u001b[0mexists\u001b[0m\u001b[0;34m:\u001b[0m\u001b[0;34m\u001b[0m\u001b[0;34m\u001b[0m\u001b[0m\n\u001b[0;32m--> 427\u001b[0;31m             \u001b[0;32mraise\u001b[0m \u001b[0mFileNotFoundError\u001b[0m\u001b[0;34m(\u001b[0m\u001b[0;34mf\"File {path_or_buf} does not exist\"\u001b[0m\u001b[0;34m)\u001b[0m\u001b[0;34m\u001b[0m\u001b[0;34m\u001b[0m\u001b[0m\n\u001b[0m\u001b[1;32m    428\u001b[0m \u001b[0;34m\u001b[0m\u001b[0m\n\u001b[1;32m    429\u001b[0m         \u001b[0mstore\u001b[0m \u001b[0;34m=\u001b[0m \u001b[0mHDFStore\u001b[0m\u001b[0;34m(\u001b[0m\u001b[0mpath_or_buf\u001b[0m\u001b[0;34m,\u001b[0m \u001b[0mmode\u001b[0m\u001b[0;34m=\u001b[0m\u001b[0mmode\u001b[0m\u001b[0;34m,\u001b[0m \u001b[0merrors\u001b[0m\u001b[0;34m=\u001b[0m\u001b[0merrors\u001b[0m\u001b[0;34m,\u001b[0m \u001b[0;34m**\u001b[0m\u001b[0mkwargs\u001b[0m\u001b[0;34m)\u001b[0m\u001b[0;34m\u001b[0m\u001b[0;34m\u001b[0m\u001b[0m\n",
      "\u001b[0;31mFileNotFoundError\u001b[0m: File /Users/rancze/Documents/GitHub/Tran_Van_Minh_et_al_2023/configuration_model/analysis/allpars_df.h5 does not exist"
     ]
    }
   ],
   "source": [
    "pars_df = pd.read_hdf(os.path.join(datapath, 'allpars_df.h5'))"
   ]
  },
  {
   "cell_type": "code",
   "execution_count": null,
   "metadata": {},
   "outputs": [],
   "source": [
    "pars_df = pars_df.sort_values(by = ['input_degree', 'starter_degree'])"
   ]
  },
  {
   "cell_type": "code",
   "execution_count": null,
   "metadata": {},
   "outputs": [],
   "source": [
    "pars_df.head()"
   ]
  },
  {
   "cell_type": "code",
   "execution_count": null,
   "metadata": {},
   "outputs": [],
   "source": [
    "pars_df.starter_degree.unique()"
   ]
  },
  {
   "cell_type": "code",
   "execution_count": null,
   "metadata": {},
   "outputs": [],
   "source": [
    "pars_df.input_degree.unique()"
   ]
  },
  {
   "cell_type": "code",
   "execution_count": null,
   "metadata": {},
   "outputs": [],
   "source": [
    "seq_col_bp= sns.color_palette(\"Oranges\", 4)\n",
    "seq_col_yg = sns.color_palette(\"Greens\", 5)"
   ]
  },
  {
   "cell_type": "code",
   "execution_count": null,
   "metadata": {},
   "outputs": [],
   "source": [
    "flierprops = dict(markeredgecolor='black',\n",
    "                      markerfacecolor='None')\n",
    "boxprops = dict(alpha=0.4)"
   ]
  },
  {
   "cell_type": "code",
   "execution_count": null,
   "metadata": {},
   "outputs": [],
   "source": [
    "f = plt.figure(figsize = (15, 10), constrained_layout = True)\n",
    "gs = f.add_gridspec(10,6)\n",
    "\n",
    "ax_title1 = f.add_subplot(gs[0:1, :3])\n",
    "plt.text(0.25, 0.5,'Effect of average starter degree', fontsize = 20)\n",
    "ax_title1.set_axis_off()\n",
    "ax_box1 = f.add_subplot(gs[1:2, :3])\n",
    "ax_hist1 = f.add_subplot(gs[2:5, :3])\n",
    "\n",
    "sns.boxplot(data = pars_df, \n",
    "            x = 'intercept', \n",
    "            y= 'starter_degree', \n",
    "            orient=\"h\", \n",
    "            ax=ax_box1, \n",
    "            palette = seq_col_bp[1:4], \n",
    "            linewidth = 0.75,\n",
    "            boxprops = boxprops,\n",
    "            flierprops = flierprops)\n",
    "h1 = sns.histplot(data = pars_df, \n",
    "                  x = 'intercept', \n",
    "                  hue = 'starter_degree', \n",
    "                  element=\"step\", \n",
    "                  ax = ax_hist1, \n",
    "                  palette = seq_col_bp[1:4], \n",
    "                  bins = 20)\n",
    "ax_box1.set_axis_off()\n",
    "ax_hist1.spines['right'].set_visible(False)\n",
    "ax_hist1.spines['top'].set_visible(False)\n",
    "h1.set_xlabel(\"intercept\",fontsize=16)\n",
    "h1.set_ylabel(\"counts\",fontsize=16)\n",
    "h1.tick_params(labelsize=12)\n",
    "\n",
    "ax_title2 = f.add_subplot(gs[0:1, 3:])\n",
    "plt.text(0.25,0.5,'Effect of average input degree', fontsize = 20)\n",
    "ax_title2.set_axis_off()\n",
    "ax_box2 = f.add_subplot(gs[1:2, 3:])\n",
    "ax_hist2 = f.add_subplot(gs[2:5, 3:])\n",
    "sns.boxplot(data = pars_df, \n",
    "            x = 'intercept', \n",
    "            y= 'input_degree', \n",
    "            orient=\"h\", \n",
    "            ax=ax_box2, \n",
    "            palette = seq_col_yg[0:4], \n",
    "            linewidth = 0.75,\n",
    "            boxprops = boxprops,\n",
    "            flierprops = flierprops)\n",
    "h2 = sns.histplot(data = pars_df, \n",
    "                  x = 'intercept', \n",
    "                  hue = 'input_degree', \n",
    "                  element=\"step\", \n",
    "                  ax = ax_hist2, \n",
    "                  palette = seq_col_yg[0:4], \n",
    "                  bins = 20)\n",
    "ax_box2.set_axis_off()\n",
    "ax_hist2.spines['right'].set_visible(False)\n",
    "ax_hist2.spines['top'].set_visible(False)\n",
    "h2.set_xlabel(\"intercept\",fontsize=16)\n",
    "h2.set_ylabel(\"counts\",fontsize=16)\n",
    "h2.tick_params(labelsize=12)\n",
    "\n",
    "ax_box3 = f.add_subplot(gs[5:6, :3])\n",
    "ax_hist3 = f.add_subplot(gs[6:10, :3])\n",
    "\n",
    "sns.boxplot(data = pars_df, \n",
    "            x = 'slope', \n",
    "            y= 'starter_degree', \n",
    "            orient=\"h\", \n",
    "            ax=ax_box3, \n",
    "            palette = seq_col_bp[1:4], \n",
    "            linewidth = 0.75,\n",
    "            boxprops = boxprops,\n",
    "            flierprops = flierprops)\n",
    "h3 = sns.histplot(data = pars_df, \n",
    "                  x = 'slope', \n",
    "                  hue = 'starter_degree', \n",
    "                  element=\"step\", \n",
    "                  ax = ax_hist3, \n",
    "                  palette = seq_col_bp[1:4], \n",
    "                  bins = 20)\n",
    "ax_box3.set_axis_off()\n",
    "ax_hist3.spines['right'].set_visible(False)\n",
    "ax_hist3.spines['top'].set_visible(False)\n",
    "\n",
    "h3.set_xlabel(\"slope\",fontsize=16)\n",
    "h3.set_ylabel(\"counts\",fontsize=16)\n",
    "h3.tick_params(labelsize=12)\n",
    "\n",
    "\n",
    "ax_box4 = f.add_subplot(gs[5:6, 3:])\n",
    "ax_hist4 = f.add_subplot(gs[6:10, 3:])\n",
    "\n",
    "sns.boxplot(data = pars_df, \n",
    "            x = 'slope', \n",
    "            y= 'input_degree', \n",
    "            orient=\"h\", \n",
    "            ax=ax_box4, \n",
    "            palette = seq_col_yg[0:4], \n",
    "            linewidth = 0.75,\n",
    "            boxprops = boxprops,\n",
    "            flierprops = flierprops)\n",
    "h4 = sns.histplot(data = pars_df, \n",
    "                  x = 'slope', \n",
    "                  hue = 'input_degree', \n",
    "                  element=\"step\", \n",
    "                  ax = ax_hist4, \n",
    "                  palette = seq_col_yg[0:4], \n",
    "                  bins = 20)\n",
    "ax_box4.set_axis_off()\n",
    "ax_hist4.spines['right'].set_visible(False)\n",
    "ax_hist4.spines['top'].set_visible(False)\n",
    "\n",
    "\n",
    "h4.set_xlabel(\"slope\",fontsize=16)\n",
    "h4.set_ylabel(\"counts\",fontsize=16)\n",
    "h4.tick_params(labelsize=12)\n",
    "            \n",
    "ax_box1.set_rasterized(True)\n",
    "ax_box2.set_rasterized(True)\n",
    "ax_box3.set_rasterized(True)\n",
    "ax_box4.set_rasterized(True)\n",
    "ax_hist1.set_rasterized(True)\n",
    "ax_hist2.set_rasterized(True)\n",
    "ax_hist3.set_rasterized(True)\n",
    "ax_hist4.set_rasterized(True)\n",
    "\n",
    "plt.savefig(os.path.join(fig3panelpaths, 'fig3.png'), bbox_inches = 'tight')\n",
    "plt.savefig(os.path.join(fig3panelpaths, 'fig3.eps'), bbox_inches = 'tight', format = 'eps', dpi = 200)"
   ]
  }
 ],
 "metadata": {
  "kernelspec": {
   "display_name": "Python 3 (ipykernel)",
   "language": "python",
   "name": "python3"
  },
  "language_info": {
   "codemirror_mode": {
    "name": "ipython",
    "version": 3
   },
   "file_extension": ".py",
   "mimetype": "text/x-python",
   "name": "python",
   "nbconvert_exporter": "python",
   "pygments_lexer": "ipython3",
   "version": "3.9.15"
  }
 },
 "nbformat": 4,
 "nbformat_minor": 4
}
