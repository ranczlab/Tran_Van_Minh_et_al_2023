{
 "cells": [
  {
   "cell_type": "code",
   "execution_count": 1,
   "id": "0714a546",
   "metadata": {},
   "outputs": [],
   "source": [
    "#this script creates csv files from data in data/FigS20_simulation \n",
    "#plotting for FigS20 was then done in Igor 7, packed experiment file available at figures/FigS20\n",
    "import os\n",
    "from pathlib import Path\n",
    "import sys\n",
    "sys.path.append(os.path.join(Path(os.getcwd()).parents[0], \"functions\"))\n",
    "import warnings\n",
    "warnings.filterwarnings('ignore')\n",
    "import slicing_functions as sf\n",
    "import helper_functions as hfn\n",
    "import pandas as pd\n",
    "import matplotlib.pyplot as plt\n",
    "\n",
    "%config Completer.use_jedi = False"
   ]
  },
  {
   "cell_type": "code",
   "execution_count": 2,
   "id": "4ba3bbd2",
   "metadata": {},
   "outputs": [],
   "source": [
    "path = Path(os.getcwd()).parents[0]\n",
    "datapath = os.path.join(path, 'data/FigS20_simulation/')\n",
    "outpath = os.path.join(datapath, 'figure_data')\n",
    "hfn.dir_check(outpath)"
   ]
  },
  {
   "cell_type": "code",
   "execution_count": 4,
   "id": "4e0db841",
   "metadata": {},
   "outputs": [],
   "source": [
    "df_data = pd.read_hdf(os.path.join(datapath, 'results_final.h5'))"
   ]
  },
  {
   "cell_type": "code",
   "execution_count": 11,
   "id": "3447bafd",
   "metadata": {},
   "outputs": [],
   "source": [
    "df_points = pd.DataFrame ()\n",
    "df_avg = pd.DataFrame ()\n",
    "df_std = pd.DataFrame ()\n",
    "df_var = pd.DataFrame ()\n",
    "\n",
    "for targetThickness in df_data.thickness.unique():\n",
    "    expID = str(targetThickness)\n",
    "    for targetKeep_every in df_data.keep_every.unique():\n",
    "        \n",
    "        df_sliced1 = df_data.set_index('thickness').loc[targetThickness].reset_index()\n",
    "        df_sliced2 = df_sliced1.set_index('keep_every').loc[targetKeep_every].reset_index()\n",
    "\n",
    "        if 'density_real' not in df_points:\n",
    "            df_points['density_real']= df_sliced2.packing_density\n",
    "        \n",
    "        if 'seed' not in df_points:\n",
    "            df_points['seed']= df_sliced2.seed\n",
    "            \n",
    "        if 'density' not in df_points:\n",
    "            df_points['density']= df_sliced2.density\n",
    "\n",
    "        newCol = 'kept'+str(int(targetKeep_every))\n",
    "        df_points[newCol]= df_sliced2.cells_ratio\n",
    "       \n",
    "        #using target density to average across repetitions      \n",
    "        df_avg = df_points.groupby(['density']).mean()\n",
    "        df_std = df_points.groupby(['density']).std()\n",
    "        df_var = df_points.groupby(['density']).var()\n",
    "        \n",
    "        #saving to csv\n",
    "        df_points.to_csv(os.path.join(outpath, str('points_'+expID+'µm_slices.csv')))\n",
    "        df_avg.to_csv(os.path.join(outpath, str('avg_'+expID+'µm_slices.csv')))\n",
    "        df_std.to_csv(os.path.join(outpath, str('std_'+expID+'µm_slices.csv')))\n",
    "        df_var.to_csv(os.path.join(outpath, str('var_'+expID+'µm_slices.csv')))"
   ]
  }
 ],
 "metadata": {
  "kernelspec": {
   "display_name": "Python 3 (ipykernel)",
   "language": "python",
   "name": "python3"
  },
  "language_info": {
   "codemirror_mode": {
    "name": "ipython",
    "version": 3
   },
   "file_extension": ".py",
   "mimetype": "text/x-python",
   "name": "python",
   "nbconvert_exporter": "python",
   "pygments_lexer": "ipython3",
   "version": "3.9.15"
  }
 },
 "nbformat": 4,
 "nbformat_minor": 5
}
