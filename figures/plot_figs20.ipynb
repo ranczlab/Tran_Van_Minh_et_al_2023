{
 "cells": [
  {
   "cell_type": "code",
   "execution_count": 8,
   "id": "0714a546",
   "metadata": {},
   "outputs": [],
   "source": [
    "import os\n",
    "from pathlib import Path\n",
    "import sys\n",
    "sys.path.append(os.path.join(Path(os.getcwd()).parents[0], \"functions\"))\n",
    "import warnings\n",
    "warnings.filterwarnings('ignore')\n",
    "import slicing_functions as sf\n",
    "import pandas as pd\n",
    "import matplotlib.pyplot as plt\n",
    "\n",
    "%config Completer.use_jedi = False"
   ]
  },
  {
   "cell_type": "code",
   "execution_count": 14,
   "id": "4ba3bbd2",
   "metadata": {},
   "outputs": [],
   "source": [
    "path = Path(os.getcwd()).parents[0]\n",
    "datapath = os.path.join(path, 'data/slicing_model/')"
   ]
  },
  {
   "cell_type": "code",
   "execution_count": 16,
   "id": "4e0db841",
   "metadata": {},
   "outputs": [],
   "source": [
    "df_data = pd.read_hdf(os.path.join(datapath, 'results_final.h5'))"
   ]
  },
  {
   "cell_type": "code",
   "execution_count": 17,
   "id": "3447bafd",
   "metadata": {},
   "outputs": [
    {
     "ename": "AttributeError",
     "evalue": "'DataFrame' object has no attribute 'density_real'",
     "output_type": "error",
     "traceback": [
      "\u001b[0;31m---------------------------------------------------------------------------\u001b[0m",
      "\u001b[0;31mAttributeError\u001b[0m                            Traceback (most recent call last)",
      "\u001b[0;32m/var/folders/n7/dvksxsf55hxbzrrfm5gv88cwmxqfb7/T/ipykernel_71338/4157276139.py\u001b[0m in \u001b[0;36m<module>\u001b[0;34m\u001b[0m\n\u001b[1;32m     12\u001b[0m \u001b[0;34m\u001b[0m\u001b[0m\n\u001b[1;32m     13\u001b[0m         \u001b[0;32mif\u001b[0m \u001b[0;34m'density_real'\u001b[0m \u001b[0;32mnot\u001b[0m \u001b[0;32min\u001b[0m \u001b[0mdf_points\u001b[0m\u001b[0;34m:\u001b[0m\u001b[0;34m\u001b[0m\u001b[0;34m\u001b[0m\u001b[0m\n\u001b[0;32m---> 14\u001b[0;31m             \u001b[0mdf_points\u001b[0m\u001b[0;34m[\u001b[0m\u001b[0;34m'density_real'\u001b[0m\u001b[0;34m]\u001b[0m\u001b[0;34m=\u001b[0m \u001b[0mdf_sliced2\u001b[0m\u001b[0;34m.\u001b[0m\u001b[0mdensity_real\u001b[0m\u001b[0;34m\u001b[0m\u001b[0;34m\u001b[0m\u001b[0m\n\u001b[0m\u001b[1;32m     15\u001b[0m \u001b[0;34m\u001b[0m\u001b[0m\n\u001b[1;32m     16\u001b[0m         \u001b[0;32mif\u001b[0m \u001b[0;34m'seed'\u001b[0m \u001b[0;32mnot\u001b[0m \u001b[0;32min\u001b[0m \u001b[0mdf_points\u001b[0m\u001b[0;34m:\u001b[0m\u001b[0;34m\u001b[0m\u001b[0;34m\u001b[0m\u001b[0m\n",
      "\u001b[0;32m~/opt/anaconda3/lib/python3.9/site-packages/pandas/core/generic.py\u001b[0m in \u001b[0;36m__getattr__\u001b[0;34m(self, name)\u001b[0m\n\u001b[1;32m   5573\u001b[0m         ):\n\u001b[1;32m   5574\u001b[0m             \u001b[0;32mreturn\u001b[0m \u001b[0mself\u001b[0m\u001b[0;34m[\u001b[0m\u001b[0mname\u001b[0m\u001b[0;34m]\u001b[0m\u001b[0;34m\u001b[0m\u001b[0;34m\u001b[0m\u001b[0m\n\u001b[0;32m-> 5575\u001b[0;31m         \u001b[0;32mreturn\u001b[0m \u001b[0mobject\u001b[0m\u001b[0;34m.\u001b[0m\u001b[0m__getattribute__\u001b[0m\u001b[0;34m(\u001b[0m\u001b[0mself\u001b[0m\u001b[0;34m,\u001b[0m \u001b[0mname\u001b[0m\u001b[0;34m)\u001b[0m\u001b[0;34m\u001b[0m\u001b[0;34m\u001b[0m\u001b[0m\n\u001b[0m\u001b[1;32m   5576\u001b[0m \u001b[0;34m\u001b[0m\u001b[0m\n\u001b[1;32m   5577\u001b[0m     \u001b[0;32mdef\u001b[0m \u001b[0m__setattr__\u001b[0m\u001b[0;34m(\u001b[0m\u001b[0mself\u001b[0m\u001b[0;34m,\u001b[0m \u001b[0mname\u001b[0m\u001b[0;34m:\u001b[0m \u001b[0mstr\u001b[0m\u001b[0;34m,\u001b[0m \u001b[0mvalue\u001b[0m\u001b[0;34m)\u001b[0m \u001b[0;34m->\u001b[0m \u001b[0;32mNone\u001b[0m\u001b[0;34m:\u001b[0m\u001b[0;34m\u001b[0m\u001b[0;34m\u001b[0m\u001b[0m\n",
      "\u001b[0;31mAttributeError\u001b[0m: 'DataFrame' object has no attribute 'density_real'"
     ]
    }
   ],
   "source": [
    "df_points = pd.DataFrame ()\n",
    "df_avg = pd.DataFrame ()\n",
    "df_std = pd.DataFrame ()\n",
    "df_var = pd.DataFrame ()\n",
    "\n",
    "for targetThickness in df_data.thickness.unique():\n",
    "    expID = str(targetThickness)\n",
    "    for targetKeep_every in df_data.keep_every.unique():\n",
    "        \n",
    "        df_sliced1 = df_data.set_index('thickness').loc[targetThickness].reset_index()\n",
    "        df_sliced2 = df_sliced1.set_index('keep_every').loc[targetKeep_every].reset_index()\n",
    "\n",
    "        if 'density_real' not in df_points:\n",
    "            df_points['density_real']= df_sliced2.density_real\n",
    "        \n",
    "        if 'seed' not in df_points:\n",
    "            df_points['seed']= df_sliced2.seed\n",
    "            \n",
    "        if 'density' not in df_points:\n",
    "            df_points['density']= df_sliced2.density\n",
    "\n",
    "        newCol = 'kept'+str(int(targetKeep_every))\n",
    "        df_points[newCol]= df_sliced2.cells_ratio\n",
    "       \n",
    "        #using target density to average across repetitions      \n",
    "        df_avg = df_points.groupby(['density']).mean()\n",
    "        df_std = df_points.groupby(['density']).std()\n",
    "        df_var = df_points.groupby(['density']).var()\n",
    "        \n",
    "        #saving to csv\n",
    "        df_points.to_csv('data/slicing_model/points_'+expID+'µm_slices.csv')\n",
    "        df_avg.to_csv('data/slicing_model/avg_'+expID+'µm_slices.csv')\n",
    "        df_std.to_csv('data/slicing_model/std_'+expID+'µm_slices.csv')\n",
    "        df_var.to_csv('data/slicing_model/var_'+expID+'µm_slices.csv')\n",
    "    "
   ]
  },
  {
   "cell_type": "code",
   "execution_count": null,
   "id": "fa1f4f4e-52c1-48f1-bc93-c7f16682c2b1",
   "metadata": {},
   "outputs": [],
   "source": []
  }
 ],
 "metadata": {
  "kernelspec": {
   "display_name": "Python 3 (ipykernel)",
   "language": "python",
   "name": "python3"
  },
  "language_info": {
   "codemirror_mode": {
    "name": "ipython",
    "version": 3
   },
   "file_extension": ".py",
   "mimetype": "text/x-python",
   "name": "python",
   "nbconvert_exporter": "python",
   "pygments_lexer": "ipython3",
   "version": "3.9.15"
  }
 },
 "nbformat": 4,
 "nbformat_minor": 5
}
