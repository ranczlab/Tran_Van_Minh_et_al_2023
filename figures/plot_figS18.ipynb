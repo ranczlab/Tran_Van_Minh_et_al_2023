{
 "cells": [
  {
   "cell_type": "code",
   "execution_count": 1,
   "metadata": {},
   "outputs": [],
   "source": [
    "import matplotlib.pyplot as plt\n",
    "import pandas as pd\n",
    "import numpy as np\n",
    "import os\n",
    "import pickle\n",
    "import re\n",
    "from pathlib import Path\n",
    "import scipy.stats as ss\n",
    "from scipy.optimize import curve_fit\n",
    "import seaborn as sns\n",
    "import sys\n",
    "sys.path.append(os.path.join(Path(os.getcwd()).parents[0], \"functions\"))\n",
    "import warnings\n",
    "warnings.filterwarnings('ignore')\n",
    "import helper_functions as hfn\n",
    "from matplotlib import gridspec"
   ]
  },
  {
   "cell_type": "code",
   "execution_count": 2,
   "metadata": {},
   "outputs": [],
   "source": [
    "from lmfit import Model\n",
    "from lmfit.models import LinearModel\n",
    "model_lm = LinearModel()"
   ]
  },
  {
   "cell_type": "code",
   "execution_count": 3,
   "metadata": {},
   "outputs": [],
   "source": [
    "colors = ['dark grey', 'slate grey','grey', 'warm grey','greyish']\n",
    "sns.set_palette = sns.xkcd_palette(colors)\n",
    "sns.set_style(\"ticks\")\n",
    "hfont = {'fontname':'Myriad Pro'}"
   ]
  },
  {
   "cell_type": "code",
   "execution_count": 4,
   "metadata": {},
   "outputs": [],
   "source": [
    "def make_res_inputratio_noplot(res_df):\n",
    "    n = len(res_df.area.unique())\n",
    "    res_df['new'] = (res_df.index/n+1).astype(int)\n",
    "    res_df['TotalInputs'] = res_df.groupby('new')['inputs'].transform('sum')\n",
    "    res_df['area_ratio'] = res_df['inputs']/ res_df['TotalInputs']\n",
    "    return res_df"
   ]
  },
  {
   "cell_type": "code",
   "execution_count": 5,
   "metadata": {},
   "outputs": [],
   "source": [
    "def make_res_ci_noplot(res_df):\n",
    "    n = len(res_df.area.unique())\n",
    "    res_df['area_ci'] = res_df['inputs']/ res_df['starters']\n",
    "    return res_df"
   ]
  },
  {
   "cell_type": "code",
   "execution_count": 6,
   "metadata": {},
   "outputs": [],
   "source": [
    "def func(x, a, b, c):\n",
    "\treturn a * x**2 + b * x + c"
   ]
  },
  {
   "cell_type": "code",
   "execution_count": 7,
   "metadata": {},
   "outputs": [],
   "source": [
    "def func3(x, a, b, c, d):\n",
    "\treturn a * x**3 + b * x**2 + c * x + d"
   ]
  },
  {
   "cell_type": "code",
   "execution_count": 8,
   "metadata": {},
   "outputs": [],
   "source": [
    "path = Path(os.getcwd()).parents[0]\n",
    "\n",
    "prob_path = os.path.join(path, 'probabilistic_model')\n",
    "\n",
    "datapath = os.path.join(prob_path, 'input_fractions')\n",
    "\n",
    "datapath_res = os.path.join(datapath, 'results')\n",
    "\n",
    "datapath_res_p = os.path.join(datapath_res, 'input_ratio_ni_cst')\n",
    "datapath_res_ni = os.path.join(datapath_res, 'input_ratio_p_cst')\n",
    "datapath_res_p_ni = os.path.join(datapath_res, 'input_ratio')\n",
    "\n",
    "figpath = os.path.join(path, 'figures')\n",
    "hfn.dir_check(figpath)\n",
    "\n",
    "figs52path = os.path.join(figpath, 'FigS18')\n",
    "hfn.dir_check(figs52path)\n",
    "\n",
    "figs52panelpaths = os.path.join(figs52path, 'panels')\n",
    "hfn.dir_check(figs52panelpaths)"
   ]
  },
  {
   "cell_type": "markdown",
   "metadata": {},
   "source": [
    "# plot data - Ni and pvarying"
   ]
  },
  {
   "cell_type": "code",
   "execution_count": 9,
   "metadata": {},
   "outputs": [
    {
     "ename": "FileNotFoundError",
     "evalue": "[Errno 2] No such file or directory: '/Users/rancze/Documents/GitHub/Tran_Van_Minh_et_al_2023/probabilistic_model/input_fractions/results/input_ratio/ni_arr.pickle'",
     "output_type": "error",
     "traceback": [
      "\u001b[0;31m---------------------------------------------------------------------------\u001b[0m",
      "\u001b[0;31mFileNotFoundError\u001b[0m                         Traceback (most recent call last)",
      "\u001b[0;32m/var/folders/n7/dvksxsf55hxbzrrfm5gv88cwmxqfb7/T/ipykernel_71017/2404521476.py\u001b[0m in \u001b[0;36m<module>\u001b[0;34m\u001b[0m\n\u001b[0;32m----> 1\u001b[0;31m \u001b[0;32mwith\u001b[0m \u001b[0mopen\u001b[0m\u001b[0;34m(\u001b[0m\u001b[0mos\u001b[0m\u001b[0;34m.\u001b[0m\u001b[0mpath\u001b[0m\u001b[0;34m.\u001b[0m\u001b[0mjoin\u001b[0m\u001b[0;34m(\u001b[0m\u001b[0mdatapath_res_p_ni\u001b[0m\u001b[0;34m,\u001b[0m \u001b[0;34m'ni_arr.pickle'\u001b[0m\u001b[0;34m)\u001b[0m\u001b[0;34m,\u001b[0m \u001b[0;34m'rb'\u001b[0m\u001b[0;34m)\u001b[0m \u001b[0;32mas\u001b[0m \u001b[0mfp\u001b[0m\u001b[0;34m:\u001b[0m\u001b[0;34m\u001b[0m\u001b[0;34m\u001b[0m\u001b[0m\n\u001b[0m\u001b[1;32m      2\u001b[0m     \u001b[0mni_arr\u001b[0m \u001b[0;34m=\u001b[0m \u001b[0mpickle\u001b[0m\u001b[0;34m.\u001b[0m\u001b[0mload\u001b[0m\u001b[0;34m(\u001b[0m\u001b[0mfp\u001b[0m\u001b[0;34m)\u001b[0m\u001b[0;34m\u001b[0m\u001b[0;34m\u001b[0m\u001b[0m\n",
      "\u001b[0;31mFileNotFoundError\u001b[0m: [Errno 2] No such file or directory: '/Users/rancze/Documents/GitHub/Tran_Van_Minh_et_al_2023/probabilistic_model/input_fractions/results/input_ratio/ni_arr.pickle'"
     ]
    }
   ],
   "source": [
    "with open(os.path.join(datapath_res_p_ni, 'ni_arr.pickle'), 'rb') as fp:\n",
    "    ni_arr = pickle.load(fp)"
   ]
  },
  {
   "cell_type": "code",
   "execution_count": null,
   "metadata": {},
   "outputs": [],
   "source": [
    "with open(os.path.join(datapath_res_p_ni, 'p_arr.pickle'), 'rb') as fp:\n",
    "    p_arr = pickle.load(fp)"
   ]
  },
  {
   "cell_type": "code",
   "execution_count": null,
   "metadata": {},
   "outputs": [],
   "source": [
    "p_arr_df = pd.DataFrame(p_arr)\n",
    "p_arr_df['range'] = p_arr_df.max(axis = 1) - p_arr_df.min(axis = 1)\n",
    "ni_arr_df = pd.DataFrame(ni_arr)\n",
    "ni_arr_df['range'] = ni_arr_df.max(axis = 1) - ni_arr_df.min(axis = 1)\n",
    "test_ind_pni = p_arr_df['range'].argmax()"
   ]
  },
  {
   "cell_type": "code",
   "execution_count": null,
   "metadata": {},
   "outputs": [],
   "source": [
    "test_ind_pni"
   ]
  },
  {
   "cell_type": "code",
   "execution_count": null,
   "metadata": {},
   "outputs": [],
   "source": [
    "allfiles_pni = [f for f in os.listdir(datapath_res_p_ni) if (os.path.isfile(os.path.join(datapath_res_p_ni, f)) & f.startswith('res'))]"
   ]
  },
  {
   "cell_type": "code",
   "execution_count": null,
   "metadata": {},
   "outputs": [],
   "source": [
    "# load file for example plots\n",
    "thisfile_pni = os.path.join(datapath_res_p_ni, 'res_df_' + str(test_ind_pni)+'.h5')\n",
    "thisdf_pni = pd.read_hdf(thisfile_pni)"
   ]
  },
  {
   "cell_type": "code",
   "execution_count": null,
   "metadata": {},
   "outputs": [],
   "source": [
    "thisdf_pni = make_res_inputratio_noplot(thisdf_pni)"
   ]
  },
  {
   "cell_type": "code",
   "execution_count": null,
   "metadata": {},
   "outputs": [],
   "source": [
    "thisdf_pni = make_res_ci_noplot(thisdf_pni)"
   ]
  },
  {
   "cell_type": "code",
   "execution_count": null,
   "metadata": {},
   "outputs": [],
   "source": [
    "f1= plt.figure(figsize = (5,5), constrained_layout=True)\n",
    "ax1 = f1.add_subplot(121)\n",
    "im = plt.imshow(ni_arr_df, cmap = 'viridis')\n",
    "plt.ylabel('iteration', fontsize = 16)\n",
    "plt.xlabel('area', fontsize = 16)\n",
    "\n",
    "cbar1 = f1.colorbar(im)\n",
    "cbar1.ax.set_title('Ni', fontsize = 16)\n",
    "ax2 = f1.add_subplot(122)\n",
    "im2 = plt.imshow(p_arr_df, cmap = 'viridis')\n",
    "plt.ylabel('iteration', fontsize = 16)\n",
    "plt.xlabel('area', fontsize = 16)\n",
    "\n",
    "ax2.annotate('', xy=(0.9, 0.605), xycoords='axes fraction', xytext=(1.7,0.605), \n",
    "            arrowprops=dict(arrowstyle=\"->\", color='xkcd:crimson',lw=2))\n",
    "cbar2 = f1.colorbar(im2)\n",
    "cbar2.ax.set_title('p', fontsize = 16)\n",
    "plt.savefig(os.path.join(figs52panelpaths, 'figS18a.png'), bbox_inches = 'tight')\n",
    "plt.savefig(os.path.join(figs52panelpaths, 'figS18a.eps'), bbox_inches = 'tight', format = 'eps')"
   ]
  },
  {
   "cell_type": "code",
   "execution_count": null,
   "metadata": {},
   "outputs": [],
   "source": [
    "thisdf_pni['p']= thisdf_pni.apply(lambda row: p_arr_df.iloc[test_ind_pni, int(row.area)], axis=1)\n",
    "thisdf_pni = thisdf_pni.sort_values(by=['p'])\n",
    "thisdf_pni['area_p'] = thisdf_pni.groupby('p').ngroup()+1"
   ]
  },
  {
   "cell_type": "code",
   "execution_count": null,
   "metadata": {},
   "outputs": [],
   "source": [
    "f2 = plt.figure(figsize = (7,5), constrained_layout=True)\n",
    "for i in range(5):\n",
    "    this_res_df = thisdf_pni[thisdf_pni.area_p == i+1]\n",
    "    plt.plot(this_res_df.starters, this_res_df.inputs, 'o', c = sns.xkcd_palette(colors)[i], label = 'area ' + str(i+1))#+ '\\nNi = 100, p = '+ \"{:.4f}\".format(p_arr_df.iloc[42, i]))\n",
    "plt.xlabel('starters', fontsize = 16)\n",
    "plt.ylabel('inputs', fontsize = 16)\n",
    "\n",
    "ax = plt.gca()\n",
    "ax.spines['right'].set_visible(False)\n",
    "ax.spines['top'].set_visible(False)\n",
    "\n",
    "for label in (ax.get_xticklabels() + ax.get_yticklabels()):\n",
    "    label.set_fontsize(14)\n",
    "    \n",
    "plt.legend(loc='center left', bbox_to_anchor=(1, 0.5))\n",
    "plt.savefig(os.path.join(figs52panelpaths, 'figS18b.png'), bbox_inches = 'tight')\n",
    "plt.savefig(os.path.join(figs52panelpaths, 'figS18b.eps'), bbox_inches = 'tight', format = 'eps')"
   ]
  },
  {
   "cell_type": "code",
   "execution_count": null,
   "metadata": {},
   "outputs": [],
   "source": [
    "f3 = plt.figure(figsize = (15,5), constrained_layout = True)\n",
    "\n",
    "gs = f3.add_gridspec(1,5)\n",
    "\n",
    "ax = {}\n",
    "for i in range(5):\n",
    "    ax[i] = f3.add_subplot(gs[:, i:(i)+1])#(1, 5 , i+1)\n",
    "    this_res_df = thisdf_pni[thisdf_pni.area_p == i+1].dropna()\n",
    "    this_res_df = this_res_df.sort_values(by=['starters'])\n",
    "    thisx = this_res_df.starters\n",
    "    thisy = this_res_df.area_ratio\n",
    "    popt, pcov = curve_fit(func, thisx, thisy)\n",
    "    \n",
    "    ax[i].plot(this_res_df.starters, this_res_df.area_ratio, 'o', c = sns.xkcd_palette(colors)[i])#'C'+str(i))\n",
    "    ax[i].plot(thisx, func(thisx, *popt), c = 'k')\n",
    "    ax[i].set_title('area : ' + str(i+1) + '\\nNi = '+ \"{:d}\".format(ni_arr_df.iloc[test_ind_pni, i])+ ', p = '+ \"{:.4f}\".format(this_res_df.p.unique()[0]), fontsize = 16)\n",
    "    ax[i].set_ylim(0,1)\n",
    "    ax[i].set_xlabel('# starters', fontsize = 16)\n",
    "\n",
    "    ax[i].spines['right'].set_visible(False)\n",
    "    ax[i].spines['top'].set_visible(False)\n",
    "\n",
    "    for label in (ax[i].get_xticklabels() + ax[i].get_yticklabels()):\n",
    "        label.set_fontsize(14)\n",
    "        \n",
    "for i in [1,2,3,4]:\n",
    "    ax[i].yaxis.set_visible(False)\n",
    "ax[0].set_ylabel('input fraction', fontsize = 16)\n",
    "plt.savefig(os.path.join(figs52panelpaths, 'figS18d.png'), bbox_inches = 'tight')\n",
    "plt.savefig(os.path.join(figs52panelpaths, 'figS18d.eps'), bbox_inches = 'tight', format = 'eps')"
   ]
  },
  {
   "cell_type": "code",
   "execution_count": null,
   "metadata": {},
   "outputs": [],
   "source": [
    "this_df_an_pni = []\n",
    "for file in allfiles_pni:\n",
    "    thisind = re.search(r'\\d+', file).group()\n",
    "    thisfile = os.path.join(datapath_res_p_ni, file)\n",
    "    thisdf = pd.read_hdf(thisfile)\n",
    "    thisdf = make_res_inputratio_noplot(thisdf)\n",
    "    for area in range(5):\n",
    "        dfarea = thisdf[thisdf.area == area].dropna()\n",
    "        # fit polynomial\n",
    "        thisx = dfarea.starters\n",
    "        thisy = dfarea.area_ratio\n",
    "        popt, pcov = curve_fit(func, thisx, thisy)\n",
    "        dfarea['fit'] = func(thisx, *popt)\n",
    "        dfarealow = dfarea[dfarea.starters <= 100].dropna()\n",
    "        dfareahigh = dfarea[dfarea.starters >= 900].dropna()\n",
    "        xlow = dfarealow.starters\n",
    "        ylow = dfarealow.area_ratio\n",
    "\n",
    "        xhigh = dfareahigh.starters\n",
    "        yhigh = dfareahigh.area_ratio\n",
    "\n",
    "        pars_low = model_lm.guess(ylow, x = xlow)\n",
    "        results_low = model_lm.fit(ylow, pars_low, x = xlow)\n",
    "\n",
    "        pars_high = model_lm.guess(yhigh, x = xhigh)\n",
    "        results_high = model_lm.fit(yhigh, pars_high, x = xhigh)\n",
    "        this_df_an_pni.append({'ind': thisind, 'area' : area, 'ratio_low' : dfarealow.area_ratio.mean(), 'ratio_high' : dfareahigh.area_ratio.mean(), 'ratio_fit_low' : dfarealow.fit.mean(), 'ratio_fit_high' : dfareahigh.fit.mean(), 'slope_low' : results_low.params['slope'].value, 'slope_high' : results_high.params['slope'].value})\n",
    "an_df_pni = pd.DataFrame(this_df_an_pni)"
   ]
  },
  {
   "cell_type": "code",
   "execution_count": null,
   "metadata": {},
   "outputs": [],
   "source": [
    "an_df_pni['ratio_fit_diff'] = an_df_pni['ratio_fit_high'] - an_df_pni['ratio_fit_low']\n",
    "an_df_pni['ratio_fit_ratio'] = an_df_pni['ratio_fit_high'] / an_df_pni['ratio_fit_low']"
   ]
  },
  {
   "cell_type": "code",
   "execution_count": null,
   "metadata": {},
   "outputs": [],
   "source": [
    "an_toplot_pni = an_df_pni[['ind','area','ratio_fit_low']]\n",
    "an_toplot_pni.columns = ['ind','area','ratio_fit']\n",
    "an_toplot_pni['starters'] = 'low'\n",
    "\n",
    "an_toplot2_pni = an_df_pni[['ind','area','ratio_fit_high']]\n",
    "an_toplot2_pni.columns = ['ind','area','ratio_fit']\n",
    "an_toplot2_pni['starters'] = 'high'\n",
    "\n",
    "an_toplot_pni = pd.concat([an_toplot_pni, an_toplot2_pni], axis =0)"
   ]
  },
  {
   "cell_type": "code",
   "execution_count": null,
   "metadata": {},
   "outputs": [],
   "source": [
    "this_an_df_pni = an_df_pni[an_df_pni.ind == str(test_ind_pni)]"
   ]
  },
  {
   "cell_type": "code",
   "execution_count": null,
   "metadata": {},
   "outputs": [],
   "source": [
    "f4= plt.figure(figsize = (4,5), constrained_layout=True)\n",
    "plt.scatter(np.ones(5), this_an_df_pni.ratio_fit_low, label = 'low starters')\n",
    "plt.scatter(np.ones(5)*1.5, this_an_df_pni.ratio_fit_high, label = 'high starters')\n",
    "plt.plot([np.ones(5),np.ones(5)*1.5], [this_an_df_pni.ratio_fit_low,this_an_df_pni.ratio_fit_high], 'gray')\n",
    "plt.axhline(0, c = 'k', ls = '--')\n",
    "\n",
    "# plt.ylim(-0.001, 0.001)\n",
    "plt.xlim(0.75, 1.75)\n",
    "plt.xticks([])\n",
    "# plt.legend()\n",
    "text_values = [\"low \\nstarters\", \"high \\nstarters\"]\n",
    "x_values = [1, 1.5]\n",
    "plt.xticks(x_values, text_values)\n",
    "ax = plt.gca()\n",
    "ax.spines['right'].set_visible(False)\n",
    "ax.spines['top'].set_visible(False)\n",
    "\n",
    "for label in (ax.get_xticklabels() + ax.get_yticklabels()):\n",
    "    label.set_fontsize(14)\n",
    "plt.ylabel('input fraction', fontsize = 16)\n",
    "plt.savefig(os.path.join(figs52panelpaths, 'figS18c.png'), bbox_inches = 'tight')\n",
    "plt.savefig(os.path.join(figs52panelpaths, 'figS18c.eps'), bbox_inches = 'tight', format = 'eps')\n"
   ]
  },
  {
   "cell_type": "code",
   "execution_count": null,
   "metadata": {},
   "outputs": [],
   "source": [
    "f5 = plt.figure(figsize = (10,5), constrained_layout = True)\n",
    "\n",
    "gs = f5.add_gridspec(1,4)\n",
    "\n",
    "\n",
    "ax1 = f5.add_subplot(gs[:, 0:2])\n",
    "ax2 = f5.add_subplot(gs[:, 2:])\n",
    "for ind in range(100):\n",
    "    if ind == test_ind_pni:\n",
    "        col0 = 'xkcd:grey'\n",
    "        col1 = 'xkcd:grey'\n",
    "        z = 1\n",
    "        alph = 1\n",
    "        ls0 = 's'\n",
    "        ls1 = 'o'\n",
    "        mec0 = 'k'\n",
    "        mec1 = 'k'\n",
    "    else:\n",
    "        col0 = 'C0'\n",
    "        col1 = 'C1'\n",
    "        mec0 = 'C0'\n",
    "        mec1 = 'C1'\n",
    "        z = -1\n",
    "        alph = 1\n",
    "        ls0 ='s-'\n",
    "        ls1 = 'o-'\n",
    "    this_an_df = an_df_pni[an_df_pni.ind == str(ind)]\n",
    "    this_an_df['p'] = this_an_df.apply(lambda row : p_arr_df.iloc[int(row.ind), int(row.area)], axis=1)\n",
    "    this_an_df = this_an_df.sort_values(by = ['p'])\n",
    "    ax1.plot(np.arange(5)+1,this_an_df.ratio_fit_low, ls0, c = col0, alpha = alph, zorder = z, mec = mec0)\n",
    "    ax2.plot(np.arange(5)+1,this_an_df.ratio_fit_high, ls1, c = col1, alpha = alph, zorder = z, mec = mec1)\n",
    "\n",
    "ax1.set_ylim(0, 0.8)\n",
    "ax2.set_ylim(0, 0.8)\n",
    "ax2.yaxis.set_visible(False)\n",
    "ax1.set_ylabel('input fraction', fontsize = 18)\n",
    "ax1.set_xlabel('area (by p-rank)', fontsize = 18)\n",
    "ax2.set_xlabel('area (by p-rank)', fontsize = 18)\n",
    "\n",
    "ax1.set_title('Low starters', fontsize = 18)\n",
    "ax2.set_title('High starters', fontsize = 18)\n",
    "\n",
    "\n",
    "ax1.spines['right'].set_visible(False)\n",
    "ax1.spines['top'].set_visible(False)\n",
    "ax2.spines['right'].set_visible(False)\n",
    "ax2.spines['top'].set_visible(False)\n",
    "\n",
    "for label in (ax1.get_xticklabels() + ax1.get_yticklabels() + ax2.get_xticklabels() + ax2.get_yticklabels()):\n",
    "    label.set_fontsize(14)\n",
    "plt.savefig(os.path.join(figs52panelpaths, 'figS18e.png'), bbox_inches = 'tight')\n",
    "plt.savefig(os.path.join(figs52panelpaths, 'figS18e.eps'), bbox_inches = 'tight', format = 'eps')"
   ]
  },
  {
   "cell_type": "code",
   "execution_count": null,
   "metadata": {},
   "outputs": [],
   "source": [
    "f7 = plt.figure(figsize = (10,5), constrained_layout = True)\n",
    "\n",
    "gs = f7.add_gridspec(1,4)\n",
    "\n",
    "\n",
    "ax1 = f7.add_subplot(gs[:, 0:2])\n",
    "ax2 = f7.add_subplot(gs[:, 2:])\n",
    "for ind in range(100):\n",
    "    if ind == test_ind_pni:\n",
    "        col0 = 'xkcd:grey'\n",
    "        col1 = 'xkcd:grey'\n",
    "        z = 1\n",
    "        alph = 1\n",
    "        ls0 = 's'\n",
    "        ls1 = 'o'\n",
    "        mec0 = 'k'\n",
    "        mec1 = 'k'\n",
    "    else:\n",
    "        col0 = 'C0'\n",
    "        col1 = 'C1'\n",
    "        mec0 = 'C0'\n",
    "        mec1 = 'C1'\n",
    "        z = -1\n",
    "        alph = 1\n",
    "        ls0 ='s-'\n",
    "        ls1 = 'o-'\n",
    "    this_an_df = an_df_pni[an_df_pni.ind == str(ind)]\n",
    "    this_an_df['Ni'] = this_an_df.apply(lambda row : ni_arr_df.iloc[int(row.ind), int(row.area)], axis=1)\n",
    "    this_an_df = this_an_df.sort_values(by = ['Ni'])\n",
    "    ax1.plot(np.arange(5)+1,this_an_df.ratio_fit_low, ls0, c = col0, alpha = alph, zorder = z, mec = mec0)\n",
    "    ax2.plot(np.arange(5)+1,this_an_df.ratio_fit_high, ls1, c = col1, alpha = alph, zorder = z, mec = mec1)\n",
    "\n",
    "ax1.set_ylim(0, 0.8)\n",
    "ax2.set_ylim(0, 0.8)\n",
    "ax2.yaxis.set_visible(False)\n",
    "ax1.set_ylabel('input fraction', fontsize = 18)\n",
    "ax1.set_xlabel('area (by Ni-rank)', fontsize = 18)\n",
    "ax2.set_xlabel('area (by Ni-rank)', fontsize = 18)\n",
    "\n",
    "ax1.set_title('Low starters', fontsize = 18)\n",
    "ax2.set_title('High starters', fontsize = 18)\n",
    "\n",
    "\n",
    "ax1.spines['right'].set_visible(False)\n",
    "ax1.spines['top'].set_visible(False)\n",
    "ax2.spines['right'].set_visible(False)\n",
    "ax2.spines['top'].set_visible(False)\n",
    "\n",
    "for label in (ax1.get_xticklabels() + ax1.get_yticklabels() + ax2.get_xticklabels() + ax2.get_yticklabels()):\n",
    "    label.set_fontsize(14)\n",
    "plt.savefig(os.path.join(figs52panelpaths, 'figS18g.png'), bbox_inches = 'tight')\n",
    "plt.savefig(os.path.join(figs52panelpaths, 'figS18g.eps'), bbox_inches = 'tight', format = 'eps')"
   ]
  },
  {
   "cell_type": "code",
   "execution_count": null,
   "metadata": {},
   "outputs": [],
   "source": [
    "f6 = plt.figure(figsize = (4,5), constrained_layout = True)\n",
    "for ind in range(99):\n",
    "    this_an_df = an_df_pni[an_df_pni.ind == str(ind)]\n",
    "    if ind == test_ind_pni:\n",
    "        col = 'xkcd:grey'\n",
    "        mec = 'k'\n",
    "        z = 1\n",
    "    else:\n",
    "        col = 'xkcd:dark'\n",
    "        mec = 'xkcd:dark'\n",
    "        z = -1\n",
    "    plt.plot(p_arr_df.iloc[ind, 0:5]/p_arr_df.iloc[ind, 0:5].mean(),this_an_df.ratio_fit_ratio, 'o', c = col, mec = mec, zorder = z)\n",
    "\n",
    "plt.axhline(1, ls = '--', c = 'k')\n",
    "plt.xlabel('p(area)/average p', fontsize = 16)\n",
    "plt.ylabel('input fraction (high/low starters)', fontsize = 16)\n",
    "plt.ylim(0,2)\n",
    "ax = plt.gca()\n",
    "ax.spines['right'].set_visible(False)\n",
    "ax.spines['top'].set_visible(False)\n",
    "\n",
    "for label in (ax.get_xticklabels() + ax.get_yticklabels()):\n",
    "    label.set_fontsize(14)\n",
    "plt.savefig(os.path.join(figs52panelpaths, 'figS18f.png'), bbox_inches = 'tight')\n",
    "plt.savefig(os.path.join(figs52panelpaths, 'figS18f.eps'), bbox_inches = 'tight', format = 'eps')"
   ]
  },
  {
   "cell_type": "code",
   "execution_count": null,
   "metadata": {},
   "outputs": [],
   "source": [
    "f8 = plt.figure(figsize = (4,5), constrained_layout = True)\n",
    "for ind in range(99):\n",
    "    this_an_df = an_df_pni[an_df_pni.ind == str(ind)]\n",
    "    if ind == test_ind_pni:\n",
    "        col = 'xkcd:grey'\n",
    "        mec = 'k'\n",
    "        z = 1\n",
    "    else:\n",
    "        col = 'xkcd:dark'\n",
    "        mec = 'xkcd:dark'\n",
    "        z = -1\n",
    "    plt.plot(ni_arr_df.iloc[ind, 0:5]/ni_arr_df.iloc[ind, 0:5].mean(),this_an_df.ratio_fit_ratio, 'o', c = col, mec = mec, zorder = z)\n",
    "\n",
    "plt.axhline(1, ls = '--', c = 'k')\n",
    "plt.xlabel('Ni(area)/average Ni', fontsize = 16)\n",
    "plt.ylabel('input fraction (high/low starters)', fontsize = 16)\n",
    "plt.ylim(0,5)\n",
    "ax = plt.gca()\n",
    "ax.spines['right'].set_visible(False)\n",
    "ax.spines['top'].set_visible(False)\n",
    "plt.locator_params(nbins=5)\n",
    "for label in (ax.get_xticklabels() + ax.get_yticklabels()):\n",
    "    label.set_fontsize(14)\n",
    "plt.savefig(os.path.join(figs52panelpaths, 'figS18h.png'), bbox_inches = 'tight')\n",
    "plt.savefig(os.path.join(figs52panelpaths, 'figS18h.eps'), bbox_inches = 'tight', format = 'eps')"
   ]
  }
 ],
 "metadata": {
  "kernelspec": {
   "display_name": "Python 3 (ipykernel)",
   "language": "python",
   "name": "python3"
  },
  "language_info": {
   "codemirror_mode": {
    "name": "ipython",
    "version": 3
   },
   "file_extension": ".py",
   "mimetype": "text/x-python",
   "name": "python",
   "nbconvert_exporter": "python",
   "pygments_lexer": "ipython3",
   "version": "3.9.15"
  }
 },
 "nbformat": 4,
 "nbformat_minor": 4
}
