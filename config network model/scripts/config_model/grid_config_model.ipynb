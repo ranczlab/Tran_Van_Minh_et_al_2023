{
 "cells": [
  {
   "cell_type": "code",
   "execution_count": 1,
   "id": "3b943979",
   "metadata": {},
   "outputs": [],
   "source": [
    "import sys\n",
    "import os\n",
    "\n",
    "if sys.platform == 'darwin': \n",
    "    import multiprocessing \n",
    "else:\n",
    "    import psutil\n",
    "\n",
    "import numpy as np\n",
    "import pandas as pd\n",
    "import itertools #install as more-itertools \n",
    "from pathlib import Path\n",
    "import networkx as nx\n",
    "from networkx.algorithms import bipartite\n",
    "import pickle #already part of standard library\n",
    "from scipy.stats import beta\n",
    "sys.path.append(os.path.join(str(Path(os.getcwd()).parents[1]), 'functions'))\n",
    "import network_functions as nxfn\n",
    "import helper_functions as hfn"
   ]
  },
  {
   "cell_type": "code",
   "execution_count": 2,
   "id": "3684c3d9",
   "metadata": {},
   "outputs": [],
   "source": [
    "if sys.platform == 'darwin': \n",
    "    available_cpu_count = multiprocessing.cpu_count()-2 #this is for macOS\n",
    "else:\n",
    "    available_cpu_count = len(psutil.Process().cpu_affinity()) #this is for unix cluster, not extensively tested     \n",
    "\n",
    "os.environ[\"MKL_NUM_THREADS\"] = str(available_cpu_count)"
   ]
  },
  {
   "cell_type": "code",
   "execution_count": 3,
   "id": "ed7c38e3",
   "metadata": {},
   "outputs": [],
   "source": [
    "np.random.seed(0)"
   ]
  },
  {
   "cell_type": "code",
   "execution_count": 5,
   "id": "196f311d",
   "metadata": {},
   "outputs": [
    {
     "ename": "IndexError",
     "evalue": "list index out of range",
     "output_type": "error",
     "traceback": [
      "\u001b[0;31m---------------------------------------------------------------------------\u001b[0m",
      "\u001b[0;31mIndexError\u001b[0m                                Traceback (most recent call last)",
      "\u001b[0;32m<ipython-input-5-1f6b8fbd8b47>\u001b[0m in \u001b[0;36m<module>\u001b[0;34m()\u001b[0m\n\u001b[1;32m      1\u001b[0m \u001b[0msys\u001b[0m\u001b[0;34m.\u001b[0m\u001b[0margv\u001b[0m \u001b[0;34m=\u001b[0m \u001b[0;34m''\u001b[0m\u001b[0;34m\u001b[0m\u001b[0m\n\u001b[0;32m----> 2\u001b[0;31m \u001b[0minput_index\u001b[0m \u001b[0;34m=\u001b[0m \u001b[0mint\u001b[0m\u001b[0;34m(\u001b[0m\u001b[0mlist\u001b[0m\u001b[0;34m(\u001b[0m\u001b[0msys\u001b[0m\u001b[0;34m.\u001b[0m\u001b[0margv\u001b[0m\u001b[0;34m)\u001b[0m\u001b[0;34m[\u001b[0m\u001b[0;36m1\u001b[0m\u001b[0;34m]\u001b[0m\u001b[0;34m)\u001b[0m \u001b[0;31m# read from bash script\u001b[0m\u001b[0;34m\u001b[0m\u001b[0m\n\u001b[0m",
      "\u001b[0;31mIndexError\u001b[0m: list index out of range"
     ]
    }
   ],
   "source": [
    "sys.argv = ''\n",
    "input_index = int(list(sys.argv)[1]) # read from bash script"
   ]
  },
  {
   "cell_type": "code",
   "execution_count": null,
   "id": "6ee2787f",
   "metadata": {},
   "outputs": [],
   "source": []
  }
 ],
 "metadata": {
  "kernelspec": {
   "display_name": "Python [conda env:rabies_network_models_p35]",
   "language": "python",
   "name": "conda-env-rabies_network_models_p35-py"
  },
  "language_info": {
   "codemirror_mode": {
    "name": "ipython",
    "version": 3
   },
   "file_extension": ".py",
   "mimetype": "text/x-python",
   "name": "python",
   "nbconvert_exporter": "python",
   "pygments_lexer": "ipython3",
   "version": "3.5.6"
  }
 },
 "nbformat": 4,
 "nbformat_minor": 5
}
