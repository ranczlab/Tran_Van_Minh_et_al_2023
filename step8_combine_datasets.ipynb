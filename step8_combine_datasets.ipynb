{
 "cells": [
  {
   "cell_type": "code",
   "execution_count": 1,
   "metadata": {},
   "outputs": [],
   "source": [
    "import numpy as np\n",
    "import pickle\n",
    "pickle.HIGHEST_PROTOCOL = 4\n",
    "import os\n",
    "import pandas as pd\n",
    "import matplotlib.pyplot as plt\n",
    "import matplotlib.ticker as mtick\n",
    "from matplotlib import gridspec\n",
    "# import plotly.express as px\n",
    "import seaborn as sns\n",
    "sns.set_style(\"ticks\")\n",
    "hfont = {'fontname':'Myriad Pro'}\n",
    "import sys\n",
    "sys.path.append(os.path.join(os.getcwd(), \"functions\"))\n",
    "import helper_functions as hfn\n",
    "import AIC_functions as aicfn\n",
    "import plotting_functions as plotfn"
   ]
  },
  {
   "cell_type": "code",
   "execution_count": 2,
   "metadata": {},
   "outputs": [],
   "source": [
    "import plotly\n",
    "#plotly.io.orca.config.executable ='C:\\\\Users\\\\tranvaa\\\\AppData\\\\Local\\\\Programs\\\\orca\\\\orca.exe'"
   ]
  },
  {
   "cell_type": "markdown",
   "metadata": {},
   "source": [
    "## **Description**\n",
    "Combine ectopic and own datasets to plot all in same graph "
   ]
  },
  {
   "cell_type": "code",
   "execution_count": 3,
   "metadata": {},
   "outputs": [],
   "source": [
    "path = os.getcwd()\n",
    "\n",
    "rawdatapath = os.path.join(path, 'data')\n",
    "datapath = os.path.join(rawdatapath, 'clean')\n",
    "\n",
    "extpath = os.path.join(path, 'data/external_data')"
   ]
  },
  {
   "cell_type": "code",
   "execution_count": 4,
   "metadata": {},
   "outputs": [],
   "source": [
    "data_main = aicfn.import_data(datapath)"
   ]
  },
  {
   "cell_type": "code",
   "execution_count": 5,
   "metadata": {},
   "outputs": [],
   "source": [
    "data_main['dataset'] = 'Rancz'\n",
    "data_main['rabies'] = 'N2C'\n",
    "data_main['G'] = 'G-N2C'\n",
    "data_main['cell_type'] = 'Pyr'\n",
    "data_main['area'] ='Ctx-Vis'"
   ]
  },
  {
   "cell_type": "code",
   "execution_count": 6,
   "metadata": {},
   "outputs": [
    {
     "data": {
      "text/plain": [
       "['data_Kim_2015',\n",
       " 'data_Gehrlach',\n",
       " 'data_Graham_projection',\n",
       " 'data_Brown',\n",
       " 'data_Graham_interneuron',\n",
       " 'data_Hafner',\n",
       " 'data_Takatoh',\n",
       " 'data_Wee',\n",
       " 'data_Vinograd',\n",
       " 'data_Allen',\n",
       " 'data_Fu',\n",
       " 'data_Sunetal',\n",
       " 'data_Pouchelon_P30',\n",
       " 'data_Pouchelon',\n",
       " 'data_Pouchelon_P5',\n",
       " 'data_Beier']"
      ]
     },
     "execution_count": 6,
     "metadata": {},
     "output_type": "execute_result"
    }
   ],
   "source": [
    "next(os.walk(extpath ))[1]"
   ]
  },
  {
   "cell_type": "code",
   "execution_count": 7,
   "metadata": {},
   "outputs": [],
   "source": [
    "data_vinograd = aicfn.import_data(os.path.join(extpath, 'data_Vinograd'))\n",
    "data_vinograd['dataset'] = 'Vinograd'\n",
    "data_vinograd['rabies'] = 'SAD'\n",
    "data_vinograd['G'] = 'oG'\n",
    "data_vinograd['cell_type'] = 'M/Tc'\n",
    "data_vinograd['area'] ='OB'"
   ]
  },
  {
   "cell_type": "code",
   "execution_count": 8,
   "metadata": {},
   "outputs": [],
   "source": [
    "data_graham_int = aicfn.import_data(os.path.join(extpath, 'data_Graham_interneuron'))\n",
    "data_graham_int['dataset'] = 'Graham'\n",
    "data_graham_int['rabies'] = 'N2C'\n",
    "data_graham_int['G'] = 'G-N2C'\n",
    "data_graham_int['cell_type'] = 'interneuron'\n",
    "data_graham_int['area'] ='Ctx-IL'"
   ]
  },
  {
   "cell_type": "code",
   "execution_count": 9,
   "metadata": {},
   "outputs": [],
   "source": [
    "data_graham_proj = aicfn.import_data(os.path.join(extpath, 'data_Graham_projection'))\n",
    "data_graham_proj['dataset'] = 'Graham'\n",
    "data_graham_proj['rabies'] = 'N2C'\n",
    "data_graham_proj['G'] = 'G-N2C'\n",
    "data_graham_proj['cell_type'] = 'interneuron'\n",
    "data_graham_proj['area'] ='Ctx-IL'"
   ]
  },
  {
   "cell_type": "code",
   "execution_count": 10,
   "metadata": {},
   "outputs": [],
   "source": [
    "data_takatoh = aicfn.import_data(os.path.join(extpath, 'data_Takatoh'))\n",
    "data_takatoh['dataset'] = 'Takatoh'\n",
    "data_takatoh['rabies'] = 'SAD'\n",
    "data_takatoh['G'] = 'oG'\n",
    "data_takatoh['cell_type'] = 'motorneuron'\n",
    "data_takatoh['area'] ='brainstem'"
   ]
  },
  {
   "cell_type": "code",
   "execution_count": 11,
   "metadata": {},
   "outputs": [],
   "source": [
    "data_gehrlach = aicfn.import_data(os.path.join(extpath, 'data_Gehrlach'))\n",
    "data_gehrlach['dataset'] = 'Gehrlach'\n",
    "data_gehrlach['rabies'] = 'SAD'\n",
    "data_gehrlach['G'] = 'G'\n",
    "data_gehrlach['cell_type'] = 'Pyr'\n",
    "data_gehrlach['area'] ='IC'\n",
    "for cond in data_gehrlach.condition:\n",
    "    if cond.startswith('GAD'):\n",
    "        data_gehrlach['cell_type'] = 'interneuron'"
   ]
  },
  {
   "cell_type": "code",
   "execution_count": 12,
   "metadata": {},
   "outputs": [],
   "source": [
    "data_fu = aicfn.import_data(os.path.join(extpath, 'data_Fu'))\n",
    "data_fu['dataset'] = 'Fu'\n",
    "data_fu['rabies'] = 'SAD'\n",
    "data_fu['G'] = 'G'\n",
    "data_fu['cell_type'] = 'VGlut'\n",
    "data_fu['area'] ='Amy'\n",
    "for cond in data_fu.condition:\n",
    "    if not cond.startswith('VGLUT'):\n",
    "        data_fu['cell_type'] = 'interneuron'"
   ]
  },
  {
   "cell_type": "code",
   "execution_count": 13,
   "metadata": {},
   "outputs": [
    {
     "name": "stderr",
     "output_type": "stream",
     "text": [
      "/var/folders/n7/dvksxsf55hxbzrrfm5gv88cwmxqfb7/T/ipykernel_34607/4118751771.py:6: SettingWithCopyWarning: \n",
      "A value is trying to be set on a copy of a slice from a DataFrame\n",
      "\n",
      "See the caveats in the documentation: https://pandas.pydata.org/pandas-docs/stable/user_guide/indexing.html#returning-a-view-versus-a-copy\n",
      "  data_beier.cell_type[data_beier.cell_type == 'GAD2'] = 'interneuron'\n"
     ]
    }
   ],
   "source": [
    "data_beier = aicfn.import_data(os.path.join(extpath, 'data_Beier'))\n",
    "data_beier['dataset'] = 'Beier'\n",
    "data_beier['rabies'] = 'SAD'\n",
    "data_beier['G'] = 'G'\n",
    "data_beier['area'] = 'VTA'\n",
    "data_beier.cell_type[data_beier.cell_type == 'GAD2'] = 'interneuron'\n"
   ]
  },
  {
   "cell_type": "code",
   "execution_count": 14,
   "metadata": {},
   "outputs": [],
   "source": [
    "data_pouchelon = aicfn.import_data(os.path.join(extpath, 'data_Pouchelon'))\n",
    "data_pouchelon['dataset'] = 'Pouchelon'\n",
    "data_pouchelon['rabies'] = 'N2C'\n",
    "data_pouchelon['G'] = 'G-N2C'\n",
    "data_pouchelon['area'] = 'Ctx'\n",
    "data_pouchelon.cell_type= 'interneuron'\n"
   ]
  },
  {
   "cell_type": "code",
   "execution_count": 15,
   "metadata": {},
   "outputs": [],
   "source": [
    "data_brown = aicfn.import_data(os.path.join(extpath, 'data_Brown'))\n",
    "data_brown['dataset'] = 'Brown'\n",
    "data_brown['rabies'] = 'SAD'\n",
    "data_brown['G'] = 'G'\n",
    "data_brown['cell_type'] = 'Pyr'\n",
    "data_brown['area'] ='Ctx-Vis'"
   ]
  },
  {
   "cell_type": "code",
   "execution_count": 16,
   "metadata": {},
   "outputs": [],
   "source": [
    "data_hafner = aicfn.import_data(os.path.join(extpath, 'data_Hafner'))\n",
    "data_hafner['dataset'] = 'Hafner'\n",
    "data_hafner['rabies'] = 'SAD'\n",
    "data_hafner['G'] = 'oG'\n",
    "data_hafner['cell_type'] = 'interneuron'\n",
    "data_hafner['area'] ='Ctx-SS'"
   ]
  },
  {
   "cell_type": "code",
   "execution_count": 17,
   "metadata": {},
   "outputs": [],
   "source": [
    "data_kim = aicfn.import_data(os.path.join(extpath, 'data_Kim_2015'))\n",
    "data_kim['dataset'] = 'Kim2015'\n",
    "data_kim['rabies'] = 'SAD'\n",
    "data_kim['G'] = 'PBG'\n",
    "data_kim['cell_type'] = 'Pyr'\n",
    "data_kim['area'] ='Ctx-Vis'"
   ]
  },
  {
   "cell_type": "code",
   "execution_count": 18,
   "metadata": {},
   "outputs": [],
   "source": [
    "data_sun = aicfn.import_data(os.path.join(extpath, 'data_Sunetal'))\n",
    "data_sun['dataset'] = 'Sun'\n",
    "data_sun['rabies'] = 'SAD'\n",
    "data_sun['G'] = 'G'\n",
    "data_sun['cell_type'] = 'interneuron'\n",
    "data_sun['area'] ='Ctx-PFC'"
   ]
  },
  {
   "cell_type": "code",
   "execution_count": 19,
   "metadata": {},
   "outputs": [],
   "source": [
    "data_wee = aicfn.import_data(os.path.join(extpath, 'data_Wee'))\n",
    "data_wee['dataset'] = 'Wee'\n",
    "data_wee['rabies'] = 'SAD'\n",
    "data_wee['G'] = 'G'\n",
    "data_wee['cell_type'] = 'Pyr'\n",
    "data_wee['area'] ='Subiculum'"
   ]
  },
  {
   "cell_type": "code",
   "execution_count": 20,
   "metadata": {},
   "outputs": [],
   "source": [
    "data_allen = aicfn.import_data(os.path.join(extpath, 'data_Allen'))\n",
    "data_allen['dataset'] = 'Allen'\n",
    "data_allen['rabies'] = 'N2C'\n",
    "data_allen['G'] = 'G-N2C'\n",
    "data_allen['cell_type'] = 'Pyr'\n",
    "data_allen['area'] ='Ctx-MOp'"
   ]
  },
  {
   "cell_type": "code",
   "execution_count": 21,
   "metadata": {},
   "outputs": [],
   "source": [
    "data_all = pd.concat([data_main, data_vinograd, data_beier, data_brown, data_hafner, data_kim, data_sun,data_wee,data_gehrlach, data_pouchelon, data_graham_int, data_graham_proj, data_takatoh, data_fu], axis = 0)"
   ]
  },
  {
   "cell_type": "code",
   "execution_count": 22,
   "metadata": {},
   "outputs": [],
   "source": [
    "data_log_all = hfn.make_log_df(data_all)"
   ]
  },
  {
   "cell_type": "code",
   "execution_count": 23,
   "metadata": {},
   "outputs": [
    {
     "name": "stderr",
     "output_type": "stream",
     "text": [
      "/var/folders/n7/dvksxsf55hxbzrrfm5gv88cwmxqfb7/T/ipykernel_34607/1119210206.py:1: PerformanceWarning: \n",
      "your performance may suffer as PyTables will pickle object types that it cannot\n",
      "map directly to c-types [inferred_type->mixed-integer,key->block1_values] [items->Index(['ID', 'condition', 'dataset', 'rabies', 'G', 'cell_type', 'area'], dtype='object')]\n",
      "\n",
      "  data_log_all.to_hdf(os.path.join(extpath, 'data_log_all.h5'), key = 'all_datasets', mode = 'w')\n"
     ]
    }
   ],
   "source": [
    "data_log_all.to_hdf(os.path.join(extpath, 'data_log_all.h5'), key = 'all_datasets', mode = 'w')"
   ]
  }
 ],
 "metadata": {
  "kernelspec": {
   "display_name": "Python 3 (ipykernel)",
   "language": "python",
   "name": "python3"
  },
  "language_info": {
   "codemirror_mode": {
    "name": "ipython",
    "version": 3
   },
   "file_extension": ".py",
   "mimetype": "text/x-python",
   "name": "python",
   "nbconvert_exporter": "python",
   "pygments_lexer": "ipython3",
   "version": "3.9.7"
  }
 },
 "nbformat": 4,
 "nbformat_minor": 4
}
