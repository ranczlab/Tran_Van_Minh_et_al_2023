{
 "cells": [
  {
   "cell_type": "code",
   "execution_count": 1,
   "metadata": {},
   "outputs": [],
   "source": [
    "import numpy as np\n",
    "import os\n",
    "import pandas as pd\n",
    "import sys\n",
    "sys.path.append(os.path.join(os.getcwd(), \"functions\"))\n",
    "import helper_functions as hfn"
   ]
  },
  {
   "cell_type": "markdown",
   "metadata": {},
   "source": [
    "### goal :\n",
    "\n",
    "Compare the fit parameters between V1 and PM\n",
    "we subtract the values from the residual bootstrap and see whether the 95% CI contains 0 (i.e. the params are not different)"
   ]
  },
  {
   "cell_type": "markdown",
   "metadata": {},
   "source": [
    "# define data and save paths"
   ]
  },
  {
   "cell_type": "code",
   "execution_count": 2,
   "metadata": {},
   "outputs": [],
   "source": [
    "path = os.getcwd()\n",
    "\n",
    "savepath = os.path.join(path, 'compare_linfit_params')\n",
    "hfn.dir_check(savepath)\n",
    "savepath_dataset = os.path.join(savepath, 'dataset')\n",
    "hfn.dir_check(savepath_dataset)\n",
    "savepath_all = os.path.join(savepath, 'all_targets')\n",
    "hfn.dir_check(savepath_all)\n",
    "savepath_v1pm = os.path.join(savepath, 'v1_pm')\n",
    "hfn.dir_check(savepath_v1pm)"
   ]
  },
  {
   "cell_type": "markdown",
   "metadata": {},
   "source": [
    "# load bootstrap values for intercepts"
   ]
  },
  {
   "cell_type": "code",
   "execution_count": 3,
   "metadata": {},
   "outputs": [],
   "source": [
    "dfboot_int_targets_PM = pd.read_csv(os.path.join(savepath, 'dfboot_int_targets_PM.csv'))\n",
    "dfboot_int_targets_V1 = pd.read_csv(os.path.join(savepath, 'dfboot_int_targets_V1.csv'))"
   ]
  },
  {
   "cell_type": "code",
   "execution_count": 4,
   "metadata": {},
   "outputs": [],
   "source": [
    "dfboot_int_targets_PM_lin = pd.read_csv(os.path.join(savepath, 'dfboot_int_targets_PM_lin.csv'))\n",
    "dfboot_int_targets_V1_lin = pd.read_csv(os.path.join(savepath, 'dfboot_int_targets_V1_lin.csv'))"
   ]
  },
  {
   "cell_type": "code",
   "execution_count": 5,
   "metadata": {},
   "outputs": [],
   "source": [
    "dfboot_int_targets_PM = dfboot_int_targets_PM.drop(dfboot_int_targets_PM.columns[[0]], axis=1)\n",
    "dfboot_int_targets_V1 = dfboot_int_targets_V1.drop(dfboot_int_targets_V1.columns[[0]], axis=1)"
   ]
  },
  {
   "cell_type": "code",
   "execution_count": 6,
   "metadata": {},
   "outputs": [],
   "source": [
    "dfboot_int_targets_PM_lin = dfboot_int_targets_PM_lin.drop(dfboot_int_targets_PM_lin.columns[[0]], axis=1)\n",
    "dfboot_int_targets_V1_lin = dfboot_int_targets_V1_lin.drop(dfboot_int_targets_V1_lin.columns[[0]], axis=1)"
   ]
  },
  {
   "cell_type": "code",
   "execution_count": 7,
   "metadata": {},
   "outputs": [],
   "source": [
    "dfboot_int_targets_sub = dfboot_int_targets_V1.copy()\n",
    "# calculate difference\n",
    "dfboot_int_targets_sub = dfboot_int_targets_sub.subtract(dfboot_int_targets_PM)\n",
    "# add quantiles\n",
    "dfboot_sub = pd.concat([dfboot_int_targets_sub.quantile(0.025, axis = 0), dfboot_int_targets_sub.quantile(0.975, axis = 0)], axis = 1, keys = ['low', 'high'])"
   ]
  },
  {
   "cell_type": "code",
   "execution_count": 8,
   "metadata": {},
   "outputs": [],
   "source": [
    "dfboot_int_targets_sub_lin = dfboot_int_targets_V1_lin.copy()\n",
    "# calculate difference\n",
    "dfboot_int_targets_sub_lin = dfboot_int_targets_sub_lin.subtract(dfboot_int_targets_PM_lin)\n",
    "# add quantiles\n",
    "dfboot_sub_lin = pd.concat([dfboot_int_targets_sub_lin.quantile(0.025, axis = 0), dfboot_int_targets_sub_lin.quantile(0.975, axis = 0)], axis = 1, keys = ['low', 'high'])"
   ]
  },
  {
   "cell_type": "code",
   "execution_count": 9,
   "metadata": {},
   "outputs": [],
   "source": [
    "dfboot_sub.to_csv(os.path.join(savepath, 'boot_difference_intercept.csv'))\n",
    "dfboot_sub_lin.to_csv(os.path.join(savepath, 'boot_difference_intercept_lin.csv'))"
   ]
  },
  {
   "cell_type": "code",
   "execution_count": 10,
   "metadata": {},
   "outputs": [
    {
     "data": {
      "text/html": [
       "<div>\n",
       "<style scoped>\n",
       "    .dataframe tbody tr th:only-of-type {\n",
       "        vertical-align: middle;\n",
       "    }\n",
       "\n",
       "    .dataframe tbody tr th {\n",
       "        vertical-align: top;\n",
       "    }\n",
       "\n",
       "    .dataframe thead th {\n",
       "        text-align: right;\n",
       "    }\n",
       "</style>\n",
       "<table border=\"1\" class=\"dataframe\">\n",
       "  <thead>\n",
       "    <tr style=\"text-align: right;\">\n",
       "      <th></th>\n",
       "      <th>low</th>\n",
       "      <th>high</th>\n",
       "    </tr>\n",
       "  </thead>\n",
       "  <tbody>\n",
       "    <tr>\n",
       "      <th>LGd</th>\n",
       "      <td>-273.517685</td>\n",
       "      <td>481.687968</td>\n",
       "    </tr>\n",
       "  </tbody>\n",
       "</table>\n",
       "</div>"
      ],
      "text/plain": [
       "            low        high\n",
       "LGd -273.517685  481.687968"
      ]
     },
     "execution_count": 10,
     "metadata": {},
     "output_type": "execute_result"
    }
   ],
   "source": [
    "dfboot_sub_lin"
   ]
  },
  {
   "cell_type": "code",
   "execution_count": 11,
   "metadata": {},
   "outputs": [
    {
     "data": {
      "text/html": [
       "<div>\n",
       "<style scoped>\n",
       "    .dataframe tbody tr th:only-of-type {\n",
       "        vertical-align: middle;\n",
       "    }\n",
       "\n",
       "    .dataframe tbody tr th {\n",
       "        vertical-align: top;\n",
       "    }\n",
       "\n",
       "    .dataframe thead th {\n",
       "        text-align: right;\n",
       "    }\n",
       "</style>\n",
       "<table border=\"1\" class=\"dataframe\">\n",
       "  <thead>\n",
       "    <tr style=\"text-align: right;\">\n",
       "      <th></th>\n",
       "      <th>low</th>\n",
       "      <th>high</th>\n",
       "    </tr>\n",
       "  </thead>\n",
       "  <tbody>\n",
       "    <tr>\n",
       "      <th>PTLp</th>\n",
       "      <td>-1.176512</td>\n",
       "      <td>0.604101</td>\n",
       "    </tr>\n",
       "    <tr>\n",
       "      <th>TEa</th>\n",
       "      <td>-0.581162</td>\n",
       "      <td>0.909801</td>\n",
       "    </tr>\n",
       "    <tr>\n",
       "      <th>VIS</th>\n",
       "      <td>-0.506878</td>\n",
       "      <td>0.695135</td>\n",
       "    </tr>\n",
       "    <tr>\n",
       "      <th>AUD</th>\n",
       "      <td>-0.813475</td>\n",
       "      <td>0.607768</td>\n",
       "    </tr>\n",
       "    <tr>\n",
       "      <th>RSP</th>\n",
       "      <td>-0.843961</td>\n",
       "      <td>0.537230</td>\n",
       "    </tr>\n",
       "    <tr>\n",
       "      <th>Thal</th>\n",
       "      <td>-0.560449</td>\n",
       "      <td>0.319702</td>\n",
       "    </tr>\n",
       "    <tr>\n",
       "      <th>Thal_noLGd</th>\n",
       "      <td>-0.762554</td>\n",
       "      <td>0.184784</td>\n",
       "    </tr>\n",
       "    <tr>\n",
       "      <th>Dist_ctx</th>\n",
       "      <td>-0.797619</td>\n",
       "      <td>0.555225</td>\n",
       "    </tr>\n",
       "    <tr>\n",
       "      <th>VISp</th>\n",
       "      <td>-0.348537</td>\n",
       "      <td>1.097375</td>\n",
       "    </tr>\n",
       "    <tr>\n",
       "      <th>VISpm</th>\n",
       "      <td>-1.230834</td>\n",
       "      <td>0.615823</td>\n",
       "    </tr>\n",
       "    <tr>\n",
       "      <th>VISl</th>\n",
       "      <td>-1.265786</td>\n",
       "      <td>-0.031670</td>\n",
       "    </tr>\n",
       "    <tr>\n",
       "      <th>VISam</th>\n",
       "      <td>-1.400653</td>\n",
       "      <td>0.181124</td>\n",
       "    </tr>\n",
       "    <tr>\n",
       "      <th>VISal</th>\n",
       "      <td>-0.618156</td>\n",
       "      <td>0.523352</td>\n",
       "    </tr>\n",
       "    <tr>\n",
       "      <th>RSPagl</th>\n",
       "      <td>-0.882950</td>\n",
       "      <td>0.648985</td>\n",
       "    </tr>\n",
       "    <tr>\n",
       "      <th>RSPd</th>\n",
       "      <td>-0.886632</td>\n",
       "      <td>0.538195</td>\n",
       "    </tr>\n",
       "    <tr>\n",
       "      <th>RSPv</th>\n",
       "      <td>-0.809021</td>\n",
       "      <td>0.526091</td>\n",
       "    </tr>\n",
       "    <tr>\n",
       "      <th>AM</th>\n",
       "      <td>-1.621532</td>\n",
       "      <td>-0.063114</td>\n",
       "    </tr>\n",
       "    <tr>\n",
       "      <th>LD</th>\n",
       "      <td>-0.414681</td>\n",
       "      <td>0.254710</td>\n",
       "    </tr>\n",
       "    <tr>\n",
       "      <th>LP</th>\n",
       "      <td>-1.186180</td>\n",
       "      <td>0.205253</td>\n",
       "    </tr>\n",
       "    <tr>\n",
       "      <th>LGd</th>\n",
       "      <td>-0.138277</td>\n",
       "      <td>1.540566</td>\n",
       "    </tr>\n",
       "    <tr>\n",
       "      <th>ORB</th>\n",
       "      <td>-1.269289</td>\n",
       "      <td>0.811271</td>\n",
       "    </tr>\n",
       "    <tr>\n",
       "      <th>ACA</th>\n",
       "      <td>-0.729003</td>\n",
       "      <td>0.691860</td>\n",
       "    </tr>\n",
       "    <tr>\n",
       "      <th>MOs</th>\n",
       "      <td>-0.375371</td>\n",
       "      <td>1.255323</td>\n",
       "    </tr>\n",
       "    <tr>\n",
       "      <th>CLA</th>\n",
       "      <td>-0.720452</td>\n",
       "      <td>0.747055</td>\n",
       "    </tr>\n",
       "    <tr>\n",
       "      <th>input</th>\n",
       "      <td>-0.470915</td>\n",
       "      <td>0.560497</td>\n",
       "    </tr>\n",
       "  </tbody>\n",
       "</table>\n",
       "</div>"
      ],
      "text/plain": [
       "                 low      high\n",
       "PTLp       -1.176512  0.604101\n",
       "TEa        -0.581162  0.909801\n",
       "VIS        -0.506878  0.695135\n",
       "AUD        -0.813475  0.607768\n",
       "RSP        -0.843961  0.537230\n",
       "Thal       -0.560449  0.319702\n",
       "Thal_noLGd -0.762554  0.184784\n",
       "Dist_ctx   -0.797619  0.555225\n",
       "VISp       -0.348537  1.097375\n",
       "VISpm      -1.230834  0.615823\n",
       "VISl       -1.265786 -0.031670\n",
       "VISam      -1.400653  0.181124\n",
       "VISal      -0.618156  0.523352\n",
       "RSPagl     -0.882950  0.648985\n",
       "RSPd       -0.886632  0.538195\n",
       "RSPv       -0.809021  0.526091\n",
       "AM         -1.621532 -0.063114\n",
       "LD         -0.414681  0.254710\n",
       "LP         -1.186180  0.205253\n",
       "LGd        -0.138277  1.540566\n",
       "ORB        -1.269289  0.811271\n",
       "ACA        -0.729003  0.691860\n",
       "MOs        -0.375371  1.255323\n",
       "CLA        -0.720452  0.747055\n",
       "input      -0.470915  0.560497"
      ]
     },
     "execution_count": 11,
     "metadata": {},
     "output_type": "execute_result"
    }
   ],
   "source": [
    "dfboot_sub"
   ]
  },
  {
   "cell_type": "code",
   "execution_count": 12,
   "metadata": {},
   "outputs": [
    {
     "data": {
      "text/plain": [
       "PTLp          1.310803\n",
       "TEa           1.457318\n",
       "VIS           1.069414\n",
       "AUD           1.031772\n",
       "RSP           1.071710\n",
       "Thal          0.634888\n",
       "Thal_noLGd    0.618000\n",
       "Dist_ctx      1.321343\n",
       "VISp          1.539761\n",
       "VISpm         1.252537\n",
       "VISl          0.371649\n",
       "VISam         0.727890\n",
       "VISal         1.006629\n",
       "RSPagl        1.227316\n",
       "RSPd          1.074424\n",
       "RSPv          0.994336\n",
       "AM            0.507398\n",
       "LD            0.536242\n",
       "LP            0.788473\n",
       "LGd           2.140697\n",
       "ORB           1.709405\n",
       "ACA           1.249458\n",
       "MOs           2.268332\n",
       "CLA           1.260158\n",
       "input         0.872673\n",
       "dtype: float64"
      ]
     },
     "execution_count": 12,
     "metadata": {},
     "output_type": "execute_result"
    }
   ],
   "source": [
    "dfboot_int_targets_sub.max()"
   ]
  },
  {
   "cell_type": "markdown",
   "metadata": {},
   "source": [
    "# same for slope"
   ]
  },
  {
   "cell_type": "code",
   "execution_count": 13,
   "metadata": {},
   "outputs": [],
   "source": [
    "dfboot_slope_targets_PM = pd.read_csv(os.path.join(savepath, 'dfboot_slope_targets_PM.csv'))\n",
    "dfboot_slope_targets_V1 = pd.read_csv(os.path.join(savepath, 'dfboot_slope_targets_V1.csv'))"
   ]
  },
  {
   "cell_type": "code",
   "execution_count": 14,
   "metadata": {},
   "outputs": [],
   "source": [
    "dfboot_slope_targets_PM = dfboot_slope_targets_PM.drop(dfboot_slope_targets_PM.columns[[0]], axis=1)\n",
    "dfboot_slope_targets_V1 = dfboot_slope_targets_V1.drop(dfboot_slope_targets_V1.columns[[0]], axis=1)"
   ]
  },
  {
   "cell_type": "code",
   "execution_count": 15,
   "metadata": {},
   "outputs": [],
   "source": [
    "dfboot_slope_targets_sub = dfboot_slope_targets_V1.copy()\n",
    "dfboot_slope_targets_sub = dfboot_slope_targets_sub.subtract(dfboot_slope_targets_PM)\n",
    "dfboot_slope_sub = pd.concat([dfboot_slope_targets_sub.quantile(0.025, axis = 0), dfboot_slope_targets_sub.quantile(0.975, axis = 0)], axis = 1, keys = ['low', 'high'])"
   ]
  },
  {
   "cell_type": "code",
   "execution_count": 16,
   "metadata": {},
   "outputs": [],
   "source": [
    "dfboot_slope_targets_PM_lin = pd.read_csv(os.path.join(savepath, 'dfboot_slope_targets_PM_lin.csv'))\n",
    "dfboot_slope_targets_V1_lin = pd.read_csv(os.path.join(savepath, 'dfboot_slope_targets_V1_lin.csv'))"
   ]
  },
  {
   "cell_type": "code",
   "execution_count": 17,
   "metadata": {},
   "outputs": [],
   "source": [
    "dfboot_slope_targets_PM_lin = dfboot_slope_targets_PM_lin.drop(dfboot_slope_targets_PM_lin.columns[[0]], axis=1)\n",
    "dfboot_slope_targets_V1_lin = dfboot_slope_targets_V1_lin.drop(dfboot_slope_targets_V1_lin.columns[[0]], axis=1)"
   ]
  },
  {
   "cell_type": "code",
   "execution_count": 18,
   "metadata": {},
   "outputs": [],
   "source": [
    "dfboot_slope_targets_sub_lin = dfboot_slope_targets_V1_lin.copy()\n",
    "dfboot_slope_targets_sub_lin = dfboot_slope_targets_sub_lin.subtract(dfboot_slope_targets_PM_lin)\n",
    "dfboot_slope_sub_lin = pd.concat([dfboot_slope_targets_sub_lin.quantile(0.025, axis = 0), dfboot_slope_targets_sub_lin.quantile(0.975, axis = 0)], axis = 1, keys = ['low', 'high'])"
   ]
  },
  {
   "cell_type": "code",
   "execution_count": 19,
   "metadata": {},
   "outputs": [],
   "source": [
    "dfboot_slope_sub.to_csv(os.path.join(savepath, 'boot_difference_slope.csv'))\n",
    "dfboot_slope_sub_lin.to_csv(os.path.join(savepath, 'boot_difference_slope_lin.csv'))"
   ]
  }
 ],
 "metadata": {
  "kernelspec": {
   "display_name": "Python 3 (ipykernel)",
   "language": "python",
   "name": "python3"
  },
  "language_info": {
   "codemirror_mode": {
    "name": "ipython",
    "version": 3
   },
   "file_extension": ".py",
   "mimetype": "text/x-python",
   "name": "python",
   "nbconvert_exporter": "python",
   "pygments_lexer": "ipython3",
   "version": "3.9.7"
  }
 },
 "nbformat": 4,
 "nbformat_minor": 4
}
